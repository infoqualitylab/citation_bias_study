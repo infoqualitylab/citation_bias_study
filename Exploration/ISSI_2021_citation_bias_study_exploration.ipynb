{
 "cells": [
  {
   "cell_type": "markdown",
   "metadata": {},
   "source": [
    "# Using Citation Bias to Guide Better Sampling of Scientific Literatures"
   ]
  },
  {
   "cell_type": "markdown",
   "metadata": {},
   "source": [
    "Author: Yuanxi Fu, Jasmine Yuan<br>\n",
    "Date: 2021-1-26<br>\n",
    "Code for the paper submitted to ISSI 2021"
   ]
  },
  {
   "cell_type": "markdown",
   "metadata": {},
   "source": [
    "## load data"
   ]
  },
  {
   "cell_type": "code",
   "execution_count": 2,
   "metadata": {},
   "outputs": [],
   "source": [
    "import pandas as pd\n",
    "from igraph import *\n",
    "import numpy as np\n",
    "import cairo\n",
    "import math\n",
    "from matplotlib import pyplot as plt\n",
    "\n",
    "# create attribute list\n",
    "# easy for this file because the first 6 columns are in fact attribute list\n",
    "attr_list = pd.read_csv('HTTLPR.csv', usecols=[0, 1, 2, 3, 4, 5])\n",
    "attr_list['PaperID'] = attr_list.index\n",
    "\n",
    "# create edge list\n",
    "matrix = pd.read_csv('HTTLPR.csv')\n"
   ]
  },
  {
   "cell_type": "code",
   "execution_count": 3,
   "metadata": {},
   "outputs": [
    {
     "data": {
      "text/html": [
       "<div>\n",
       "<style scoped>\n",
       "    .dataframe tbody tr th:only-of-type {\n",
       "        vertical-align: middle;\n",
       "    }\n",
       "\n",
       "    .dataframe tbody tr th {\n",
       "        vertical-align: top;\n",
       "    }\n",
       "\n",
       "    .dataframe thead th {\n",
       "        text-align: right;\n",
       "    }\n",
       "</style>\n",
       "<table border=\"1\" class=\"dataframe\">\n",
       "  <thead>\n",
       "    <tr style=\"text-align: right;\">\n",
       "      <th></th>\n",
       "      <th>Study</th>\n",
       "      <th>Year</th>\n",
       "      <th>YearOnline</th>\n",
       "      <th>Outcome</th>\n",
       "      <th>OutcomeSmallestPvalue</th>\n",
       "      <th>Abstract</th>\n",
       "      <th>Mossner</th>\n",
       "      <th>Caspi</th>\n",
       "      <th>Eley</th>\n",
       "      <th>Grabe_a</th>\n",
       "      <th>...</th>\n",
       "      <th>Comasco_a</th>\n",
       "      <th>Cicchetti_b</th>\n",
       "      <th>Jenness</th>\n",
       "      <th>Scheid_b</th>\n",
       "      <th>Quinn</th>\n",
       "      <th>Grabe_b</th>\n",
       "      <th>Petersen</th>\n",
       "      <th>Beaver</th>\n",
       "      <th>Brown</th>\n",
       "      <th>Wilhelm_b</th>\n",
       "    </tr>\n",
       "  </thead>\n",
       "  <tbody>\n",
       "    <tr>\n",
       "      <th>0</th>\n",
       "      <td>Mossner</td>\n",
       "      <td>2001</td>\n",
       "      <td>2001</td>\n",
       "      <td>Positive</td>\n",
       "      <td>Positive</td>\n",
       "      <td>Positive</td>\n",
       "      <td>NaN</td>\n",
       "      <td>NaN</td>\n",
       "      <td>NaN</td>\n",
       "      <td>NaN</td>\n",
       "      <td>...</td>\n",
       "      <td>NaN</td>\n",
       "      <td>NaN</td>\n",
       "      <td>NaN</td>\n",
       "      <td>NaN</td>\n",
       "      <td>NaN</td>\n",
       "      <td>NaN</td>\n",
       "      <td>NaN</td>\n",
       "      <td>NaN</td>\n",
       "      <td>NaN</td>\n",
       "      <td>NaN</td>\n",
       "    </tr>\n",
       "    <tr>\n",
       "      <th>1</th>\n",
       "      <td>Caspi</td>\n",
       "      <td>2003</td>\n",
       "      <td>2003</td>\n",
       "      <td>Positive</td>\n",
       "      <td>Positive</td>\n",
       "      <td>Positive</td>\n",
       "      <td>-</td>\n",
       "      <td>NaN</td>\n",
       "      <td>NaN</td>\n",
       "      <td>NaN</td>\n",
       "      <td>...</td>\n",
       "      <td>NaN</td>\n",
       "      <td>NaN</td>\n",
       "      <td>NaN</td>\n",
       "      <td>NaN</td>\n",
       "      <td>NaN</td>\n",
       "      <td>NaN</td>\n",
       "      <td>NaN</td>\n",
       "      <td>NaN</td>\n",
       "      <td>NaN</td>\n",
       "      <td>NaN</td>\n",
       "    </tr>\n",
       "    <tr>\n",
       "      <th>2</th>\n",
       "      <td>Eley</td>\n",
       "      <td>2004</td>\n",
       "      <td>2004</td>\n",
       "      <td>Negative</td>\n",
       "      <td>Negative</td>\n",
       "      <td>Positive</td>\n",
       "      <td>-</td>\n",
       "      <td>X</td>\n",
       "      <td>NaN</td>\n",
       "      <td>NaN</td>\n",
       "      <td>...</td>\n",
       "      <td>NaN</td>\n",
       "      <td>NaN</td>\n",
       "      <td>NaN</td>\n",
       "      <td>NaN</td>\n",
       "      <td>NaN</td>\n",
       "      <td>NaN</td>\n",
       "      <td>NaN</td>\n",
       "      <td>NaN</td>\n",
       "      <td>NaN</td>\n",
       "      <td>NaN</td>\n",
       "    </tr>\n",
       "    <tr>\n",
       "      <th>3</th>\n",
       "      <td>Grabe_a</td>\n",
       "      <td>2005</td>\n",
       "      <td>2004</td>\n",
       "      <td>Unclear</td>\n",
       "      <td>Unclear</td>\n",
       "      <td>Partially supportive</td>\n",
       "      <td>-</td>\n",
       "      <td>X</td>\n",
       "      <td>-</td>\n",
       "      <td>NaN</td>\n",
       "      <td>...</td>\n",
       "      <td>NaN</td>\n",
       "      <td>NaN</td>\n",
       "      <td>NaN</td>\n",
       "      <td>NaN</td>\n",
       "      <td>NaN</td>\n",
       "      <td>NaN</td>\n",
       "      <td>NaN</td>\n",
       "      <td>NaN</td>\n",
       "      <td>NaN</td>\n",
       "      <td>NaN</td>\n",
       "    </tr>\n",
       "    <tr>\n",
       "      <th>4</th>\n",
       "      <td>Kaufman_a</td>\n",
       "      <td>2004</td>\n",
       "      <td>2004</td>\n",
       "      <td>Positive</td>\n",
       "      <td>Positive</td>\n",
       "      <td>Positive</td>\n",
       "      <td>-</td>\n",
       "      <td>X</td>\n",
       "      <td>-</td>\n",
       "      <td>-</td>\n",
       "      <td>...</td>\n",
       "      <td>NaN</td>\n",
       "      <td>NaN</td>\n",
       "      <td>NaN</td>\n",
       "      <td>NaN</td>\n",
       "      <td>NaN</td>\n",
       "      <td>NaN</td>\n",
       "      <td>NaN</td>\n",
       "      <td>NaN</td>\n",
       "      <td>NaN</td>\n",
       "      <td>NaN</td>\n",
       "    </tr>\n",
       "    <tr>\n",
       "      <th>...</th>\n",
       "      <td>...</td>\n",
       "      <td>...</td>\n",
       "      <td>...</td>\n",
       "      <td>...</td>\n",
       "      <td>...</td>\n",
       "      <td>...</td>\n",
       "      <td>...</td>\n",
       "      <td>...</td>\n",
       "      <td>...</td>\n",
       "      <td>...</td>\n",
       "      <td>...</td>\n",
       "      <td>...</td>\n",
       "      <td>...</td>\n",
       "      <td>...</td>\n",
       "      <td>...</td>\n",
       "      <td>...</td>\n",
       "      <td>...</td>\n",
       "      <td>...</td>\n",
       "      <td>...</td>\n",
       "      <td>...</td>\n",
       "      <td>...</td>\n",
       "    </tr>\n",
       "    <tr>\n",
       "      <th>68</th>\n",
       "      <td>Grabe_b</td>\n",
       "      <td>2012</td>\n",
       "      <td>2012</td>\n",
       "      <td>Negative</td>\n",
       "      <td>Negative</td>\n",
       "      <td>Partially supportive</td>\n",
       "      <td>-</td>\n",
       "      <td>X</td>\n",
       "      <td>-</td>\n",
       "      <td>X</td>\n",
       "      <td>...</td>\n",
       "      <td>-</td>\n",
       "      <td>-</td>\n",
       "      <td>-</td>\n",
       "      <td>-</td>\n",
       "      <td>-</td>\n",
       "      <td>NaN</td>\n",
       "      <td>NaN</td>\n",
       "      <td>NaN</td>\n",
       "      <td>NaN</td>\n",
       "      <td>NaN</td>\n",
       "    </tr>\n",
       "    <tr>\n",
       "      <th>69</th>\n",
       "      <td>Petersen</td>\n",
       "      <td>2012</td>\n",
       "      <td>2012</td>\n",
       "      <td>Positive</td>\n",
       "      <td>Positive</td>\n",
       "      <td>Positive</td>\n",
       "      <td>-</td>\n",
       "      <td>X</td>\n",
       "      <td>X</td>\n",
       "      <td>-</td>\n",
       "      <td>...</td>\n",
       "      <td>-</td>\n",
       "      <td>-</td>\n",
       "      <td>-</td>\n",
       "      <td>-</td>\n",
       "      <td>-</td>\n",
       "      <td>-</td>\n",
       "      <td>NaN</td>\n",
       "      <td>NaN</td>\n",
       "      <td>NaN</td>\n",
       "      <td>NaN</td>\n",
       "    </tr>\n",
       "    <tr>\n",
       "      <th>70</th>\n",
       "      <td>Beaver</td>\n",
       "      <td>2012</td>\n",
       "      <td>2012</td>\n",
       "      <td>Positive</td>\n",
       "      <td>Positive</td>\n",
       "      <td>Partially supportive</td>\n",
       "      <td>-</td>\n",
       "      <td>X</td>\n",
       "      <td>-</td>\n",
       "      <td>-</td>\n",
       "      <td>...</td>\n",
       "      <td>-</td>\n",
       "      <td>-</td>\n",
       "      <td>-</td>\n",
       "      <td>-</td>\n",
       "      <td>-</td>\n",
       "      <td>-</td>\n",
       "      <td>-</td>\n",
       "      <td>NaN</td>\n",
       "      <td>NaN</td>\n",
       "      <td>NaN</td>\n",
       "    </tr>\n",
       "    <tr>\n",
       "      <th>71</th>\n",
       "      <td>Brown</td>\n",
       "      <td>2013</td>\n",
       "      <td>2012</td>\n",
       "      <td>Negative</td>\n",
       "      <td>Positive</td>\n",
       "      <td>Positive</td>\n",
       "      <td>-</td>\n",
       "      <td>X</td>\n",
       "      <td>X</td>\n",
       "      <td>-</td>\n",
       "      <td>...</td>\n",
       "      <td>-</td>\n",
       "      <td>-</td>\n",
       "      <td>-</td>\n",
       "      <td>-</td>\n",
       "      <td>-</td>\n",
       "      <td>-</td>\n",
       "      <td>-</td>\n",
       "      <td>-</td>\n",
       "      <td>NaN</td>\n",
       "      <td>NaN</td>\n",
       "    </tr>\n",
       "    <tr>\n",
       "      <th>72</th>\n",
       "      <td>Wilhelm_b</td>\n",
       "      <td>2012</td>\n",
       "      <td>2012</td>\n",
       "      <td>Negative</td>\n",
       "      <td>Positive</td>\n",
       "      <td>Positive</td>\n",
       "      <td>X</td>\n",
       "      <td>X</td>\n",
       "      <td>-</td>\n",
       "      <td>X</td>\n",
       "      <td>...</td>\n",
       "      <td>-</td>\n",
       "      <td>-</td>\n",
       "      <td>-</td>\n",
       "      <td>-</td>\n",
       "      <td>-</td>\n",
       "      <td>-</td>\n",
       "      <td>-</td>\n",
       "      <td>-</td>\n",
       "      <td>-</td>\n",
       "      <td>NaN</td>\n",
       "    </tr>\n",
       "  </tbody>\n",
       "</table>\n",
       "<p>73 rows × 79 columns</p>\n",
       "</div>"
      ],
      "text/plain": [
       "        Study  Year  YearOnline   Outcome OutcomeSmallestPvalue  \\\n",
       "0     Mossner  2001        2001  Positive              Positive   \n",
       "1       Caspi  2003        2003  Positive              Positive   \n",
       "2        Eley  2004        2004  Negative              Negative   \n",
       "3     Grabe_a  2005        2004   Unclear               Unclear   \n",
       "4   Kaufman_a  2004        2004  Positive              Positive   \n",
       "..        ...   ...         ...       ...                   ...   \n",
       "68    Grabe_b  2012        2012  Negative              Negative   \n",
       "69   Petersen  2012        2012  Positive              Positive   \n",
       "70     Beaver  2012        2012  Positive              Positive   \n",
       "71      Brown  2013        2012  Negative              Positive   \n",
       "72  Wilhelm_b  2012        2012  Negative              Positive   \n",
       "\n",
       "                Abstract Mossner Caspi Eley Grabe_a  ... Comasco_a  \\\n",
       "0               Positive     NaN   NaN  NaN     NaN  ...       NaN   \n",
       "1               Positive       -   NaN  NaN     NaN  ...       NaN   \n",
       "2               Positive       -     X  NaN     NaN  ...       NaN   \n",
       "3   Partially supportive       -     X    -     NaN  ...       NaN   \n",
       "4               Positive       -     X    -       -  ...       NaN   \n",
       "..                   ...     ...   ...  ...     ...  ...       ...   \n",
       "68  Partially supportive       -     X    -       X  ...         -   \n",
       "69              Positive       -     X    X       -  ...         -   \n",
       "70  Partially supportive       -     X    -       -  ...         -   \n",
       "71              Positive       -     X    X       -  ...         -   \n",
       "72              Positive       X     X    -       X  ...         -   \n",
       "\n",
       "   Cicchetti_b Jenness Scheid_b Quinn Grabe_b Petersen Beaver Brown Wilhelm_b  \n",
       "0          NaN     NaN      NaN   NaN     NaN      NaN    NaN   NaN       NaN  \n",
       "1          NaN     NaN      NaN   NaN     NaN      NaN    NaN   NaN       NaN  \n",
       "2          NaN     NaN      NaN   NaN     NaN      NaN    NaN   NaN       NaN  \n",
       "3          NaN     NaN      NaN   NaN     NaN      NaN    NaN   NaN       NaN  \n",
       "4          NaN     NaN      NaN   NaN     NaN      NaN    NaN   NaN       NaN  \n",
       "..         ...     ...      ...   ...     ...      ...    ...   ...       ...  \n",
       "68           -       -        -     -     NaN      NaN    NaN   NaN       NaN  \n",
       "69           -       -        -     -       -      NaN    NaN   NaN       NaN  \n",
       "70           -       -        -     -       -        -    NaN   NaN       NaN  \n",
       "71           -       -        -     -       -        -      -   NaN       NaN  \n",
       "72           -       -        -     -       -        -      -     -       NaN  \n",
       "\n",
       "[73 rows x 79 columns]"
      ]
     },
     "execution_count": 3,
     "metadata": {},
     "output_type": "execute_result"
    }
   ],
   "source": [
    "matrix"
   ]
  },
  {
   "cell_type": "code",
   "execution_count": 4,
   "metadata": {},
   "outputs": [],
   "source": [
    "# select only the adjacency matrix\n",
    "matrix = matrix.iloc[:, 6:]\n",
    "\n",
    "# search_for_alias\n",
    "search_dict = pd.Series(attr_list['PaperID'].values, index=attr_list['Study']).to_dict()\n",
    "search_dict_reverse = pd.Series(attr_list['Study'].values, index=attr_list['PaperID']).to_dict()\n",
    "matrix.columns = [search_dict[x] for x in matrix.columns]"
   ]
  },
  {
   "cell_type": "markdown",
   "metadata": {},
   "source": [
    "## Reconstruct claim-specific citation network g"
   ]
  },
  {
   "cell_type": "code",
   "execution_count": 5,
   "metadata": {},
   "outputs": [],
   "source": [
    "# initialize the graph object\n",
    "g = Graph(directed=True)\n",
    "g.add_vertices(73)\n",
    "\n",
    "# add attributes to the graph: study name: name; study outcome: outcome; YearOnline: year\n",
    "study = attr_list['Study'].to_list()\n",
    "outcome = attr_list['Outcome'].to_list()\n",
    "g.vs['name'] = study\n",
    "g.vs[\"label\"] = g.vs[\"name\"]\n",
    "g.vs['outcome'] = outcome\n",
    "g.vs['year'] = attr_list['YearOnline']\n",
    "g.vs['color'] = 'light blue'\n",
    "\n",
    "# create edges for the real graph, using the matrix\n",
    "edge_list = []\n",
    "for i in range(0, matrix.shape[0]):\n",
    "    for j in range(0, matrix.shape[1]):\n",
    "        if isinstance(matrix.iloc[i, j], str):\n",
    "            s = matrix.iloc[i, j]\n",
    "            if s.replace(\" \", \"\") == \"X\":\n",
    "                edge_list.append((i, j))\n",
    "                g.add_edge(source=i, target=j)"
   ]
  },
  {
   "cell_type": "code",
   "execution_count": 6,
   "metadata": {},
   "outputs": [
    {
     "data": {
      "text/plain": [
       "488"
      ]
     },
     "execution_count": 6,
     "metadata": {},
     "output_type": "execute_result"
    }
   ],
   "source": [
    "len(g.es) # number of edges"
   ]
  },
  {
   "cell_type": "markdown",
   "metadata": {},
   "source": [
    "### Verify the reconstruction by calculating average citations (reported in the Vries et al., 2016)"
   ]
  },
  {
   "cell_type": "code",
   "execution_count": 7,
   "metadata": {},
   "outputs": [
    {
     "name": "stdout",
     "output_type": "stream",
     "text": [
      "Average citation for positive articles is 9.8\n",
      "Average citation for negative articles is 5.4\n",
      "Average citation for neutral articles is 4.3\n"
     ]
    }
   ],
   "source": [
    "positive_nodes = g.vs.select(outcome='Positive')\n",
    "negative_nodes = g.vs.select(outcome='Negative')\n",
    "neutral_nodes = g.vs.select(outcome='Unclear')\n",
    "\n",
    "n1 = mean(g.degree(vertices=positive_nodes,mode=IN))\n",
    "n2 = mean(g.degree(vertices=negative_nodes,mode=IN))\n",
    "n3 = mean(g.degree(vertices=neutral_nodes,mode=IN))\n",
    "\n",
    "print('Average citation for positive articles is', str(round(n1,1)))\n",
    "print('Average citation for negative articles is', str(round(n2,1)))\n",
    "print('Average citation for neutral articles is', str(round(n3,1)))"
   ]
  },
  {
   "cell_type": "markdown",
   "metadata": {},
   "source": [
    "## Visualize the network"
   ]
  },
  {
   "cell_type": "code",
   "execution_count": 21,
   "metadata": {},
   "outputs": [
    {
     "ename": "AttributeError",
     "evalue": "plotting not available",
     "output_type": "error",
     "traceback": [
      "\u001b[1;31m---------------------------------------------------------------------------\u001b[0m",
      "\u001b[1;31mAttributeError\u001b[0m                            Traceback (most recent call last)",
      "\u001b[1;32m<ipython-input-21-cde1c99e364b>\u001b[0m in \u001b[0;36m<module>\u001b[1;34m\u001b[0m\n\u001b[1;32m----> 1\u001b[1;33m \u001b[0mvis\u001b[0m \u001b[1;33m=\u001b[0m \u001b[0mplot\u001b[0m\u001b[1;33m(\u001b[0m\u001b[0mg\u001b[0m\u001b[1;33m,\u001b[0m\u001b[0mlayout\u001b[0m\u001b[1;33m=\u001b[0m\u001b[1;34m\"kk\"\u001b[0m\u001b[1;33m,\u001b[0m \u001b[0mmargin\u001b[0m\u001b[1;33m=\u001b[0m\u001b[1;36m50\u001b[0m\u001b[1;33m,\u001b[0m\u001b[0mbbox\u001b[0m\u001b[1;33m=\u001b[0m\u001b[1;33m(\u001b[0m\u001b[1;36m600\u001b[0m\u001b[1;33m,\u001b[0m\u001b[1;36m600\u001b[0m\u001b[1;33m)\u001b[0m\u001b[1;33m)\u001b[0m\u001b[1;33m\u001b[0m\u001b[1;33m\u001b[0m\u001b[0m\n\u001b[0m\u001b[0;32m      2\u001b[0m \u001b[0mvis\u001b[0m\u001b[1;33m.\u001b[0m\u001b[0mshow\u001b[0m\u001b[1;33m(\u001b[0m\u001b[1;33m)\u001b[0m\u001b[1;33m\u001b[0m\u001b[1;33m\u001b[0m\u001b[0m\n",
      "\u001b[1;32m~\\anaconda3\\lib\\site-packages\\igraph\\drawing\\__init__.py\u001b[0m in \u001b[0;36mplot\u001b[1;34m(obj, target, bbox, *args, **kwds)\u001b[0m\n\u001b[0;32m    486\u001b[0m         \u001b[0mbbox\u001b[0m \u001b[1;33m=\u001b[0m \u001b[0mBoundingBox\u001b[0m\u001b[1;33m(\u001b[0m\u001b[0mbbox\u001b[0m\u001b[1;33m)\u001b[0m\u001b[1;33m\u001b[0m\u001b[1;33m\u001b[0m\u001b[0m\n\u001b[0;32m    487\u001b[0m \u001b[1;33m\u001b[0m\u001b[0m\n\u001b[1;32m--> 488\u001b[1;33m     \u001b[0mresult\u001b[0m \u001b[1;33m=\u001b[0m \u001b[0mPlot\u001b[0m\u001b[1;33m(\u001b[0m\u001b[0mtarget\u001b[0m\u001b[1;33m,\u001b[0m \u001b[0mbbox\u001b[0m\u001b[1;33m,\u001b[0m \u001b[0mbackground\u001b[0m\u001b[1;33m=\u001b[0m\u001b[0mkwds\u001b[0m\u001b[1;33m.\u001b[0m\u001b[0mget\u001b[0m\u001b[1;33m(\u001b[0m\u001b[1;34m\"background\"\u001b[0m\u001b[1;33m,\u001b[0m \u001b[1;34m\"white\"\u001b[0m\u001b[1;33m)\u001b[0m\u001b[1;33m)\u001b[0m\u001b[1;33m\u001b[0m\u001b[1;33m\u001b[0m\u001b[0m\n\u001b[0m\u001b[0;32m    489\u001b[0m \u001b[1;33m\u001b[0m\u001b[0m\n\u001b[0;32m    490\u001b[0m     \u001b[1;32mif\u001b[0m \u001b[1;34m\"margin\"\u001b[0m \u001b[1;32min\u001b[0m \u001b[0mkwds\u001b[0m\u001b[1;33m:\u001b[0m\u001b[1;33m\u001b[0m\u001b[1;33m\u001b[0m\u001b[0m\n",
      "\u001b[1;32m~\\anaconda3\\lib\\site-packages\\igraph\\drawing\\__init__.py\u001b[0m in \u001b[0;36m__init__\u001b[1;34m(self, target, bbox, palette, background)\u001b[0m\n\u001b[0;32m    124\u001b[0m         \"\"\"\n\u001b[0;32m    125\u001b[0m         \u001b[0mself\u001b[0m\u001b[1;33m.\u001b[0m\u001b[0m_filename\u001b[0m \u001b[1;33m=\u001b[0m \u001b[1;32mNone\u001b[0m\u001b[1;33m\u001b[0m\u001b[1;33m\u001b[0m\u001b[0m\n\u001b[1;32m--> 126\u001b[1;33m         \u001b[0mself\u001b[0m\u001b[1;33m.\u001b[0m\u001b[0m_surface_was_created\u001b[0m \u001b[1;33m=\u001b[0m \u001b[1;32mnot\u001b[0m \u001b[0misinstance\u001b[0m\u001b[1;33m(\u001b[0m\u001b[0mtarget\u001b[0m\u001b[1;33m,\u001b[0m \u001b[0mcairo\u001b[0m\u001b[1;33m.\u001b[0m\u001b[0mSurface\u001b[0m\u001b[1;33m)\u001b[0m\u001b[1;33m\u001b[0m\u001b[1;33m\u001b[0m\u001b[0m\n\u001b[0m\u001b[0;32m    127\u001b[0m         \u001b[0mself\u001b[0m\u001b[1;33m.\u001b[0m\u001b[0m_need_tmpfile\u001b[0m \u001b[1;33m=\u001b[0m \u001b[1;32mFalse\u001b[0m\u001b[1;33m\u001b[0m\u001b[1;33m\u001b[0m\u001b[0m\n\u001b[0;32m    128\u001b[0m \u001b[1;33m\u001b[0m\u001b[0m\n",
      "\u001b[1;32m~\\anaconda3\\lib\\site-packages\\igraph\\drawing\\utils.py\u001b[0m in \u001b[0;36m__getattr__\u001b[1;34m(self, _)\u001b[0m\n\u001b[0;32m    408\u001b[0m \u001b[1;33m\u001b[0m\u001b[0m\n\u001b[0;32m    409\u001b[0m     \u001b[1;32mdef\u001b[0m \u001b[0m__getattr__\u001b[0m\u001b[1;33m(\u001b[0m\u001b[0mself\u001b[0m\u001b[1;33m,\u001b[0m \u001b[0m_\u001b[0m\u001b[1;33m)\u001b[0m\u001b[1;33m:\u001b[0m\u001b[1;33m\u001b[0m\u001b[1;33m\u001b[0m\u001b[0m\n\u001b[1;32m--> 410\u001b[1;33m         \u001b[1;32mraise\u001b[0m \u001b[0mAttributeError\u001b[0m\u001b[1;33m(\u001b[0m\u001b[1;34m\"plotting not available\"\u001b[0m\u001b[1;33m)\u001b[0m\u001b[1;33m\u001b[0m\u001b[1;33m\u001b[0m\u001b[0m\n\u001b[0m\u001b[0;32m    411\u001b[0m \u001b[1;33m\u001b[0m\u001b[0m\n\u001b[0;32m    412\u001b[0m     \u001b[1;32mdef\u001b[0m \u001b[0m__call__\u001b[0m\u001b[1;33m(\u001b[0m\u001b[0mself\u001b[0m\u001b[1;33m,\u001b[0m \u001b[0m_\u001b[0m\u001b[1;33m)\u001b[0m\u001b[1;33m:\u001b[0m\u001b[1;33m\u001b[0m\u001b[1;33m\u001b[0m\u001b[0m\n",
      "\u001b[1;31mAttributeError\u001b[0m: plotting not available"
     ]
    }
   ],
   "source": [
    "vis = plot(g,layout=\"kk\", margin=50,bbox=(600,600))\n",
    "vis.show()"
   ]
  },
  {
   "cell_type": "markdown",
   "metadata": {},
   "source": [
    "## Create the simulated network\n",
    "Allow a directional edge from node2 to node1 if node2['year'] - node1['year'] >= year_gap"
   ]
  },
  {
   "cell_type": "code",
   "execution_count": 9,
   "metadata": {},
   "outputs": [],
   "source": [
    "year_gap = 2\n",
    "\n",
    "# initialize simulated network g_sim\n",
    "g_sim = Graph(directed=True)\n",
    "g_sim.add_vertices(73)\n",
    "g_sim.vs['name'] = study\n",
    "g_sim.vs[\"label\"] = g_sim.vs[\"name\"]\n",
    "g_sim.vs['outcome'] = outcome\n",
    "g_sim.vs[\"color\"] = 'light blue'\n",
    "g_sim.vs['Year'] = attr_list['YearOnline']\n",
    "\n",
    "sim_edge_list = []\n",
    "\n",
    "# construct graph\n",
    "for i in g_sim.vs.indices:\n",
    "    for j in g_sim.vs.indices:\n",
    "        if g_sim.vs[j]['Year'] - g_sim.vs[i]['Year'] >= year_gap:\n",
    "            g_sim.add_edge(j, i)"
   ]
  },
  {
   "cell_type": "code",
   "execution_count": 10,
   "metadata": {},
   "outputs": [
    {
     "data": {
      "text/plain": [
       "1799"
      ]
     },
     "execution_count": 10,
     "metadata": {},
     "output_type": "execute_result"
    }
   ],
   "source": [
    "len(g_sim.es) # number of edges"
   ]
  },
  {
   "cell_type": "code",
   "execution_count": 90,
   "metadata": {},
   "outputs": [],
   "source": [
    "vis_sim = plot(g_sim,layout=\"kk\", margin=50,bbox=(600,600))"
   ]
  },
  {
   "cell_type": "markdown",
   "metadata": {},
   "source": [
    "## Calculating metric 1: the ratio between real and theoretical citations"
   ]
  },
  {
   "cell_type": "code",
   "execution_count": 11,
   "metadata": {},
   "outputs": [],
   "source": [
    "g_degree = pd.Series(data=g.degree(mode=IN),index=g.vs.indices)"
   ]
  },
  {
   "cell_type": "code",
   "execution_count": 12,
   "metadata": {},
   "outputs": [],
   "source": [
    "g_sim_degree = pd.Series(data=g_sim.degree(mode=IN),index=g_sim.vs.indices)"
   ]
  },
  {
   "cell_type": "code",
   "execution_count": 27,
   "metadata": {},
   "outputs": [],
   "source": [
    "degree_ratio = pd.DataFrame(columns=['paperID','degree_ratio','year'])\n",
    "\n",
    "last_generation = []\n",
    "\n",
    "for idx, degree in enumerate(g_degree):\n",
    "    if g_sim_degree[idx]!=0:\n",
    "        degree_ratio = degree_ratio.append({'paperID': int(idx), 'degree_ratio': round(g_degree[idx] / g_sim_degree[idx],3),'year': attr_list.loc[idx,'Year']},\n",
    "                            ignore_index=True)\n",
    "    else:\n",
    "        last_generation.append(idx) # not suppose to have citations because of the constructs"
   ]
  },
  {
   "cell_type": "markdown",
   "metadata": {},
   "source": [
    "### set cutoff for articles that are extremely insufficiently cited"
   ]
  },
  {
   "cell_type": "code",
   "execution_count": 45,
   "metadata": {},
   "outputs": [],
   "source": [
    "low_cutoff = 0.1"
   ]
  },
  {
   "cell_type": "markdown",
   "metadata": {},
   "source": [
    "### set cutoff for articles that are sufficiently cited"
   ]
  },
  {
   "cell_type": "code",
   "execution_count": 46,
   "metadata": {},
   "outputs": [],
   "source": [
    "high_cutoff = 0.9"
   ]
  },
  {
   "cell_type": "code",
   "execution_count": 47,
   "metadata": {},
   "outputs": [],
   "source": [
    "idx_low = degree_ratio[degree_ratio['degree_ratio'] < low_cutoff].index.tolist()\n",
    "idx_low = [int(item) for item in idx_low]\n",
    "\n",
    "idx_high = degree_ratio[degree_ratio['degree_ratio'] > high_cutoff].index.tolist()\n",
    "idx_high = [int(item) for item in idx_high]"
   ]
  },
  {
   "cell_type": "code",
   "execution_count": 48,
   "metadata": {},
   "outputs": [
    {
     "data": {
      "image/png": "[encoded data removed]",
      "text/plain": [
       "<Figure size 432x288 with 1 Axes>"
      ]
     },
     "metadata": {
      "needs_background": "light"
     },
     "output_type": "display_data"
    }
   ],
   "source": [
    "bins = np.linspace(0,1,10)\n",
    "plt.hist(degree_ratio['degree_ratio'], bins=bins,color='blue', edgecolor='blue', linewidth=1, hatch=\"//\",\n",
    "         histtype='bar', alpha=0.5)\n",
    "plt.xlabel('Ratio between Real and Expected Citations',fontsize=14)\n",
    "plt.ylabel('Count',fontsize=14)\n",
    "plt.show()"
   ]
  },
  {
   "cell_type": "code",
   "execution_count": 81,
   "metadata": {},
   "outputs": [
    {
     "data": {
      "image/png": "[encoded data removed]",
      "text/plain": [
       "<Figure size 432x288 with 1 Axes>"
      ]
     },
     "metadata": {
      "needs_background": "light"
     },
     "output_type": "display_data"
    }
   ],
   "source": [
    "plt.scatter(y = degree_ratio['degree_ratio'], x = degree_ratio['year'],alpha=0.7)\n",
    "plt.ylabel('Ratio between Real and \\n Expected Citations',fontsize=14)\n",
    "plt.xlabel('Year Online', fontsize=14)\n",
    "plt.xticks(range(2000,2012),fontsize=12,rotation=30)\n",
    "plt.yticks(fontsize=12)\n",
    "plt.xlim(2000,2011)\n",
    "plt.grid(True)"
   ]
  },
  {
   "cell_type": "markdown",
   "metadata": {},
   "source": [
    "### Select nodes by the value\n",
    "Select nodes that either have the ratio smaller than 0.1 (extermely insufficiently cited) or greater than 0.9 (sufficiently cited)"
   ]
  },
  {
   "cell_type": "code",
   "execution_count": 49,
   "metadata": {},
   "outputs": [],
   "source": [
    "for node in g.vs.indices:\n",
    "    if node in idx_low:\n",
    "        g.vs[node]['citation_ratio'] = 'Low'\n",
    "    elif node in idx_high:\n",
    "        g.vs[node]['citation_ratio'] = 'High'\n",
    "    elif node in last_generation:\n",
    "        g.vs[node]['citation_ratio'] = 'Last Generation'\n",
    "    else:\n",
    "        g.vs[node]['citation_ratio'] = 'Average'\n",
    "\n",
    "# block of code for visualization [ update here ]\n",
    "color_dict = {\"High\": \"green\", \"Low\": \"pink\", \"Average\": \"light blue\",\"Last Generation\":\"white\"}\n",
    "g.vs[\"color\"] = [color_dict[ratio] for ratio in g.vs[\"citation_ratio\"]]\n",
    "plot(g,bbox=(600,600),margin=50,layout=\"kk\").show()"
   ]
  },
  {
   "cell_type": "markdown",
   "metadata": {},
   "source": [
    "### Print nodes that are extremely insufficiently cited"
   ]
  },
  {
   "cell_type": "code",
   "execution_count": 50,
   "metadata": {},
   "outputs": [
    {
     "name": "stdout",
     "output_type": "stream",
     "text": [
      "Mossner 2001 Positive\n",
      "Dick 2007 Unclear\n",
      "Kraus 2007 Negative\n",
      "Kilpatrick 2007 Unclear\n",
      "Bull 2008 Positive\n",
      "Lotrich 2008 Unclear\n",
      "Zhang_a 2008 Negative\n",
      "PhillipsBute 2008 Negative\n",
      "Zhang_b 2009 Negative\n",
      "Kim_b 2009 Positive\n",
      "Gibb 2009 Unclear\n",
      "Coventry 2009 Negative\n",
      "Grassi 2010 Negative\n",
      "Sen 2010 Positive\n",
      "Antypa 2010 Negative\n",
      "Conway 2010 Negative\n"
     ]
    }
   ],
   "source": [
    "for node in idx_low:\n",
    "    print(g.vs[node]['name'],g.vs[node]['year'],g.vs[node]['outcome'])"
   ]
  },
  {
   "cell_type": "markdown",
   "metadata": {},
   "source": [
    "## Calculating metric 2: Relative evidence coupling strength"
   ]
  },
  {
   "cell_type": "code",
   "execution_count": 91,
   "metadata": {},
   "outputs": [],
   "source": [
    "# initialize the data storage\n",
    "coupling_strength = pd.DataFrame(columns=['node_1','node_2','ratio','year_gap','year1','year2'])\n",
    "\n",
    "# looping through each pair in the net\n",
    "for node_1_ix in g.vs.indices:\n",
    "    for node_2_ix in g.vs.indices:\n",
    "        if node_2_ix > node_1_ix:\n",
    "            node_1 = g.vs[node_1_ix]\n",
    "            node_2 = g.vs[node_2_ix]\n",
    "            node_1_set = set(g.neighbors(node_1, mode=OUT))\n",
    "            node_2_set = set(g.neighbors(node_2, mode=OUT))\n",
    "            node_1_set.intersection(node_2_set)\n",
    "            if (len(node_1_set) + len(node_2_set)) != 0:\n",
    "                strength = len(node_1_set.intersection(node_2_set)) / (\n",
    "                        len(node_1_set) + len(node_2_set) - len(\n",
    "                    node_1_set.intersection(node_2_set)))  # full is 1, no overlap is zero\n",
    "                coupling_strength = coupling_strength.append({'node_1': node_1_ix,\n",
    "                                         'node_2': node_2_ix,\n",
    "                                         'ratio': strength,\n",
    "                                        'year_gap': abs(g.vs[node_1_ix]['year']-g.vs[node_2_ix]['year']),\n",
    "                                        'year1': g.vs[node_1_ix]['year'],\n",
    "                                        'year2': g.vs[node_2_ix]['year']},ignore_index=True)"
   ]
  },
  {
   "cell_type": "code",
   "execution_count": 92,
   "metadata": {},
   "outputs": [
    {
     "data": {
      "text/html": [
       "<div>\n",
       "<style scoped>\n",
       "    .dataframe tbody tr th:only-of-type {\n",
       "        vertical-align: middle;\n",
       "    }\n",
       "\n",
       "    .dataframe tbody tr th {\n",
       "        vertical-align: top;\n",
       "    }\n",
       "\n",
       "    .dataframe thead th {\n",
       "        text-align: right;\n",
       "    }\n",
       "</style>\n",
       "<table border=\"1\" class=\"dataframe\">\n",
       "  <thead>\n",
       "    <tr style=\"text-align: right;\">\n",
       "      <th></th>\n",
       "      <th>node_1</th>\n",
       "      <th>node_2</th>\n",
       "      <th>ratio</th>\n",
       "      <th>year_gap</th>\n",
       "      <th>year1</th>\n",
       "      <th>year2</th>\n",
       "    </tr>\n",
       "  </thead>\n",
       "  <tbody>\n",
       "    <tr>\n",
       "      <th>0</th>\n",
       "      <td>0.0</td>\n",
       "      <td>2.0</td>\n",
       "      <td>0.000000</td>\n",
       "      <td>3.0</td>\n",
       "      <td>2001.0</td>\n",
       "      <td>2004.0</td>\n",
       "    </tr>\n",
       "    <tr>\n",
       "      <th>1</th>\n",
       "      <td>0.0</td>\n",
       "      <td>3.0</td>\n",
       "      <td>0.000000</td>\n",
       "      <td>3.0</td>\n",
       "      <td>2001.0</td>\n",
       "      <td>2004.0</td>\n",
       "    </tr>\n",
       "    <tr>\n",
       "      <th>2</th>\n",
       "      <td>0.0</td>\n",
       "      <td>4.0</td>\n",
       "      <td>0.000000</td>\n",
       "      <td>3.0</td>\n",
       "      <td>2001.0</td>\n",
       "      <td>2004.0</td>\n",
       "    </tr>\n",
       "    <tr>\n",
       "      <th>3</th>\n",
       "      <td>0.0</td>\n",
       "      <td>5.0</td>\n",
       "      <td>0.000000</td>\n",
       "      <td>3.0</td>\n",
       "      <td>2001.0</td>\n",
       "      <td>2004.0</td>\n",
       "    </tr>\n",
       "    <tr>\n",
       "      <th>4</th>\n",
       "      <td>0.0</td>\n",
       "      <td>6.0</td>\n",
       "      <td>0.000000</td>\n",
       "      <td>4.0</td>\n",
       "      <td>2001.0</td>\n",
       "      <td>2005.0</td>\n",
       "    </tr>\n",
       "    <tr>\n",
       "      <th>...</th>\n",
       "      <td>...</td>\n",
       "      <td>...</td>\n",
       "      <td>...</td>\n",
       "      <td>...</td>\n",
       "      <td>...</td>\n",
       "      <td>...</td>\n",
       "    </tr>\n",
       "    <tr>\n",
       "      <th>2620</th>\n",
       "      <td>69.0</td>\n",
       "      <td>71.0</td>\n",
       "      <td>0.187500</td>\n",
       "      <td>0.0</td>\n",
       "      <td>2012.0</td>\n",
       "      <td>2012.0</td>\n",
       "    </tr>\n",
       "    <tr>\n",
       "      <th>2621</th>\n",
       "      <td>69.0</td>\n",
       "      <td>72.0</td>\n",
       "      <td>0.043478</td>\n",
       "      <td>0.0</td>\n",
       "      <td>2012.0</td>\n",
       "      <td>2012.0</td>\n",
       "    </tr>\n",
       "    <tr>\n",
       "      <th>2622</th>\n",
       "      <td>70.0</td>\n",
       "      <td>71.0</td>\n",
       "      <td>0.200000</td>\n",
       "      <td>0.0</td>\n",
       "      <td>2012.0</td>\n",
       "      <td>2012.0</td>\n",
       "    </tr>\n",
       "    <tr>\n",
       "      <th>2623</th>\n",
       "      <td>70.0</td>\n",
       "      <td>72.0</td>\n",
       "      <td>0.100000</td>\n",
       "      <td>0.0</td>\n",
       "      <td>2012.0</td>\n",
       "      <td>2012.0</td>\n",
       "    </tr>\n",
       "    <tr>\n",
       "      <th>2624</th>\n",
       "      <td>71.0</td>\n",
       "      <td>72.0</td>\n",
       "      <td>0.071429</td>\n",
       "      <td>0.0</td>\n",
       "      <td>2012.0</td>\n",
       "      <td>2012.0</td>\n",
       "    </tr>\n",
       "  </tbody>\n",
       "</table>\n",
       "<p>2625 rows × 6 columns</p>\n",
       "</div>"
      ],
      "text/plain": [
       "      node_1  node_2     ratio  year_gap   year1   year2\n",
       "0        0.0     2.0  0.000000       3.0  2001.0  2004.0\n",
       "1        0.0     3.0  0.000000       3.0  2001.0  2004.0\n",
       "2        0.0     4.0  0.000000       3.0  2001.0  2004.0\n",
       "3        0.0     5.0  0.000000       3.0  2001.0  2004.0\n",
       "4        0.0     6.0  0.000000       4.0  2001.0  2005.0\n",
       "...      ...     ...       ...       ...     ...     ...\n",
       "2620    69.0    71.0  0.187500       0.0  2012.0  2012.0\n",
       "2621    69.0    72.0  0.043478       0.0  2012.0  2012.0\n",
       "2622    70.0    71.0  0.200000       0.0  2012.0  2012.0\n",
       "2623    70.0    72.0  0.100000       0.0  2012.0  2012.0\n",
       "2624    71.0    72.0  0.071429       0.0  2012.0  2012.0\n",
       "\n",
       "[2625 rows x 6 columns]"
      ]
     },
     "execution_count": 92,
     "metadata": {},
     "output_type": "execute_result"
    }
   ],
   "source": [
    "coupling_strength"
   ]
  },
  {
   "cell_type": "markdown",
   "metadata": {},
   "source": [
    "### Visualizing the distribution"
   ]
  },
  {
   "cell_type": "code",
   "execution_count": 64,
   "metadata": {},
   "outputs": [
    {
     "data": {
      "text/plain": [
       "(array([877., 806., 382., 275., 140.,  53.,  31.,   8.,  53.]),\n",
       " array([0.        , 0.11111111, 0.22222222, 0.33333333, 0.44444444,\n",
       "        0.55555556, 0.66666667, 0.77777778, 0.88888889, 1.        ]),\n",
       " <BarContainer object of 9 artists>)"
      ]
     },
     "execution_count": 64,
     "metadata": {},
     "output_type": "execute_result"
    },
    {
     "data": {
      "image/png": "[encoded data removed]",
      "text/plain": [
       "<Figure size 432x288 with 1 Axes>"
      ]
     },
     "metadata": {
      "needs_background": "light"
     },
     "output_type": "display_data"
    }
   ],
   "source": [
    "bins = np.linspace(0,1,10)  # fixed number of bins\n",
    "plt.xlabel('Relative Evidence Coupling Strength',fontsize=14)\n",
    "plt.ylabel('Count',fontsize=14)\n",
    "plt.ylim([0,1000])\n",
    "plt.hist(coupling_strength['ratio'], bins=bins, color='darkorange', edgecolor='darkorange', linewidth=1, histtype='bar', alpha=0.5, hatch=\"//\")"
   ]
  },
  {
   "cell_type": "code",
   "execution_count": 87,
   "metadata": {},
   "outputs": [
    {
     "data": {
      "image/png": "[encoded data removed]",
      "text/plain": [
       "<Figure size 432x288 with 1 Axes>"
      ]
     },
     "metadata": {
      "needs_background": "light"
     },
     "output_type": "display_data"
    }
   ],
   "source": [
    "plt.scatter(y = coupling_strength['ratio'], x = coupling_strength['year_gap'],alpha=0.5, color='darkorange')\n",
    "plt.ylabel('Relative Evidence\\nCoupling Strength',fontsize=14)\n",
    "plt.xlabel('Year Gap', fontsize=14)\n",
    "plt.xticks(range(0,12),fontsize=12)\n",
    "plt.yticks(fontsize=12)\n",
    "plt.grid(True)"
   ]
  },
  {
   "cell_type": "code",
   "execution_count": 95,
   "metadata": {},
   "outputs": [
    {
     "data": {
      "text/plain": [
       "<mpl_toolkits.mplot3d.art3d.Path3DCollection at 0x19a951013d0>"
      ]
     },
     "execution_count": 95,
     "metadata": {},
     "output_type": "execute_result"
    },
    {
     "data": {
      "image/png": "[encoded data removed]",
      "text/plain": [
       "<Figure size 720x504 with 1 Axes>"
      ]
     },
     "metadata": {
      "needs_background": "light"
     },
     "output_type": "display_data"
    }
   ],
   "source": [
    "fig = plt.figure(figsize = (10, 7))\n",
    "ax = plt.axes(projection =\"3d\")\n",
    "ax.scatter3D(xs=coupling_strength['year1'],ys=coupling_strength['year2'],zs=coupling_strength['ratio'])\n"
   ]
  },
  {
   "cell_type": "code",
   "execution_count": 83,
   "metadata": {},
   "outputs": [],
   "source": [
    "threshold_p = 0.3\n",
    "\n",
    "sufficient_overlap = coupling_strength[coupling_strength['ratio'] > threshold_p]\n",
    "sufficient_overlap_nodes = list(set(sufficient_overlap['node_1']).union(set(sufficient_overlap['node_2'])))\n",
    "\n",
    "unique_nodes = list(set(g.vs.indices).difference(set(sufficient_overlap_nodes)))\n",
    "\n",
    "sufficient_overlap_nodes = g.vs.select(sufficient_overlap_nodes)\n",
    "unique_nodes = g.vs.select(unique_nodes)"
   ]
  },
  {
   "cell_type": "code",
   "execution_count": 22,
   "metadata": {},
   "outputs": [],
   "source": [
    "# visualization [any updates need to be here]\n",
    "sufficient_overlap_nodes['color'] = 'light blue'\n",
    "unique_nodes['color'] = 'pink'\n",
    "plot(g, margin=50,bbox=(600,600),layout='kk').show()"
   ]
  },
  {
   "cell_type": "code",
   "execution_count": 23,
   "metadata": {},
   "outputs": [
    {
     "name": "stdout",
     "output_type": "stream",
     "text": [
      "Mossner 2001 Positive\n",
      "Caspi 2003 Positive\n",
      "Lotrich 2008 Unclear\n",
      "Kraus 2007 Negative\n",
      "Comasco_b 2011 Unclear\n",
      "Wichers 2007 Negative\n",
      "Uher 2011 Negative\n",
      "Mitchell 2011 Negative\n"
     ]
    }
   ],
   "source": [
    "# print nodes names\n",
    "for node in unique_nodes:\n",
    "    print(node['name'],node['year'],node['outcome'])"
   ]
  },
  {
   "cell_type": "code",
   "execution_count": null,
   "metadata": {},
   "outputs": [],
   "source": []
  }
 ],
 "metadata": {
  "kernelspec": {
   "display_name": "Python 3",
   "language": "python",
   "name": "python3"
  },
  "language_info": {
   "codemirror_mode": {
    "name": "ipython",
    "version": 3
   },
   "file_extension": ".py",
   "mimetype": "text/x-python",
   "name": "python",
   "nbconvert_exporter": "python",
   "pygments_lexer": "ipython3",
   "version": "3.8.5"
  }
 },
 "nbformat": 4,
 "nbformat_minor": 4
}
