{
 "cells": [
  {
   "cell_type": "code",
   "execution_count": 1,
   "metadata": {},
   "outputs": [],
   "source": [
    "import pandas as pd\n",
    "import cairo\n",
    "import numpy as np\n",
    "import math\n",
    "import networkx as nx\n",
    "import matplotlib as mpl\n",
    "from matplotlib import pyplot as plt"
   ]
  },
  {
   "cell_type": "code",
   "execution_count": 2,
   "metadata": {},
   "outputs": [],
   "source": [
    "# create attribute list\n",
    "# easy for this file because the first 6 columns are in fact attribute list\n",
    "attr_list = pd.read_csv('HTTLPR.csv', usecols=[0, 1, 2, 3, 4, 5])\n",
    "attr_list['PaperID'] = attr_list.index"
   ]
  },
  {
   "cell_type": "code",
   "execution_count": 5,
   "metadata": {},
   "outputs": [],
   "source": [
    "data = pd.read_csv(\"HTTLPR.csv\") #reading the .csv file (excel spreadsheet)\n",
    "new = pd.DataFrame(np.zeros(shape=(73, 73)), columns=data['Study'], index=data['Study']) #making a data frame"
   ]
  },
  {
   "cell_type": "code",
   "execution_count": 7,
   "metadata": {},
   "outputs": [],
   "source": [
    "# create edge list\n",
    "matrix = pd.read_csv('HTTLPR.csv')\n",
    "matrix = matrix.iloc[:, 6:]"
   ]
  },
  {
   "cell_type": "code",
   "execution_count": 8,
   "metadata": {},
   "outputs": [],
   "source": [
    "# search_for_alias\n",
    "search_dict = pd.Series(attr_list['PaperID'].values, index=attr_list['Study']).to_dict()\n",
    "search_dict_reverse = pd.Series(attr_list['Study'].values, index=attr_list['PaperID']).to_dict()\n",
    "matrix.columns = [search_dict[x] for x in matrix.columns]"
   ]
  },
  {
   "cell_type": "code",
   "execution_count": 22,
   "metadata": {},
   "outputs": [
    {
     "data": {
      "text/html": [
       "<div>\n",
       "<style scoped>\n",
       "    .dataframe tbody tr th:only-of-type {\n",
       "        vertical-align: middle;\n",
       "    }\n",
       "\n",
       "    .dataframe tbody tr th {\n",
       "        vertical-align: top;\n",
       "    }\n",
       "\n",
       "    .dataframe thead th {\n",
       "        text-align: right;\n",
       "    }\n",
       "</style>\n",
       "<table border=\"1\" class=\"dataframe\">\n",
       "  <thead>\n",
       "    <tr style=\"text-align: right;\">\n",
       "      <th></th>\n",
       "      <th>0</th>\n",
       "      <th>1</th>\n",
       "      <th>2</th>\n",
       "      <th>3</th>\n",
       "      <th>4</th>\n",
       "      <th>5</th>\n",
       "      <th>6</th>\n",
       "      <th>7</th>\n",
       "      <th>8</th>\n",
       "      <th>9</th>\n",
       "      <th>...</th>\n",
       "      <th>63</th>\n",
       "      <th>64</th>\n",
       "      <th>65</th>\n",
       "      <th>66</th>\n",
       "      <th>67</th>\n",
       "      <th>68</th>\n",
       "      <th>69</th>\n",
       "      <th>70</th>\n",
       "      <th>71</th>\n",
       "      <th>72</th>\n",
       "    </tr>\n",
       "  </thead>\n",
       "  <tbody>\n",
       "    <tr>\n",
       "      <th>0</th>\n",
       "      <td>NaN</td>\n",
       "      <td>NaN</td>\n",
       "      <td>NaN</td>\n",
       "      <td>NaN</td>\n",
       "      <td>NaN</td>\n",
       "      <td>NaN</td>\n",
       "      <td>NaN</td>\n",
       "      <td>NaN</td>\n",
       "      <td>NaN</td>\n",
       "      <td>NaN</td>\n",
       "      <td>...</td>\n",
       "      <td>NaN</td>\n",
       "      <td>NaN</td>\n",
       "      <td>NaN</td>\n",
       "      <td>NaN</td>\n",
       "      <td>NaN</td>\n",
       "      <td>NaN</td>\n",
       "      <td>NaN</td>\n",
       "      <td>NaN</td>\n",
       "      <td>NaN</td>\n",
       "      <td>NaN</td>\n",
       "    </tr>\n",
       "    <tr>\n",
       "      <th>1</th>\n",
       "      <td>-</td>\n",
       "      <td>NaN</td>\n",
       "      <td>NaN</td>\n",
       "      <td>NaN</td>\n",
       "      <td>NaN</td>\n",
       "      <td>NaN</td>\n",
       "      <td>NaN</td>\n",
       "      <td>NaN</td>\n",
       "      <td>NaN</td>\n",
       "      <td>NaN</td>\n",
       "      <td>...</td>\n",
       "      <td>NaN</td>\n",
       "      <td>NaN</td>\n",
       "      <td>NaN</td>\n",
       "      <td>NaN</td>\n",
       "      <td>NaN</td>\n",
       "      <td>NaN</td>\n",
       "      <td>NaN</td>\n",
       "      <td>NaN</td>\n",
       "      <td>NaN</td>\n",
       "      <td>NaN</td>\n",
       "    </tr>\n",
       "    <tr>\n",
       "      <th>2</th>\n",
       "      <td>-</td>\n",
       "      <td>X</td>\n",
       "      <td>NaN</td>\n",
       "      <td>NaN</td>\n",
       "      <td>NaN</td>\n",
       "      <td>NaN</td>\n",
       "      <td>NaN</td>\n",
       "      <td>NaN</td>\n",
       "      <td>NaN</td>\n",
       "      <td>NaN</td>\n",
       "      <td>...</td>\n",
       "      <td>NaN</td>\n",
       "      <td>NaN</td>\n",
       "      <td>NaN</td>\n",
       "      <td>NaN</td>\n",
       "      <td>NaN</td>\n",
       "      <td>NaN</td>\n",
       "      <td>NaN</td>\n",
       "      <td>NaN</td>\n",
       "      <td>NaN</td>\n",
       "      <td>NaN</td>\n",
       "    </tr>\n",
       "    <tr>\n",
       "      <th>3</th>\n",
       "      <td>-</td>\n",
       "      <td>X</td>\n",
       "      <td>-</td>\n",
       "      <td>NaN</td>\n",
       "      <td>NaN</td>\n",
       "      <td>NaN</td>\n",
       "      <td>NaN</td>\n",
       "      <td>NaN</td>\n",
       "      <td>NaN</td>\n",
       "      <td>NaN</td>\n",
       "      <td>...</td>\n",
       "      <td>NaN</td>\n",
       "      <td>NaN</td>\n",
       "      <td>NaN</td>\n",
       "      <td>NaN</td>\n",
       "      <td>NaN</td>\n",
       "      <td>NaN</td>\n",
       "      <td>NaN</td>\n",
       "      <td>NaN</td>\n",
       "      <td>NaN</td>\n",
       "      <td>NaN</td>\n",
       "    </tr>\n",
       "    <tr>\n",
       "      <th>4</th>\n",
       "      <td>-</td>\n",
       "      <td>X</td>\n",
       "      <td>-</td>\n",
       "      <td>-</td>\n",
       "      <td>NaN</td>\n",
       "      <td>NaN</td>\n",
       "      <td>NaN</td>\n",
       "      <td>NaN</td>\n",
       "      <td>NaN</td>\n",
       "      <td>NaN</td>\n",
       "      <td>...</td>\n",
       "      <td>NaN</td>\n",
       "      <td>NaN</td>\n",
       "      <td>NaN</td>\n",
       "      <td>NaN</td>\n",
       "      <td>NaN</td>\n",
       "      <td>NaN</td>\n",
       "      <td>NaN</td>\n",
       "      <td>NaN</td>\n",
       "      <td>NaN</td>\n",
       "      <td>NaN</td>\n",
       "    </tr>\n",
       "    <tr>\n",
       "      <th>...</th>\n",
       "      <td>...</td>\n",
       "      <td>...</td>\n",
       "      <td>...</td>\n",
       "      <td>...</td>\n",
       "      <td>...</td>\n",
       "      <td>...</td>\n",
       "      <td>...</td>\n",
       "      <td>...</td>\n",
       "      <td>...</td>\n",
       "      <td>...</td>\n",
       "      <td>...</td>\n",
       "      <td>...</td>\n",
       "      <td>...</td>\n",
       "      <td>...</td>\n",
       "      <td>...</td>\n",
       "      <td>...</td>\n",
       "      <td>...</td>\n",
       "      <td>...</td>\n",
       "      <td>...</td>\n",
       "      <td>...</td>\n",
       "      <td>...</td>\n",
       "    </tr>\n",
       "    <tr>\n",
       "      <th>68</th>\n",
       "      <td>-</td>\n",
       "      <td>X</td>\n",
       "      <td>-</td>\n",
       "      <td>X</td>\n",
       "      <td>-</td>\n",
       "      <td>-</td>\n",
       "      <td>X</td>\n",
       "      <td>-</td>\n",
       "      <td>X</td>\n",
       "      <td>-</td>\n",
       "      <td>...</td>\n",
       "      <td>-</td>\n",
       "      <td>-</td>\n",
       "      <td>-</td>\n",
       "      <td>-</td>\n",
       "      <td>-</td>\n",
       "      <td>NaN</td>\n",
       "      <td>NaN</td>\n",
       "      <td>NaN</td>\n",
       "      <td>NaN</td>\n",
       "      <td>NaN</td>\n",
       "    </tr>\n",
       "    <tr>\n",
       "      <th>69</th>\n",
       "      <td>-</td>\n",
       "      <td>X</td>\n",
       "      <td>X</td>\n",
       "      <td>-</td>\n",
       "      <td>-</td>\n",
       "      <td>-</td>\n",
       "      <td>X</td>\n",
       "      <td>X</td>\n",
       "      <td>X</td>\n",
       "      <td>-</td>\n",
       "      <td>...</td>\n",
       "      <td>-</td>\n",
       "      <td>-</td>\n",
       "      <td>-</td>\n",
       "      <td>-</td>\n",
       "      <td>-</td>\n",
       "      <td>-</td>\n",
       "      <td>NaN</td>\n",
       "      <td>NaN</td>\n",
       "      <td>NaN</td>\n",
       "      <td>NaN</td>\n",
       "    </tr>\n",
       "    <tr>\n",
       "      <th>70</th>\n",
       "      <td>-</td>\n",
       "      <td>X</td>\n",
       "      <td>-</td>\n",
       "      <td>-</td>\n",
       "      <td>-</td>\n",
       "      <td>-</td>\n",
       "      <td>-</td>\n",
       "      <td>-</td>\n",
       "      <td>-</td>\n",
       "      <td>-</td>\n",
       "      <td>...</td>\n",
       "      <td>-</td>\n",
       "      <td>-</td>\n",
       "      <td>-</td>\n",
       "      <td>-</td>\n",
       "      <td>-</td>\n",
       "      <td>-</td>\n",
       "      <td>-</td>\n",
       "      <td>NaN</td>\n",
       "      <td>NaN</td>\n",
       "      <td>NaN</td>\n",
       "    </tr>\n",
       "    <tr>\n",
       "      <th>71</th>\n",
       "      <td>-</td>\n",
       "      <td>X</td>\n",
       "      <td>X</td>\n",
       "      <td>-</td>\n",
       "      <td>-</td>\n",
       "      <td>-</td>\n",
       "      <td>-</td>\n",
       "      <td>-</td>\n",
       "      <td>X</td>\n",
       "      <td>-</td>\n",
       "      <td>...</td>\n",
       "      <td>-</td>\n",
       "      <td>-</td>\n",
       "      <td>-</td>\n",
       "      <td>-</td>\n",
       "      <td>-</td>\n",
       "      <td>-</td>\n",
       "      <td>-</td>\n",
       "      <td>-</td>\n",
       "      <td>NaN</td>\n",
       "      <td>NaN</td>\n",
       "    </tr>\n",
       "    <tr>\n",
       "      <th>72</th>\n",
       "      <td>X</td>\n",
       "      <td>X</td>\n",
       "      <td>-</td>\n",
       "      <td>X</td>\n",
       "      <td>-</td>\n",
       "      <td>-</td>\n",
       "      <td>-</td>\n",
       "      <td>-</td>\n",
       "      <td>-</td>\n",
       "      <td>X</td>\n",
       "      <td>...</td>\n",
       "      <td>-</td>\n",
       "      <td>-</td>\n",
       "      <td>-</td>\n",
       "      <td>-</td>\n",
       "      <td>-</td>\n",
       "      <td>-</td>\n",
       "      <td>-</td>\n",
       "      <td>-</td>\n",
       "      <td>-</td>\n",
       "      <td>NaN</td>\n",
       "    </tr>\n",
       "  </tbody>\n",
       "</table>\n",
       "<p>73 rows × 73 columns</p>\n",
       "</div>"
      ],
      "text/plain": [
       "     0    1    2    3    4    5    6    7    8    9   ...   63   64   65   66  \\\n",
       "0   NaN  NaN  NaN  NaN  NaN  NaN  NaN  NaN  NaN  NaN  ...  NaN  NaN  NaN  NaN   \n",
       "1     -  NaN  NaN  NaN  NaN  NaN  NaN  NaN  NaN  NaN  ...  NaN  NaN  NaN  NaN   \n",
       "2     -    X  NaN  NaN  NaN  NaN  NaN  NaN  NaN  NaN  ...  NaN  NaN  NaN  NaN   \n",
       "3     -    X    -  NaN  NaN  NaN  NaN  NaN  NaN  NaN  ...  NaN  NaN  NaN  NaN   \n",
       "4     -    X    -    -  NaN  NaN  NaN  NaN  NaN  NaN  ...  NaN  NaN  NaN  NaN   \n",
       "..  ...  ...  ...  ...  ...  ...  ...  ...  ...  ...  ...  ...  ...  ...  ...   \n",
       "68    -    X    -    X    -    -    X    -    X    -  ...    -    -    -    -   \n",
       "69    -    X    X    -    -    -    X    X    X    -  ...    -    -    -    -   \n",
       "70    -    X    -    -    -    -    -    -    -    -  ...    -    -    -    -   \n",
       "71    -    X    X    -    -    -    -    -    X    -  ...    -    -    -    -   \n",
       "72    X    X    -    X    -    -    -    -    -    X  ...    -    -    -    -   \n",
       "\n",
       "     67   68   69   70   71  72  \n",
       "0   NaN  NaN  NaN  NaN  NaN NaN  \n",
       "1   NaN  NaN  NaN  NaN  NaN NaN  \n",
       "2   NaN  NaN  NaN  NaN  NaN NaN  \n",
       "3   NaN  NaN  NaN  NaN  NaN NaN  \n",
       "4   NaN  NaN  NaN  NaN  NaN NaN  \n",
       "..  ...  ...  ...  ...  ...  ..  \n",
       "68    -  NaN  NaN  NaN  NaN NaN  \n",
       "69    -    -  NaN  NaN  NaN NaN  \n",
       "70    -    -    -  NaN  NaN NaN  \n",
       "71    -    -    -    -  NaN NaN  \n",
       "72    -    -    -    -    - NaN  \n",
       "\n",
       "[73 rows x 73 columns]"
      ]
     },
     "execution_count": 22,
     "metadata": {},
     "output_type": "execute_result"
    }
   ],
   "source": [
    "matrix"
   ]
  },
  {
   "cell_type": "code",
   "execution_count": 10,
   "metadata": {},
   "outputs": [],
   "source": [
    "for a in data['Study']:\n",
    "    for b, v in zip(data['Study'],data[a]):\n",
    "        if v == 'X':\n",
    "            new.at[a, b] = 1"
   ]
  },
  {
   "cell_type": "code",
   "execution_count": 13,
   "metadata": {},
   "outputs": [
    {
     "data": {
      "text/plain": [
       "488.0"
      ]
     },
     "execution_count": 13,
     "metadata": {},
     "output_type": "execute_result"
    }
   ],
   "source": [
    "new.sum().sum() # 488 edges, the grid is correct"
   ]
  },
  {
   "cell_type": "code",
   "execution_count": 14,
   "metadata": {},
   "outputs": [],
   "source": [
    "#g = nx.generators.directed.kamada_kawai_layout(75, 3, 0.5)\n",
    "g = nx.generators.directed.random_k_out_graph(75, 3, 0.5) # bad start, because it generates a newtork for you\n",
    "pos = nx.layout.spring_layout(g)"
   ]
  },
  {
   "cell_type": "code",
   "execution_count": 15,
   "metadata": {},
   "outputs": [],
   "source": [
    "#node_sizes = [10 + i for i in range(len(g))]\n",
    "M = g.number_of_edges()\n",
    "edge_colors = range(2, M + 2)\n",
    "edge_alphas = [i for i in range(M)]"
   ]
  },
  {
   "cell_type": "code",
   "execution_count": 18,
   "metadata": {},
   "outputs": [],
   "source": [
    "study = attr_list['Study'].to_list()\n",
    "outcome = attr_list['Outcome'].to_list()"
   ]
  },
  {
   "cell_type": "code",
   "execution_count": 19,
   "metadata": {},
   "outputs": [],
   "source": [
    "coloring = [] # not quite working yet.\n",
    "for node in g:\n",
    "    if node < 0.1:\n",
    "        coloring.append('pink')\n",
    "    elif node > 0.9:\n",
    "        coloring.append('green')\n",
    "    else:\n",
    "        coloring.append('blue')"
   ]
  },
  {
   "cell_type": "code",
   "execution_count": 20,
   "metadata": {},
   "outputs": [],
   "source": [
    "labelss = {}\n",
    "for i, val in enumerate(study):\n",
    "    labelss[i] = val"
   ]
  },
  {
   "cell_type": "code",
   "execution_count": 21,
   "metadata": {},
   "outputs": [],
   "source": [
    "edge_list = []\n",
    "for i in range(0, matrix.shape[0]):\n",
    "    for j in range(0, matrix.shape[1]):\n",
    "        if isinstance(matrix.iloc[i, j], str):\n",
    "            s = matrix.iloc[i, j]\n",
    "            if s.replace(\" \", \"\") == \"X\":\n",
    "                edge_list.append((i, j))"
   ]
  },
  {
   "cell_type": "code",
   "execution_count": 23,
   "metadata": {},
   "outputs": [
    {
     "data": {
      "text/plain": [
       "[(2, 1),\n",
       " (3, 1),\n",
       " (4, 1),\n",
       " (5, 1),\n",
       " (6, 1),\n",
       " (6, 2),\n",
       " (6, 3),\n",
       " (6, 5),\n",
       " (7, 1),\n",
       " (7, 2),\n",
       " (7, 3),\n",
       " (7, 4),\n",
       " (7, 5),\n",
       " (7, 6),\n",
       " (8, 1),\n",
       " (8, 2),\n",
       " (9, 1),\n",
       " (10, 1),\n",
       " (11, 1),\n",
       " (11, 2),\n",
       " (11, 4),\n",
       " (11, 5),\n",
       " (11, 6),\n",
       " (12, 1),\n",
       " (12, 2),\n",
       " (12, 3),\n",
       " (12, 4),\n",
       " (12, 5),\n",
       " (13, 1),\n",
       " (13, 2),\n",
       " (13, 3),\n",
       " (13, 4),\n",
       " (13, 5),\n",
       " (13, 6),\n",
       " (13, 7),\n",
       " (13, 12),\n",
       " (14, 1),\n",
       " (14, 2),\n",
       " (14, 4),\n",
       " (14, 5),\n",
       " (14, 6),\n",
       " (15, 1),\n",
       " (15, 2),\n",
       " (15, 4),\n",
       " (16, 1),\n",
       " (16, 2),\n",
       " (16, 3),\n",
       " (16, 4),\n",
       " (16, 5),\n",
       " (16, 6),\n",
       " (16, 7),\n",
       " (16, 8),\n",
       " (16, 12),\n",
       " (17, 0),\n",
       " (17, 1),\n",
       " (18, 1),\n",
       " (18, 2),\n",
       " (18, 4),\n",
       " (18, 5),\n",
       " (18, 6),\n",
       " (18, 8),\n",
       " (18, 12),\n",
       " (20, 1),\n",
       " (20, 2),\n",
       " (20, 3),\n",
       " (20, 4),\n",
       " (20, 5),\n",
       " (20, 6),\n",
       " (20, 7),\n",
       " (20, 8),\n",
       " (20, 12),\n",
       " (21, 1),\n",
       " (21, 2),\n",
       " (21, 3),\n",
       " (21, 4),\n",
       " (21, 5),\n",
       " (21, 6),\n",
       " (21, 7),\n",
       " (21, 12),\n",
       " (22, 1),\n",
       " (22, 2),\n",
       " (22, 3),\n",
       " (22, 6),\n",
       " (22, 11),\n",
       " (23, 1),\n",
       " (23, 2),\n",
       " (23, 4),\n",
       " (23, 5),\n",
       " (23, 6),\n",
       " (23, 7),\n",
       " (23, 11),\n",
       " (23, 13),\n",
       " (23, 14),\n",
       " (23, 17),\n",
       " (24, 11),\n",
       " (24, 14),\n",
       " (25, 0),\n",
       " (25, 1),\n",
       " (25, 2),\n",
       " (25, 3),\n",
       " (25, 4),\n",
       " (25, 5),\n",
       " (25, 6),\n",
       " (25, 7),\n",
       " (25, 9),\n",
       " (25, 10),\n",
       " (25, 12),\n",
       " (25, 14),\n",
       " (25, 15),\n",
       " (25, 17),\n",
       " (26, 1),\n",
       " (26, 2),\n",
       " (26, 4),\n",
       " (26, 5),\n",
       " (26, 6),\n",
       " (26, 7),\n",
       " (26, 11),\n",
       " (26, 14),\n",
       " (27, 1),\n",
       " (27, 2),\n",
       " (27, 3),\n",
       " (27, 4),\n",
       " (27, 8),\n",
       " (27, 14),\n",
       " (27, 15),\n",
       " (28, 1),\n",
       " (28, 2),\n",
       " (28, 3),\n",
       " (28, 4),\n",
       " (28, 5),\n",
       " (28, 6),\n",
       " (28, 7),\n",
       " (28, 11),\n",
       " (28, 12),\n",
       " (28, 14),\n",
       " (28, 15),\n",
       " (29, 1),\n",
       " (30, 1),\n",
       " (30, 2),\n",
       " (30, 3),\n",
       " (30, 5),\n",
       " (30, 6),\n",
       " (30, 7),\n",
       " (30, 8),\n",
       " (30, 12),\n",
       " (30, 14),\n",
       " (30, 20),\n",
       " (30, 21),\n",
       " (31, 1),\n",
       " (31, 6),\n",
       " (31, 7),\n",
       " (31, 23),\n",
       " (32, 1),\n",
       " (32, 6),\n",
       " (32, 15),\n",
       " (32, 19),\n",
       " (32, 21),\n",
       " (33, 1),\n",
       " (33, 2),\n",
       " (33, 4),\n",
       " (33, 5),\n",
       " (33, 6),\n",
       " (33, 7),\n",
       " (33, 11),\n",
       " (33, 12),\n",
       " (33, 14),\n",
       " (33, 20),\n",
       " (33, 21),\n",
       " (34, 1),\n",
       " (34, 3),\n",
       " (34, 9),\n",
       " (34, 10),\n",
       " (34, 20),\n",
       " (35, 1),\n",
       " (35, 2),\n",
       " (35, 9),\n",
       " (36, 1),\n",
       " (36, 2),\n",
       " (36, 3),\n",
       " (36, 4),\n",
       " (36, 5),\n",
       " (36, 6),\n",
       " (36, 7),\n",
       " (36, 11),\n",
       " (36, 12),\n",
       " (36, 13),\n",
       " (36, 14),\n",
       " (36, 15),\n",
       " (37, 1),\n",
       " (37, 2),\n",
       " (37, 5),\n",
       " (37, 7),\n",
       " (37, 8),\n",
       " (37, 21),\n",
       " (37, 22),\n",
       " (38, 1),\n",
       " (38, 6),\n",
       " (38, 11),\n",
       " (38, 23),\n",
       " (38, 24),\n",
       " (39, 0),\n",
       " (40, 0),\n",
       " (40, 1),\n",
       " (40, 6),\n",
       " (40, 9),\n",
       " (40, 10),\n",
       " (40, 17),\n",
       " (40, 23),\n",
       " (40, 25),\n",
       " (41, 1),\n",
       " (41, 4),\n",
       " (41, 7),\n",
       " (41, 13),\n",
       " (42, 1),\n",
       " (42, 2),\n",
       " (42, 3),\n",
       " (42, 5),\n",
       " (42, 6),\n",
       " (42, 7),\n",
       " (42, 8),\n",
       " (42, 11),\n",
       " (42, 12),\n",
       " (42, 13),\n",
       " (42, 14),\n",
       " (42, 15),\n",
       " (42, 20),\n",
       " (42, 21),\n",
       " (42, 27),\n",
       " (42, 30),\n",
       " (42, 36),\n",
       " (42, 37),\n",
       " (43, 1),\n",
       " (43, 2),\n",
       " (43, 6),\n",
       " (43, 11),\n",
       " (43, 20),\n",
       " (43, 38),\n",
       " (44, 1),\n",
       " (44, 2),\n",
       " (44, 3),\n",
       " (44, 5),\n",
       " (44, 6),\n",
       " (44, 7),\n",
       " (44, 8),\n",
       " (44, 12),\n",
       " (44, 13),\n",
       " (44, 14),\n",
       " (44, 21),\n",
       " (45, 1),\n",
       " (45, 4),\n",
       " (45, 11),\n",
       " (45, 15),\n",
       " (45, 23),\n",
       " (45, 28),\n",
       " (46, 1),\n",
       " (46, 5),\n",
       " (46, 7),\n",
       " (47, 1),\n",
       " (47, 2),\n",
       " (47, 3),\n",
       " (47, 4),\n",
       " (47, 5),\n",
       " (47, 6),\n",
       " (47, 7),\n",
       " (47, 11),\n",
       " (47, 13),\n",
       " (47, 23),\n",
       " (47, 24),\n",
       " (47, 29),\n",
       " (48, 1),\n",
       " (48, 5),\n",
       " (48, 6),\n",
       " (48, 10),\n",
       " (48, 12),\n",
       " (48, 13),\n",
       " (48, 20),\n",
       " (48, 21),\n",
       " (48, 25),\n",
       " (48, 30),\n",
       " (48, 31),\n",
       " (48, 35),\n",
       " (49, 1),\n",
       " (49, 2),\n",
       " (49, 4),\n",
       " (49, 5),\n",
       " (49, 6),\n",
       " (49, 7),\n",
       " (49, 8),\n",
       " (49, 11),\n",
       " (49, 12),\n",
       " (49, 13),\n",
       " (49, 14),\n",
       " (49, 15),\n",
       " (49, 16),\n",
       " (49, 21),\n",
       " (49, 22),\n",
       " (49, 23),\n",
       " (49, 25),\n",
       " (49, 27),\n",
       " (49, 31),\n",
       " (49, 37),\n",
       " (49, 38),\n",
       " (50, 1),\n",
       " (50, 2),\n",
       " (50, 4),\n",
       " (50, 12),\n",
       " (51, 1),\n",
       " (51, 4),\n",
       " (51, 5),\n",
       " (51, 6),\n",
       " (51, 7),\n",
       " (51, 8),\n",
       " (51, 9),\n",
       " (51, 10),\n",
       " (51, 11),\n",
       " (51, 13),\n",
       " (51, 14),\n",
       " (51, 16),\n",
       " (51, 17),\n",
       " (51, 25),\n",
       " (51, 26),\n",
       " (51, 32),\n",
       " (51, 34),\n",
       " (51, 35),\n",
       " (51, 36),\n",
       " (51, 38),\n",
       " (51, 40),\n",
       " (52, 1),\n",
       " (52, 2),\n",
       " (52, 4),\n",
       " (52, 5),\n",
       " (52, 7),\n",
       " (52, 12),\n",
       " (52, 13),\n",
       " (52, 14),\n",
       " (52, 31),\n",
       " (53, 1),\n",
       " (53, 4),\n",
       " (53, 5),\n",
       " (53, 6),\n",
       " (53, 11),\n",
       " (53, 21),\n",
       " (53, 23),\n",
       " (53, 30),\n",
       " (53, 43),\n",
       " (54, 1),\n",
       " (54, 5),\n",
       " (54, 7),\n",
       " (54, 8),\n",
       " (54, 21),\n",
       " (54, 22),\n",
       " (54, 30),\n",
       " (54, 31),\n",
       " (54, 37),\n",
       " (55, 20),\n",
       " (56, 1),\n",
       " (57, 1),\n",
       " (57, 4),\n",
       " (57, 7),\n",
       " (57, 24),\n",
       " (57, 26),\n",
       " (57, 36),\n",
       " (57, 38),\n",
       " (57, 41),\n",
       " (57, 42),\n",
       " (57, 43),\n",
       " (57, 49),\n",
       " (57, 50),\n",
       " (57, 53),\n",
       " (58, 1),\n",
       " (58, 2),\n",
       " (58, 5),\n",
       " (58, 8),\n",
       " (58, 16),\n",
       " (58, 27),\n",
       " (58, 31),\n",
       " (58, 36),\n",
       " (58, 38),\n",
       " (59, 34),\n",
       " (60, 1),\n",
       " (61, 1),\n",
       " (61, 2),\n",
       " (61, 5),\n",
       " (61, 6),\n",
       " (61, 8),\n",
       " (61, 14),\n",
       " (61, 15),\n",
       " (61, 16),\n",
       " (61, 18),\n",
       " (61, 20),\n",
       " (61, 21),\n",
       " (61, 23),\n",
       " (61, 25),\n",
       " (61, 27),\n",
       " (61, 31),\n",
       " (61, 36),\n",
       " (61, 37),\n",
       " (61, 38),\n",
       " (61, 41),\n",
       " (61, 46),\n",
       " (61, 47),\n",
       " (62, 1),\n",
       " (62, 2),\n",
       " (62, 3),\n",
       " (62, 5),\n",
       " (62, 6),\n",
       " (62, 11),\n",
       " (62, 12),\n",
       " (62, 13),\n",
       " (62, 15),\n",
       " (62, 26),\n",
       " (62, 37),\n",
       " (62, 44),\n",
       " (62, 45),\n",
       " (63, 11),\n",
       " (63, 23),\n",
       " (63, 24),\n",
       " (63, 55),\n",
       " (64, 1),\n",
       " (64, 47),\n",
       " (65, 1),\n",
       " (65, 2),\n",
       " (65, 8),\n",
       " (65, 11),\n",
       " (65, 26),\n",
       " (65, 44),\n",
       " (65, 62),\n",
       " (66, 1),\n",
       " (66, 2),\n",
       " (66, 3),\n",
       " (66, 4),\n",
       " (66, 5),\n",
       " (66, 6),\n",
       " (66, 7),\n",
       " (66, 8),\n",
       " (66, 12),\n",
       " (66, 16),\n",
       " (66, 20),\n",
       " (66, 24),\n",
       " (66, 30),\n",
       " (66, 37),\n",
       " (66, 38),\n",
       " (66, 41),\n",
       " (66, 47),\n",
       " (66, 49),\n",
       " (67, 1),\n",
       " (67, 6),\n",
       " (67, 11),\n",
       " (67, 12),\n",
       " (67, 14),\n",
       " (67, 20),\n",
       " (67, 23),\n",
       " (68, 1),\n",
       " (68, 3),\n",
       " (68, 6),\n",
       " (68, 8),\n",
       " (68, 28),\n",
       " (68, 56),\n",
       " (69, 1),\n",
       " (69, 2),\n",
       " (69, 6),\n",
       " (69, 7),\n",
       " (69, 8),\n",
       " (69, 13),\n",
       " (69, 15),\n",
       " (69, 21),\n",
       " (69, 22),\n",
       " (69, 36),\n",
       " (69, 37),\n",
       " (69, 42),\n",
       " (69, 43),\n",
       " (69, 50),\n",
       " (70, 1),\n",
       " (71, 1),\n",
       " (71, 2),\n",
       " (71, 8),\n",
       " (71, 44),\n",
       " (71, 57),\n",
       " (72, 0),\n",
       " (72, 1),\n",
       " (72, 3),\n",
       " (72, 9),\n",
       " (72, 10),\n",
       " (72, 12),\n",
       " (72, 17),\n",
       " (72, 25),\n",
       " (72, 29),\n",
       " (72, 34)]"
      ]
     },
     "execution_count": 23,
     "metadata": {},
     "output_type": "execute_result"
    }
   ],
   "source": [
    "edge_list # is useful"
   ]
  },
  {
   "cell_type": "code",
   "execution_count": 26,
   "metadata": {},
   "outputs": [
    {
     "data": {
      "text/plain": [
       "['Mossner',\n",
       " 'Caspi',\n",
       " 'Eley',\n",
       " 'Grabe_a',\n",
       " 'Kaufman_a',\n",
       " 'Gillespie',\n",
       " 'Kendler',\n",
       " 'Surtees',\n",
       " 'Sjoberg',\n",
       " 'Nakatani',\n",
       " 'Ramasubbu',\n",
       " 'Kaufman_b',\n",
       " 'Wilhelm_a',\n",
       " 'Taylor',\n",
       " 'Jacobs',\n",
       " 'Zalsman',\n",
       " 'Scheid_a',\n",
       " 'Lenze',\n",
       " 'Dick',\n",
       " 'Kraus',\n",
       " 'Cervilla',\n",
       " 'Chipman',\n",
       " 'Chorbov',\n",
       " 'Kim_a',\n",
       " 'Wichers',\n",
       " 'Otte',\n",
       " 'Cicchetti_a',\n",
       " 'Brummett',\n",
       " 'Kilpatrick',\n",
       " 'Bull',\n",
       " 'Lazary',\n",
       " 'Power',\n",
       " 'Lotrich',\n",
       " 'Zhang_a',\n",
       " 'Kohen',\n",
       " 'PhillipsBute',\n",
       " 'Araya',\n",
       " 'Laucht',\n",
       " 'Aguilera',\n",
       " 'Zhang_b',\n",
       " 'Kim_b',\n",
       " 'Ritchie',\n",
       " 'Aslund',\n",
       " 'Benjet',\n",
       " 'Hammen',\n",
       " 'Gibb',\n",
       " 'Coventry',\n",
       " 'Ressler',\n",
       " 'Grassi',\n",
       " 'Goldman',\n",
       " 'Kumsta',\n",
       " 'Sen',\n",
       " 'Antypa',\n",
       " 'Sugden',\n",
       " 'Conway',\n",
       " 'Comasco_b',\n",
       " 'Fergusson',\n",
       " 'Uher',\n",
       " 'Stefanis',\n",
       " 'Mitchell',\n",
       " 'Tsuboi',\n",
       " 'Carli',\n",
       " 'Hankin',\n",
       " 'Comasco_a',\n",
       " 'Cicchetti_b',\n",
       " 'Jenness',\n",
       " 'Scheid_b',\n",
       " 'Quinn',\n",
       " 'Grabe_b',\n",
       " 'Petersen',\n",
       " 'Beaver',\n",
       " 'Brown',\n",
       " 'Wilhelm_b']"
      ]
     },
     "execution_count": 26,
     "metadata": {},
     "output_type": "execute_result"
    }
   ],
   "source": [
    "study"
   ]
  },
  {
   "cell_type": "code",
   "execution_count": 45,
   "metadata": {},
   "outputs": [],
   "source": [
    "# generate the real network\n",
    "G = nx.DiGraph()\n",
    "G.add_nodes_from(range(1,74))"
   ]
  },
  {
   "cell_type": "code",
   "execution_count": 46,
   "metadata": {},
   "outputs": [
    {
     "data": {
      "text/plain": [
       "NodeView((1, 2, 3, 4, 5, 6, 7, 8, 9, 10, 11, 12, 13, 14, 15, 16, 17, 18, 19, 20, 21, 22, 23, 24, 25, 26, 27, 28, 29, 30, 31, 32, 33, 34, 35, 36, 37, 38, 39, 40, 41, 42, 43, 44, 45, 46, 47, 48, 49, 50, 51, 52, 53, 54, 55, 56, 57, 58, 59, 60, 61, 62, 63, 64, 65, 66, 67, 68, 69, 70, 71, 72, 73))"
      ]
     },
     "execution_count": 46,
     "metadata": {},
     "output_type": "execute_result"
    }
   ],
   "source": [
    "G.nodes()"
   ]
  },
  {
   "cell_type": "code",
   "execution_count": 50,
   "metadata": {},
   "outputs": [],
   "source": [
    "G.add_edges_from(edge_list)"
   ]
  },
  {
   "cell_type": "code",
   "execution_count": 51,
   "metadata": {},
   "outputs": [
    {
     "data": {
      "text/plain": [
       "OutEdgeView([(2, 1), (3, 1), (4, 1), (5, 1), (6, 1), (6, 2), (6, 3), (6, 5), (7, 1), (7, 2), (7, 3), (7, 4), (7, 5), (7, 6), (8, 1), (8, 2), (9, 1), (10, 1), (11, 1), (11, 2), (11, 4), (11, 5), (11, 6), (12, 1), (12, 2), (12, 3), (12, 4), (12, 5), (13, 1), (13, 2), (13, 3), (13, 4), (13, 5), (13, 6), (13, 7), (13, 12), (14, 1), (14, 2), (14, 4), (14, 5), (14, 6), (15, 1), (15, 2), (15, 4), (16, 1), (16, 2), (16, 3), (16, 4), (16, 5), (16, 6), (16, 7), (16, 8), (16, 12), (17, 0), (17, 1), (18, 1), (18, 2), (18, 4), (18, 5), (18, 6), (18, 8), (18, 12), (20, 1), (20, 2), (20, 3), (20, 4), (20, 5), (20, 6), (20, 7), (20, 8), (20, 12), (21, 1), (21, 2), (21, 3), (21, 4), (21, 5), (21, 6), (21, 7), (21, 12), (22, 1), (22, 2), (22, 3), (22, 6), (22, 11), (23, 1), (23, 2), (23, 4), (23, 5), (23, 6), (23, 7), (23, 11), (23, 13), (23, 14), (23, 17), (24, 11), (24, 14), (25, 0), (25, 1), (25, 2), (25, 3), (25, 4), (25, 5), (25, 6), (25, 7), (25, 9), (25, 10), (25, 12), (25, 14), (25, 15), (25, 17), (26, 1), (26, 2), (26, 4), (26, 5), (26, 6), (26, 7), (26, 11), (26, 14), (27, 1), (27, 2), (27, 3), (27, 4), (27, 8), (27, 14), (27, 15), (28, 1), (28, 2), (28, 3), (28, 4), (28, 5), (28, 6), (28, 7), (28, 11), (28, 12), (28, 14), (28, 15), (29, 1), (30, 1), (30, 2), (30, 3), (30, 5), (30, 6), (30, 7), (30, 8), (30, 12), (30, 14), (30, 20), (30, 21), (31, 1), (31, 6), (31, 7), (31, 23), (32, 1), (32, 6), (32, 15), (32, 19), (32, 21), (33, 1), (33, 2), (33, 4), (33, 5), (33, 6), (33, 7), (33, 11), (33, 12), (33, 14), (33, 20), (33, 21), (34, 1), (34, 3), (34, 9), (34, 10), (34, 20), (35, 1), (35, 2), (35, 9), (36, 1), (36, 2), (36, 3), (36, 4), (36, 5), (36, 6), (36, 7), (36, 11), (36, 12), (36, 13), (36, 14), (36, 15), (37, 1), (37, 2), (37, 5), (37, 7), (37, 8), (37, 21), (37, 22), (38, 1), (38, 6), (38, 11), (38, 23), (38, 24), (39, 0), (40, 0), (40, 1), (40, 6), (40, 9), (40, 10), (40, 17), (40, 23), (40, 25), (41, 1), (41, 4), (41, 7), (41, 13), (42, 1), (42, 2), (42, 3), (42, 5), (42, 6), (42, 7), (42, 8), (42, 11), (42, 12), (42, 13), (42, 14), (42, 15), (42, 20), (42, 21), (42, 27), (42, 30), (42, 36), (42, 37), (43, 1), (43, 2), (43, 6), (43, 11), (43, 20), (43, 38), (44, 1), (44, 2), (44, 3), (44, 5), (44, 6), (44, 7), (44, 8), (44, 12), (44, 13), (44, 14), (44, 21), (45, 1), (45, 4), (45, 11), (45, 15), (45, 23), (45, 28), (46, 1), (46, 5), (46, 7), (47, 1), (47, 2), (47, 3), (47, 4), (47, 5), (47, 6), (47, 7), (47, 11), (47, 13), (47, 23), (47, 24), (47, 29), (48, 1), (48, 5), (48, 6), (48, 10), (48, 12), (48, 13), (48, 20), (48, 21), (48, 25), (48, 30), (48, 31), (48, 35), (49, 1), (49, 2), (49, 4), (49, 5), (49, 6), (49, 7), (49, 8), (49, 11), (49, 12), (49, 13), (49, 14), (49, 15), (49, 16), (49, 21), (49, 22), (49, 23), (49, 25), (49, 27), (49, 31), (49, 37), (49, 38), (50, 1), (50, 2), (50, 4), (50, 12), (51, 1), (51, 4), (51, 5), (51, 6), (51, 7), (51, 8), (51, 9), (51, 10), (51, 11), (51, 13), (51, 14), (51, 16), (51, 17), (51, 25), (51, 26), (51, 32), (51, 34), (51, 35), (51, 36), (51, 38), (51, 40), (52, 1), (52, 2), (52, 4), (52, 5), (52, 7), (52, 12), (52, 13), (52, 14), (52, 31), (53, 1), (53, 4), (53, 5), (53, 6), (53, 11), (53, 21), (53, 23), (53, 30), (53, 43), (54, 1), (54, 5), (54, 7), (54, 8), (54, 21), (54, 22), (54, 30), (54, 31), (54, 37), (55, 20), (56, 1), (57, 1), (57, 4), (57, 7), (57, 24), (57, 26), (57, 36), (57, 38), (57, 41), (57, 42), (57, 43), (57, 49), (57, 50), (57, 53), (58, 1), (58, 2), (58, 5), (58, 8), (58, 16), (58, 27), (58, 31), (58, 36), (58, 38), (59, 34), (60, 1), (61, 1), (61, 2), (61, 5), (61, 6), (61, 8), (61, 14), (61, 15), (61, 16), (61, 18), (61, 20), (61, 21), (61, 23), (61, 25), (61, 27), (61, 31), (61, 36), (61, 37), (61, 38), (61, 41), (61, 46), (61, 47), (62, 1), (62, 2), (62, 3), (62, 5), (62, 6), (62, 11), (62, 12), (62, 13), (62, 15), (62, 26), (62, 37), (62, 44), (62, 45), (63, 11), (63, 23), (63, 24), (63, 55), (64, 1), (64, 47), (65, 1), (65, 2), (65, 8), (65, 11), (65, 26), (65, 44), (65, 62), (66, 1), (66, 2), (66, 3), (66, 4), (66, 5), (66, 6), (66, 7), (66, 8), (66, 12), (66, 16), (66, 20), (66, 24), (66, 30), (66, 37), (66, 38), (66, 41), (66, 47), (66, 49), (67, 1), (67, 6), (67, 11), (67, 12), (67, 14), (67, 20), (67, 23), (68, 1), (68, 3), (68, 6), (68, 8), (68, 28), (68, 56), (69, 1), (69, 2), (69, 6), (69, 7), (69, 8), (69, 13), (69, 15), (69, 21), (69, 22), (69, 36), (69, 37), (69, 42), (69, 43), (69, 50), (70, 1), (71, 1), (71, 2), (71, 8), (71, 44), (71, 57), (72, 0), (72, 1), (72, 3), (72, 9), (72, 10), (72, 12), (72, 17), (72, 25), (72, 29), (72, 34)])"
      ]
     },
     "execution_count": 51,
     "metadata": {},
     "output_type": "execute_result"
    }
   ],
   "source": [
    "G.edges()"
   ]
  },
  {
   "cell_type": "code",
   "execution_count": 43,
   "metadata": {},
   "outputs": [
    {
     "name": "stdout",
     "output_type": "stream",
     "text": [
      "\n"
     ]
    }
   ],
   "source": [
    "print(G)"
   ]
  },
  {
   "cell_type": "code",
   "execution_count": 53,
   "metadata": {},
   "outputs": [
    {
     "ename": "AttributeError",
     "evalue": "'list' object has no attribute 'items'",
     "output_type": "error",
     "traceback": [
      "\u001b[1;31m---------------------------------------------------------------------------\u001b[0m",
      "\u001b[1;31mAttributeError\u001b[0m                            Traceback (most recent call last)",
      "\u001b[1;32m<ipython-input-53-abab0189fbc4>\u001b[0m in \u001b[0;36m<module>\u001b[1;34m\u001b[0m\n\u001b[1;32m----> 1\u001b[1;33m nx.draw(\n\u001b[0m\u001b[0;32m      2\u001b[0m     \u001b[0mG\u001b[0m\u001b[1;33m,\u001b[0m\u001b[1;33m\u001b[0m\u001b[1;33m\u001b[0m\u001b[0m\n\u001b[0;32m      3\u001b[0m     \u001b[0mlabels\u001b[0m\u001b[1;33m=\u001b[0m\u001b[0mstudy\u001b[0m\u001b[1;33m,\u001b[0m\u001b[1;33m\u001b[0m\u001b[1;33m\u001b[0m\u001b[0m\n\u001b[0;32m      4\u001b[0m     \u001b[0mwith_labels\u001b[0m\u001b[1;33m=\u001b[0m\u001b[1;32mTrue\u001b[0m\u001b[1;33m,\u001b[0m\u001b[1;33m\u001b[0m\u001b[1;33m\u001b[0m\u001b[0m\n\u001b[0;32m      5\u001b[0m     \u001b[0mnode_size\u001b[0m\u001b[1;33m=\u001b[0m\u001b[1;36m150\u001b[0m\u001b[1;33m,\u001b[0m \u001b[1;31m#node_sizes,\u001b[0m\u001b[1;33m\u001b[0m\u001b[1;33m\u001b[0m\u001b[0m\n",
      "\u001b[1;32m~\\anaconda3_2020\\lib\\site-packages\\networkx\\drawing\\nx_pylab.py\u001b[0m in \u001b[0;36mdraw\u001b[1;34m(G, pos, ax, **kwds)\u001b[0m\n\u001b[0;32m    123\u001b[0m         \u001b[0mkwds\u001b[0m\u001b[1;33m[\u001b[0m\u001b[1;34m'with_labels'\u001b[0m\u001b[1;33m]\u001b[0m \u001b[1;33m=\u001b[0m \u001b[1;34m'labels'\u001b[0m \u001b[1;32min\u001b[0m \u001b[0mkwds\u001b[0m\u001b[1;33m\u001b[0m\u001b[1;33m\u001b[0m\u001b[0m\n\u001b[0;32m    124\u001b[0m \u001b[1;33m\u001b[0m\u001b[0m\n\u001b[1;32m--> 125\u001b[1;33m     \u001b[0mdraw_networkx\u001b[0m\u001b[1;33m(\u001b[0m\u001b[0mG\u001b[0m\u001b[1;33m,\u001b[0m \u001b[0mpos\u001b[0m\u001b[1;33m=\u001b[0m\u001b[0mpos\u001b[0m\u001b[1;33m,\u001b[0m \u001b[0max\u001b[0m\u001b[1;33m=\u001b[0m\u001b[0max\u001b[0m\u001b[1;33m,\u001b[0m \u001b[1;33m**\u001b[0m\u001b[0mkwds\u001b[0m\u001b[1;33m)\u001b[0m\u001b[1;33m\u001b[0m\u001b[1;33m\u001b[0m\u001b[0m\n\u001b[0m\u001b[0;32m    126\u001b[0m     \u001b[0max\u001b[0m\u001b[1;33m.\u001b[0m\u001b[0mset_axis_off\u001b[0m\u001b[1;33m(\u001b[0m\u001b[1;33m)\u001b[0m\u001b[1;33m\u001b[0m\u001b[1;33m\u001b[0m\u001b[0m\n\u001b[0;32m    127\u001b[0m     \u001b[0mplt\u001b[0m\u001b[1;33m.\u001b[0m\u001b[0mdraw_if_interactive\u001b[0m\u001b[1;33m(\u001b[0m\u001b[1;33m)\u001b[0m\u001b[1;33m\u001b[0m\u001b[1;33m\u001b[0m\u001b[0m\n",
      "\u001b[1;32m~\\anaconda3_2020\\lib\\site-packages\\networkx\\drawing\\nx_pylab.py\u001b[0m in \u001b[0;36mdraw_networkx\u001b[1;34m(G, pos, arrows, with_labels, **kwds)\u001b[0m\n\u001b[0;32m    275\u001b[0m     \u001b[0medge_collection\u001b[0m \u001b[1;33m=\u001b[0m \u001b[0mdraw_networkx_edges\u001b[0m\u001b[1;33m(\u001b[0m\u001b[0mG\u001b[0m\u001b[1;33m,\u001b[0m \u001b[0mpos\u001b[0m\u001b[1;33m,\u001b[0m \u001b[0marrows\u001b[0m\u001b[1;33m=\u001b[0m\u001b[0marrows\u001b[0m\u001b[1;33m,\u001b[0m \u001b[1;33m**\u001b[0m\u001b[0mkwds\u001b[0m\u001b[1;33m)\u001b[0m\u001b[1;33m\u001b[0m\u001b[1;33m\u001b[0m\u001b[0m\n\u001b[0;32m    276\u001b[0m     \u001b[1;32mif\u001b[0m \u001b[0mwith_labels\u001b[0m\u001b[1;33m:\u001b[0m\u001b[1;33m\u001b[0m\u001b[1;33m\u001b[0m\u001b[0m\n\u001b[1;32m--> 277\u001b[1;33m         \u001b[0mdraw_networkx_labels\u001b[0m\u001b[1;33m(\u001b[0m\u001b[0mG\u001b[0m\u001b[1;33m,\u001b[0m \u001b[0mpos\u001b[0m\u001b[1;33m,\u001b[0m \u001b[1;33m**\u001b[0m\u001b[0mkwds\u001b[0m\u001b[1;33m)\u001b[0m\u001b[1;33m\u001b[0m\u001b[1;33m\u001b[0m\u001b[0m\n\u001b[0m\u001b[0;32m    278\u001b[0m     \u001b[0mplt\u001b[0m\u001b[1;33m.\u001b[0m\u001b[0mdraw_if_interactive\u001b[0m\u001b[1;33m(\u001b[0m\u001b[1;33m)\u001b[0m\u001b[1;33m\u001b[0m\u001b[1;33m\u001b[0m\u001b[0m\n\u001b[0;32m    279\u001b[0m \u001b[1;33m\u001b[0m\u001b[0m\n",
      "\u001b[1;32m~\\anaconda3_2020\\lib\\site-packages\\networkx\\drawing\\nx_pylab.py\u001b[0m in \u001b[0;36mdraw_networkx_labels\u001b[1;34m(G, pos, labels, font_size, font_color, font_family, font_weight, alpha, bbox, ax, **kwds)\u001b[0m\n\u001b[0;32m    797\u001b[0m \u001b[1;33m\u001b[0m\u001b[0m\n\u001b[0;32m    798\u001b[0m     \u001b[0mtext_items\u001b[0m \u001b[1;33m=\u001b[0m \u001b[1;33m{\u001b[0m\u001b[1;33m}\u001b[0m  \u001b[1;31m# there is no text collection so we'll fake one\u001b[0m\u001b[1;33m\u001b[0m\u001b[1;33m\u001b[0m\u001b[0m\n\u001b[1;32m--> 799\u001b[1;33m     \u001b[1;32mfor\u001b[0m \u001b[0mn\u001b[0m\u001b[1;33m,\u001b[0m \u001b[0mlabel\u001b[0m \u001b[1;32min\u001b[0m \u001b[0mlabels\u001b[0m\u001b[1;33m.\u001b[0m\u001b[0mitems\u001b[0m\u001b[1;33m(\u001b[0m\u001b[1;33m)\u001b[0m\u001b[1;33m:\u001b[0m\u001b[1;33m\u001b[0m\u001b[1;33m\u001b[0m\u001b[0m\n\u001b[0m\u001b[0;32m    800\u001b[0m         \u001b[1;33m(\u001b[0m\u001b[0mx\u001b[0m\u001b[1;33m,\u001b[0m \u001b[0my\u001b[0m\u001b[1;33m)\u001b[0m \u001b[1;33m=\u001b[0m \u001b[0mpos\u001b[0m\u001b[1;33m[\u001b[0m\u001b[0mn\u001b[0m\u001b[1;33m]\u001b[0m\u001b[1;33m\u001b[0m\u001b[1;33m\u001b[0m\u001b[0m\n\u001b[0;32m    801\u001b[0m         \u001b[1;32mif\u001b[0m \u001b[1;32mnot\u001b[0m \u001b[0mis_string_like\u001b[0m\u001b[1;33m(\u001b[0m\u001b[0mlabel\u001b[0m\u001b[1;33m)\u001b[0m\u001b[1;33m:\u001b[0m\u001b[1;33m\u001b[0m\u001b[1;33m\u001b[0m\u001b[0m\n",
      "\u001b[1;31mAttributeError\u001b[0m: 'list' object has no attribute 'items'"
     ]
    },
    {
     "data": {
      "image/png": "[encoded data removed]",
      "text/plain": [
       "<Figure size 432x288 with 1 Axes>"
      ]
     },
     "metadata": {},
     "output_type": "display_data"
    }
   ],
   "source": [
    "nx.draw(\n",
    "    G,\n",
    "    labels=study,\n",
    "    with_labels=True,\n",
    "    node_size=150, #node_sizes,\n",
    "    width=0.5,\n",
    "    font_size=9,\n",
    "    alpha=0.5\n",
    ")"
   ]
  },
  {
   "cell_type": "code",
   "execution_count": 56,
   "metadata": {},
   "outputs": [
    {
     "data": {
      "image/png": "[encoded data removed]",
      "text/plain": [
       "<Figure size 432x288 with 1 Axes>"
      ]
     },
     "metadata": {},
     "output_type": "display_data"
    }
   ],
   "source": [
    "nx.draw_networkx(G, la)"
   ]
  },
  {
   "cell_type": "code",
   "execution_count": null,
   "metadata": {},
   "outputs": [],
   "source": [
    "# Three step forumula for constructing a graph\n",
    "# (1) read the data, find out how many nodes are there, read out the edge_list, and read out attributes\n",
    "# (2) initiate a network object (nx.Digraph())\n",
    "# (3) add nodes (G.add_nodes_from(range(1,74)))\n",
    "# (4) add edges from edge_list\n",
    "# (5) adding attributes\n",
    "# (6) visualization"
   ]
  },
  {
   "cell_type": "code",
   "execution_count": 46,
   "metadata": {},
   "outputs": [
    {
     "data": {
      "image/png": "[encoded data removed]",
      "text/plain": [
       "<Figure size 432x288 with 1 Axes>"
      ]
     },
     "metadata": {
      "needs_background": "light"
     },
     "output_type": "display_data"
    }
   ],
   "source": [
    "ax = plt.gca()\n",
    "ax.set_axis_off()\n",
    "plt.show()"
   ]
  },
  {
   "cell_type": "code",
   "execution_count": 47,
   "metadata": {},
   "outputs": [],
   "source": [
    "g_sim = nx.generators.directed.random_k_out_graph(75, 2, 0.5)\n",
    "sim_edge_list = []\n",
    "year_gap = 2"
   ]
  },
  {
   "cell_type": "code",
   "execution_count": 48,
   "metadata": {},
   "outputs": [],
   "source": [
    "# degree centrality (IN) for graph g\n",
    "g_degree = nx.in_degree_centrality(g)"
   ]
  },
  {
   "cell_type": "code",
   "execution_count": 49,
   "metadata": {},
   "outputs": [
    {
     "data": {
      "text/plain": [
       "dict"
      ]
     },
     "execution_count": 49,
     "metadata": {},
     "output_type": "execute_result"
    }
   ],
   "source": [
    "type(g_degree)"
   ]
  },
  {
   "cell_type": "code",
   "execution_count": 50,
   "metadata": {},
   "outputs": [
    {
     "ename": "NameError",
     "evalue": "name 'year' is not defined",
     "output_type": "error",
     "traceback": [
      "\u001b[1;31m---------------------------------------------------------------------------\u001b[0m",
      "\u001b[1;31mNameError\u001b[0m                                 Traceback (most recent call last)",
      "\u001b[1;32m<ipython-input-50-225cd64f84ee>\u001b[0m in \u001b[0;36m<module>\u001b[1;34m\u001b[0m\n\u001b[1;32m----> 1\u001b[1;33m \u001b[1;32mfor\u001b[0m \u001b[0mi\u001b[0m \u001b[1;32min\u001b[0m \u001b[0myear\u001b[0m\u001b[1;33m:\u001b[0m\u001b[1;33m\u001b[0m\u001b[1;33m\u001b[0m\u001b[0m\n\u001b[0m\u001b[0;32m      2\u001b[0m     \u001b[1;31m#print(\"i = \", i)\u001b[0m\u001b[1;33m\u001b[0m\u001b[1;33m\u001b[0m\u001b[1;33m\u001b[0m\u001b[0m\n\u001b[0;32m      3\u001b[0m     \u001b[1;32mfor\u001b[0m \u001b[0mj\u001b[0m \u001b[1;32min\u001b[0m \u001b[0mrange\u001b[0m\u001b[1;33m(\u001b[0m\u001b[0mlen\u001b[0m\u001b[1;33m(\u001b[0m\u001b[0myear\u001b[0m\u001b[1;33m)\u001b[0m\u001b[1;33m)\u001b[0m\u001b[1;33m:\u001b[0m\u001b[1;33m\u001b[0m\u001b[1;33m\u001b[0m\u001b[0m\n\u001b[0;32m      4\u001b[0m         \u001b[1;32mif\u001b[0m \u001b[0myear\u001b[0m\u001b[1;33m[\u001b[0m\u001b[0mj\u001b[0m\u001b[1;33m]\u001b[0m \u001b[1;33m-\u001b[0m \u001b[0mi\u001b[0m \u001b[1;33m>=\u001b[0m \u001b[0myear_gap\u001b[0m\u001b[1;33m:\u001b[0m\u001b[1;33m\u001b[0m\u001b[1;33m\u001b[0m\u001b[0m\n\u001b[0;32m      5\u001b[0m             \u001b[0msim_edge_list\u001b[0m\u001b[1;33m.\u001b[0m\u001b[0mappend\u001b[0m\u001b[1;33m(\u001b[0m\u001b[1;33m(\u001b[0m\u001b[0myear\u001b[0m\u001b[1;33m[\u001b[0m\u001b[0mj\u001b[0m\u001b[1;33m]\u001b[0m\u001b[1;33m,\u001b[0m \u001b[0mi\u001b[0m\u001b[1;33m)\u001b[0m\u001b[1;33m)\u001b[0m\u001b[1;33m\u001b[0m\u001b[1;33m\u001b[0m\u001b[0m\n",
      "\u001b[1;31mNameError\u001b[0m: name 'year' is not defined"
     ]
    }
   ],
   "source": [
    "for i in year:\n",
    "    #print(\"i = \", i)\n",
    "    for j in range(len(year)):\n",
    "        if year[j] - i >= year_gap:\n",
    "            sim_edge_list.append((year[j], i))"
   ]
  },
  {
   "cell_type": "code",
   "execution_count": 51,
   "metadata": {},
   "outputs": [
    {
     "name": "stdout",
     "output_type": "stream",
     "text": [
      "0\n"
     ]
    }
   ],
   "source": [
    "print(len(sim_edge_list))"
   ]
  },
  {
   "cell_type": "code",
   "execution_count": 52,
   "metadata": {},
   "outputs": [
    {
     "data": {
      "image/png": "[encoded data removed]",
      "text/plain": [
       "<Figure size 432x288 with 1 Axes>"
      ]
     },
     "metadata": {},
     "output_type": "display_data"
    }
   ],
   "source": [
    "nx.draw(\n",
    "    g_sim,\n",
    "    labels=labelss,\n",
    "    with_labels=True,\n",
    "    node_size=150, #node_sizes,\n",
    "    width=0.5,\n",
    "    font_size=9,\n",
    "    alpha=0.5,\n",
    "    node_color=coloring\n",
    ")"
   ]
  },
  {
   "cell_type": "code",
   "execution_count": 53,
   "metadata": {},
   "outputs": [],
   "source": [
    "plt.show()"
   ]
  },
  {
   "cell_type": "code",
   "execution_count": 54,
   "metadata": {},
   "outputs": [
    {
     "name": "stdout",
     "output_type": "stream",
     "text": [
      "{0: 0.0, 1: 0.04054054054054054, 2: 0.0, 3: 0.013513513513513514, 4: 0.02702702702702703, 5: 0.0945945945945946, 6: 0.06756756756756757, 7: 0.14864864864864866, 8: 0.20270270270270271, 9: 0.13513513513513514, 10: 0.0, 11: 0.0, 12: 0.16216216216216217, 13: 0.0, 14: 0.02702702702702703, 15: 0.02702702702702703, 16: 0.0, 17: 0.0, 18: 0.013513513513513514, 19: 0.0, 20: 0.16216216216216217, 21: 0.0, 22: 0.0, 23: 0.0, 24: 0.0, 25: 0.0, 26: 0.05405405405405406, 27: 0.14864864864864866, 28: 0.0, 29: 0.013513513513513514, 30: 0.04054054054054054, 31: 0.013513513513513514, 32: 0.04054054054054054, 33: 0.0, 34: 0.08108108108108109, 35: 0.0, 36: 0.22972972972972974, 37: 0.04054054054054054, 38: 0.0, 39: 0.0, 40: 0.05405405405405406, 41: 0.04054054054054054, 42: 0.0, 43: 0.0, 44: 0.10810810810810811, 45: 0.02702702702702703, 46: 0.0, 47: 0.13513513513513514, 48: 0.0, 49: 0.10810810810810811, 50: 0.1891891891891892, 51: 0.04054054054054054, 52: 0.02702702702702703, 53: 0.20270270270270271, 54: 0.0, 55: 0.013513513513513514, 56: 0.013513513513513514, 57: 0.04054054054054054, 58: 0.04054054054054054, 59: 0.013513513513513514, 60: 0.0, 61: 0.0, 62: 0.0, 63: 0.0, 64: 0.02702702702702703, 65: 0.0, 66: 0.013513513513513514, 67: 0.05405405405405406, 68: 0.0, 69: 0.0, 70: 0.0, 71: 0.0, 72: 0.06756756756756757, 73: 0.04054054054054054, 74: 0.0}\n"
     ]
    }
   ],
   "source": [
    "g_degree = nx.in_degree_centrality(g)\n",
    "print(g_degree)\n",
    "g_sim_degree = nx.in_degree_centrality(g_sim)"
   ]
  },
  {
   "cell_type": "code",
   "execution_count": 55,
   "metadata": {},
   "outputs": [
    {
     "data": {
      "text/plain": [
       "<BarContainer object of 0 artists>"
      ]
     },
     "execution_count": 55,
     "metadata": {},
     "output_type": "execute_result"
    },
    {
     "data": {
      "image/png": "[encoded data removed]",
      "text/plain": [
       "<Figure size 432x288 with 1 Axes>"
      ]
     },
     "metadata": {
      "needs_background": "light"
     },
     "output_type": "display_data"
    }
   ],
   "source": [
    "degree_ratio = pd.DataFrame(columns=['paperID','degree_ratio'])\n",
    "plt.bar(degree_ratio['paperID'], degree_ratio['degree_ratio'], width=0.80, color=\"b\")"
   ]
  },
  {
   "cell_type": "code",
   "execution_count": 56,
   "metadata": {},
   "outputs": [],
   "source": [
    "last_generation = []\n",
    "for idx, degree in enumerate(g_degree):\n",
    "    if g_sim_degree[idx]!=0:\n",
    "        degree_ratio = degree_ratio.append({'paperID': idx, 'degree_ratio': round(g_degree[idx] / g_sim_degree[idx],3)}, ignore_index=True)\n",
    "    else:\n",
    "        last_generation.append(idx)"
   ]
  },
  {
   "cell_type": "code",
   "execution_count": 57,
   "metadata": {},
   "outputs": [],
   "source": [
    "low_cutoff = 0.1\n",
    "high_cutoff = 0.9\n",
    "idx_low = degree_ratio[degree_ratio['degree_ratio'] < low_cutoff].index.tolist()\n",
    "idx_low = [int(item) for item in idx_low]"
   ]
  },
  {
   "cell_type": "code",
   "execution_count": 58,
   "metadata": {},
   "outputs": [],
   "source": [
    "idx_high = degree_ratio[degree_ratio['degree_ratio'] > high_cutoff].index.tolist()\n",
    "idx_high = [int(item) for item in idx_high]"
   ]
  },
  {
   "cell_type": "code",
   "execution_count": 59,
   "metadata": {},
   "outputs": [],
   "source": [
    "# when you get sim_g working, then \n",
    "# g_sim_degree = nx.in_degree_centrality(g_sim)"
   ]
  },
  {
   "cell_type": "code",
   "execution_count": 60,
   "metadata": {},
   "outputs": [],
   "source": [
    "# if you have both g_degree and g_sim_degree\n",
    "# you can calculate degree_ratio"
   ]
  },
  {
   "cell_type": "code",
   "execution_count": 61,
   "metadata": {},
   "outputs": [
    {
     "data": {
      "image/png": "[encoded data removed]",
      "text/plain": [
       "<Figure size 432x288 with 1 Axes>"
      ]
     },
     "metadata": {
      "needs_background": "light"
     },
     "output_type": "display_data"
    }
   ],
   "source": [
    "plt.title(\"Degree Histogram\")\n",
    "plt.ylabel(\"Count\")\n",
    "plt.xlabel(\"Degree\")\n",
    "plt.show()"
   ]
  }
 ],
 "metadata": {
  "kernelspec": {
   "display_name": "Python 3",
   "language": "python",
   "name": "python3"
  },
  "language_info": {
   "codemirror_mode": {
    "name": "ipython",
    "version": 3
   },
   "file_extension": ".py",
   "mimetype": "text/x-python",
   "name": "python",
   "nbconvert_exporter": "python",
   "pygments_lexer": "ipython3",
   "version": "3.8.3"
  }
 },
 "nbformat": 4,
 "nbformat_minor": 4
}
