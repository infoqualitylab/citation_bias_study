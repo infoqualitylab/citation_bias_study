{
 "cells": [
  {
   "cell_type": "markdown",
   "metadata": {},
   "source": [
    "# Identifying network metrics that can distinguish biased citation networks"
   ]
  },
  {
   "cell_type": "markdown",
   "metadata": {},
   "source": [
    "Author: Yuanxi Fu, Zhonghe Wan\n",
    "\n",
    "Date: 2021-7-5"
   ]
  },
  {
   "cell_type": "markdown",
   "metadata": {},
   "source": [
    "## Introduction"
   ]
  },
  {
   "cell_type": "markdown",
   "metadata": {},
   "source": [
    "This notebook records an attempt to realize the idea we proposed in the CRB proposal: https://docs.google.com/document/d/1yo9_zd4YlRLKQTQSSJn_dYCfl4YPGyYA2wb65DkCu4s/edit. In particular, we wanted to construct a program to simulate unbiased counter part for observed biased citation network and use statistical testing to identify network metrics that can distinguish biased networks. Also, with improved algorithm to calculate the expected citation counts, we can improve the work in the ISSI paper."
   ]
  },
  {
   "cell_type": "markdown",
   "metadata": {},
   "source": [
    ">  The overall goal is to choose a network metric η that can distinguish biased citation networks (e.g., Table 1) from simulated, unbiased networks. To do this, I will follow established procedures for assessing the significance of network characteristics (Kolaczyk & Csárdi, 2020):  gather existing biased networks; generate an ensemble of simulated networks that mimic unbiased citation behavior; choose an initial network metric η and compute the value of η on the reported biased citation network to get ηobs and a set of model-generated unbiased networks to get {ηmodel}. With the distribution from {ηmodel}, we will be able to test whether η is significantly different between biased and unbiased networks (i.e., ηobs very unlikely to exist given the distribution of {ηmodel})."
   ]
  },
  {
   "cell_type": "markdown",
   "metadata": {},
   "source": [
    "## Load packages"
   ]
  },
  {
   "cell_type": "code",
   "execution_count": 2,
   "metadata": {
    "jupyter": {
     "outputs_hidden": false
    },
    "pycharm": {
     "name": "#%%\n"
    }
   },
   "outputs": [],
   "source": [
    "import pandas as pd\n",
    "from igraph import * # install igraph in anaconda: https://anaconda.org/conda-forge/python-igraph\n",
    "import cairo # install cairo and pychairo in anaconda: https://anaconda.org/anaconda/cairo; https://anaconda.org/anaconda/pycairo\n",
    "import numpy as np\n",
    "import numpy.random as random\n",
    "import math\n",
    "from matplotlib import pyplot as plt\n",
    "from scipy.stats import bernoulli\n",
    "from statistics import stdev\n",
    "import scipy.stats"
   ]
  },
  {
   "cell_type": "markdown",
   "metadata": {},
   "source": [
    "## Load data"
   ]
  },
  {
   "cell_type": "markdown",
   "metadata": {},
   "source": [
    "We will use the following dataset of a biased ciation network:\n",
    "\n",
    "de Vries, Ymkje Anna, & Munafò, M. (2016). [Dataset] Citation bias and selective focus on positive findings in the literature on 5-HTTLPR, life stress, and depression. University of Bristol. Retrieved January 28, 2021, http://doi.org/10.5523/BRIS.Z7JCONXFBMDR1JJ3T0W4K1HWN"
   ]
  },
  {
   "cell_type": "code",
   "execution_count": null,
   "metadata": {
    "jupyter": {
     "outputs_hidden": false
    },
    "pycharm": {
     "name": "#%%\n"
    }
   },
   "outputs": [],
   "source": [
    "# load the adjacency matrix\n",
    "matrix = pd.read_csv('HTTLPR.csv')\n",
    "matrix = matrix.iloc[:, 6:]\n",
    "matrix"
   ]
  },
  {
   "cell_type": "code",
   "execution_count": 231,
   "metadata": {
    "jupyter": {
     "outputs_hidden": false
    },
    "pycharm": {
     "name": "#%%\n"
    }
   },
   "outputs": [],
   "source": [
    "# load the attribute list\n",
    "# easy for this file because the first 6 columns are in fact attribute list\n",
    "attr_list = pd.read_csv('HTTLPR.csv', usecols=[0, 1, 2, 3, 4, 5])\n",
    "attr_list['PaperID'] = attr_list.index"
   ]
  },
  {
   "cell_type": "markdown",
   "metadata": {},
   "source": [
    "## Create a graph object g from the citation network data"
   ]
  },
  {
   "cell_type": "code",
   "execution_count": 232,
   "metadata": {
    "jupyter": {
     "outputs_hidden": false
    },
    "pycharm": {
     "name": "#%%\n"
    }
   },
   "outputs": [],
   "source": [
    "# initialize the graph object\n",
    "g = Graph(directed=True)\n",
    "g.add_vertices(73)\n",
    "\n",
    "# add attributes to the graph: study name: name; study outcome: outcome; YearOnline: year\n",
    "# study = attr_list['Study'].to_list()\n",
    "# outcome = attr_list['Outcome'].to_list()\n",
    "g.vs['name'] = attr_list['Study']\n",
    "g.vs[\"label\"] = g.vs[\"name\"]\n",
    "g.vs['outcome'] = attr_list['Outcome']\n",
    "g.vs['Year'] = attr_list['YearOnline']\n",
    "g.vs['color'] = 'light blue'\n",
    "\n",
    "# add edges from the adjacency matrix\n",
    "edge_list = []\n",
    "for i in range(0, matrix.shape[0]):\n",
    "    for j in range(0, matrix.shape[1]):\n",
    "        if isinstance(matrix.iloc[i, j], str):\n",
    "            s = matrix.iloc[i, j]\n",
    "            if s.replace(\" \", \"\") == \"X\":\n",
    "                edge_list.append((i, j))\n",
    "                g.add_edge(source=i, target=j)"
   ]
  },
  {
   "cell_type": "code",
   "execution_count": 182,
   "metadata": {
    "jupyter": {
     "outputs_hidden": false
    },
    "pycharm": {
     "name": "#%%\n"
    }
   },
   "outputs": [
    {
     "data": {
      "text/plain": [
       "488"
      ]
     },
     "execution_count": 182,
     "metadata": {},
     "output_type": "execute_result"
    }
   ],
   "source": [
    "# total number of edges\n",
    "len(g.es)"
   ]
  },
  {
   "cell_type": "code",
   "execution_count": 183,
   "metadata": {
    "jupyter": {
     "outputs_hidden": false
    },
    "pycharm": {
     "name": "#%%\n"
    }
   },
   "outputs": [],
   "source": [
    "# visualization\n",
    "vis = plot(g,layout=\"kk\", margin=50,bbox=(600,600),vertex_label_size=10,edge_arrow_size=0.5,edge_arrow_width=1.5)\n",
    "vis.show()"
   ]
  },
  {
   "cell_type": "markdown",
   "metadata": {},
   "source": [
    "## Create a \"potential graph\""
   ]
  },
  {
   "cell_type": "markdown",
   "metadata": {},
   "source": [
    "Create a \"potential graph\" (g_full) for the 5-HTTLPR in which all \"potential citation paths\" (Urlings et al., 2021) are connected . In our definition, a \"potential citation path\" exists between two publication if one paper is published one year or more earlier than another paper."
   ]
  },
  {
   "cell_type": "code",
   "execution_count": 233,
   "metadata": {
    "jupyter": {
     "outputs_hidden": false
    },
    "pycharm": {
     "name": "#%%\n"
    }
   },
   "outputs": [],
   "source": [
    "# potential graph\n",
    "year_gap = 1\n",
    "\n",
    "g_full = Graph(directed=True)\n",
    "g_full.add_vertices(73)\n",
    "g_full.vs['name'] = attr_list['Study']\n",
    "g_full.vs[\"label\"] = g_full.vs[\"name\"]\n",
    "g_full.vs['outcome'] = attr_list['Outcome']\n",
    "g_full.vs['Year'] = attr_list['YearOnline']\n",
    "\n",
    "full_edge_list=[]\n",
    "\n",
    "for i in g_full.vs.indices:\n",
    "    for j in g_full.vs.indices:\n",
    "        if i>j and (g.vs[i]['Year']-g.vs[j]['Year']>=year_gap):\n",
    "            full_edge_list.append((i,j))\n",
    "            g_full.add_edge(source=i,target=j)"
   ]
  },
  {
   "cell_type": "code",
   "execution_count": 185,
   "metadata": {
    "jupyter": {
     "outputs_hidden": false
    },
    "pycharm": {
     "name": "#%%\n"
    }
   },
   "outputs": [
    {
     "data": {
      "text/plain": [
       "2348"
      ]
     },
     "execution_count": 185,
     "metadata": {},
     "output_type": "execute_result"
    }
   ],
   "source": [
    "# number of edges in g_full\n",
    "len(g_full.es)"
   ]
  },
  {
   "cell_type": "markdown",
   "metadata": {},
   "source": [
    "## Compute p(y)"
   ]
  },
  {
   "cell_type": "markdown",
   "metadata": {},
   "source": [
    "Each paper in this dataset faces a pool of papers to choose from to cite (\"potential references\"). Under our definition, such a pool consists of papers published one year or more earlier than the citing paper. In the real world, the authors may be biased (i.e., they select a non-representative sample from the pool to cite). In this simulation, we will try to remove such a bias. We will compute p(y), number of performed citations divided by the total number of potential citations between papers published in year y and their pool of potential references. Using a Bernoulli random number generator, we will distribute the chance evenly among all potential references (i.e., each paper will enjoy an equal chance of p(y) to be cited)."
   ]
  },
  {
   "cell_type": "code",
   "execution_count": 234,
   "metadata": {
    "jupyter": {
     "outputs_hidden": false
    },
    "pycharm": {
     "name": "#%%\n"
    }
   },
   "outputs": [
    {
     "data": {
      "text/plain": [
       "array([2001, 2003, 2004, 2005, 2006, 2007, 2008, 2009, 2010, 2011, 2012])"
      ]
     },
     "execution_count": 234,
     "metadata": {},
     "output_type": "execute_result"
    }
   ],
   "source": [
    "generations = pd.unique(g.vs['Year'])\n",
    "generations"
   ]
  },
  {
   "cell_type": "code",
   "execution_count": 235,
   "metadata": {
    "jupyter": {
     "outputs_hidden": false
    },
    "pycharm": {
     "name": "#%%\n"
    }
   },
   "outputs": [
    {
     "data": {
      "text/plain": [
       "[0, 0, 4, 13, 38, 81, 52, 81, 85, 91, 43]"
      ]
     },
     "execution_count": 235,
     "metadata": {},
     "output_type": "execute_result"
    }
   ],
   "source": [
    "performed_citation = [len(g.es.select(_source_in=g.vs.select(Year=year))) for year in generations]\n",
    "performed_citation"
   ]
  },
  {
   "cell_type": "code",
   "execution_count": 236,
   "metadata": {
    "jupyter": {
     "outputs_hidden": false
    },
    "pycharm": {
     "name": "#%%\n"
    }
   },
   "outputs": [
    {
     "data": {
      "text/plain": [
       "[0, 1, 8, 24, 80, 198, 232, 407, 336, 660, 402]"
      ]
     },
     "execution_count": 236,
     "metadata": {},
     "output_type": "execute_result"
    }
   ],
   "source": [
    "potential_citation = [len(g_full.es.select(_source_in=g.vs.select(Year=year))) for year in generations]\n",
    "potential_citation"
   ]
  },
  {
   "cell_type": "markdown",
   "metadata": {},
   "source": [
    "### The first generation (2001) has no performed citation and no potential citation. Replace p(y) with NaN"
   ]
  },
  {
   "cell_type": "code",
   "execution_count": 237,
   "metadata": {
    "jupyter": {
     "outputs_hidden": false
    },
    "pycharm": {
     "name": "#%%\n"
    }
   },
   "outputs": [
    {
     "data": {
      "text/plain": [
       "[None,\n",
       " 0.0,\n",
       " 0.5,\n",
       " 0.5416666666666666,\n",
       " 0.475,\n",
       " 0.4090909090909091,\n",
       " 0.22413793103448276,\n",
       " 0.19901719901719903,\n",
       " 0.25297619047619047,\n",
       " 0.13787878787878788,\n",
       " 0.10696517412935323]"
      ]
     },
     "execution_count": 237,
     "metadata": {},
     "output_type": "execute_result"
    }
   ],
   "source": [
    "p_y = [i/j for i, j in zip(performed_citation[1:], potential_citation[1:])]\n",
    "p_y = [None] + p_y\n",
    "p_y"
   ]
  },
  {
   "cell_type": "markdown",
   "metadata": {},
   "source": [
    "**NOTE**: p(y) first increases and then decreases over the years."
   ]
  },
  {
   "cell_type": "markdown",
   "metadata": {},
   "source": [
    "## Use p(y) to simulate unbiased networks"
   ]
  },
  {
   "cell_type": "code",
   "execution_count": 238,
   "metadata": {
    "jupyter": {
     "outputs_hidden": false
    },
    "pycharm": {
     "name": "#%%\n"
    }
   },
   "outputs": [
    {
     "data": {
      "text/html": [
       "<div>\n",
       "<style scoped>\n",
       "    .dataframe tbody tr th:only-of-type {\n",
       "        vertical-align: middle;\n",
       "    }\n",
       "\n",
       "    .dataframe tbody tr th {\n",
       "        vertical-align: top;\n",
       "    }\n",
       "\n",
       "    .dataframe thead th {\n",
       "        text-align: right;\n",
       "    }\n",
       "</style>\n",
       "<table border=\"1\" class=\"dataframe\">\n",
       "  <thead>\n",
       "    <tr style=\"text-align: right;\">\n",
       "      <th></th>\n",
       "      <th>year</th>\n",
       "      <th>performed_citation</th>\n",
       "      <th>potential_citation</th>\n",
       "      <th>p(y)</th>\n",
       "    </tr>\n",
       "  </thead>\n",
       "  <tbody>\n",
       "    <tr>\n",
       "      <th>0</th>\n",
       "      <td>2001</td>\n",
       "      <td>0</td>\n",
       "      <td>0</td>\n",
       "      <td>NaN</td>\n",
       "    </tr>\n",
       "    <tr>\n",
       "      <th>1</th>\n",
       "      <td>2003</td>\n",
       "      <td>0</td>\n",
       "      <td>1</td>\n",
       "      <td>0.000000</td>\n",
       "    </tr>\n",
       "    <tr>\n",
       "      <th>2</th>\n",
       "      <td>2004</td>\n",
       "      <td>4</td>\n",
       "      <td>8</td>\n",
       "      <td>0.500000</td>\n",
       "    </tr>\n",
       "    <tr>\n",
       "      <th>3</th>\n",
       "      <td>2005</td>\n",
       "      <td>13</td>\n",
       "      <td>24</td>\n",
       "      <td>0.541667</td>\n",
       "    </tr>\n",
       "    <tr>\n",
       "      <th>4</th>\n",
       "      <td>2006</td>\n",
       "      <td>38</td>\n",
       "      <td>80</td>\n",
       "      <td>0.475000</td>\n",
       "    </tr>\n",
       "    <tr>\n",
       "      <th>5</th>\n",
       "      <td>2007</td>\n",
       "      <td>81</td>\n",
       "      <td>198</td>\n",
       "      <td>0.409091</td>\n",
       "    </tr>\n",
       "    <tr>\n",
       "      <th>6</th>\n",
       "      <td>2008</td>\n",
       "      <td>52</td>\n",
       "      <td>232</td>\n",
       "      <td>0.224138</td>\n",
       "    </tr>\n",
       "    <tr>\n",
       "      <th>7</th>\n",
       "      <td>2009</td>\n",
       "      <td>81</td>\n",
       "      <td>407</td>\n",
       "      <td>0.199017</td>\n",
       "    </tr>\n",
       "    <tr>\n",
       "      <th>8</th>\n",
       "      <td>2010</td>\n",
       "      <td>85</td>\n",
       "      <td>336</td>\n",
       "      <td>0.252976</td>\n",
       "    </tr>\n",
       "    <tr>\n",
       "      <th>9</th>\n",
       "      <td>2011</td>\n",
       "      <td>91</td>\n",
       "      <td>660</td>\n",
       "      <td>0.137879</td>\n",
       "    </tr>\n",
       "    <tr>\n",
       "      <th>10</th>\n",
       "      <td>2012</td>\n",
       "      <td>43</td>\n",
       "      <td>402</td>\n",
       "      <td>0.106965</td>\n",
       "    </tr>\n",
       "  </tbody>\n",
       "</table>\n",
       "</div>"
      ],
      "text/plain": [
       "    year  performed_citation  potential_citation      p(y)\n",
       "0   2001                   0                   0       NaN\n",
       "1   2003                   0                   1  0.000000\n",
       "2   2004                   4                   8  0.500000\n",
       "3   2005                  13                  24  0.541667\n",
       "4   2006                  38                  80  0.475000\n",
       "5   2007                  81                 198  0.409091\n",
       "6   2008                  52                 232  0.224138\n",
       "7   2009                  81                 407  0.199017\n",
       "8   2010                  85                 336  0.252976\n",
       "9   2011                  91                 660  0.137879\n",
       "10  2012                  43                 402  0.106965"
      ]
     },
     "execution_count": 238,
     "metadata": {},
     "output_type": "execute_result"
    }
   ],
   "source": [
    "prob = pd.DataFrame({'year': generations,\n",
    "                    'performed_citation': performed_citation,\n",
    "                    'potential_citation': potential_citation,\n",
    "                    'p(y)': p_y})\n",
    "prob"
   ]
  },
  {
   "cell_type": "code",
   "execution_count": 239,
   "metadata": {
    "pycharm": {
     "name": "#%%\n"
    }
   },
   "outputs": [
    {
     "data": {
      "text/html": [
       "<div>\n",
       "<style scoped>\n",
       "    .dataframe tbody tr th:only-of-type {\n",
       "        vertical-align: middle;\n",
       "    }\n",
       "\n",
       "    .dataframe tbody tr th {\n",
       "        vertical-align: top;\n",
       "    }\n",
       "\n",
       "    .dataframe thead th {\n",
       "        text-align: right;\n",
       "    }\n",
       "</style>\n",
       "<table border=\"1\" class=\"dataframe\">\n",
       "  <thead>\n",
       "    <tr style=\"text-align: right;\">\n",
       "      <th></th>\n",
       "      <th>year</th>\n",
       "      <th>number of publications in each year</th>\n",
       "      <th>number of publications before the year</th>\n",
       "    </tr>\n",
       "  </thead>\n",
       "  <tbody>\n",
       "    <tr>\n",
       "      <th>0</th>\n",
       "      <td>2001</td>\n",
       "      <td>1</td>\n",
       "      <td>0</td>\n",
       "    </tr>\n",
       "    <tr>\n",
       "      <th>1</th>\n",
       "      <td>2003</td>\n",
       "      <td>1</td>\n",
       "      <td>1</td>\n",
       "    </tr>\n",
       "    <tr>\n",
       "      <th>2</th>\n",
       "      <td>2004</td>\n",
       "      <td>4</td>\n",
       "      <td>2</td>\n",
       "    </tr>\n",
       "    <tr>\n",
       "      <th>3</th>\n",
       "      <td>2005</td>\n",
       "      <td>4</td>\n",
       "      <td>6</td>\n",
       "    </tr>\n",
       "    <tr>\n",
       "      <th>4</th>\n",
       "      <td>2006</td>\n",
       "      <td>8</td>\n",
       "      <td>10</td>\n",
       "    </tr>\n",
       "    <tr>\n",
       "      <th>5</th>\n",
       "      <td>2007</td>\n",
       "      <td>11</td>\n",
       "      <td>18</td>\n",
       "    </tr>\n",
       "    <tr>\n",
       "      <th>6</th>\n",
       "      <td>2008</td>\n",
       "      <td>8</td>\n",
       "      <td>29</td>\n",
       "    </tr>\n",
       "    <tr>\n",
       "      <th>7</th>\n",
       "      <td>2009</td>\n",
       "      <td>11</td>\n",
       "      <td>37</td>\n",
       "    </tr>\n",
       "    <tr>\n",
       "      <th>8</th>\n",
       "      <td>2010</td>\n",
       "      <td>7</td>\n",
       "      <td>48</td>\n",
       "    </tr>\n",
       "    <tr>\n",
       "      <th>9</th>\n",
       "      <td>2011</td>\n",
       "      <td>12</td>\n",
       "      <td>55</td>\n",
       "    </tr>\n",
       "    <tr>\n",
       "      <th>10</th>\n",
       "      <td>2012</td>\n",
       "      <td>6</td>\n",
       "      <td>67</td>\n",
       "    </tr>\n",
       "  </tbody>\n",
       "</table>\n",
       "</div>"
      ],
      "text/plain": [
       "    year  number of publications in each year  \\\n",
       "0   2001                                    1   \n",
       "1   2003                                    1   \n",
       "2   2004                                    4   \n",
       "3   2005                                    4   \n",
       "4   2006                                    8   \n",
       "5   2007                                   11   \n",
       "6   2008                                    8   \n",
       "7   2009                                   11   \n",
       "8   2010                                    7   \n",
       "9   2011                                   12   \n",
       "10  2012                                    6   \n",
       "\n",
       "    number of publications before the year  \n",
       "0                                        0  \n",
       "1                                        1  \n",
       "2                                        2  \n",
       "3                                        6  \n",
       "4                                       10  \n",
       "5                                       18  \n",
       "6                                       29  \n",
       "7                                       37  \n",
       "8                                       48  \n",
       "9                                       55  \n",
       "10                                      67  "
      ]
     },
     "execution_count": 239,
     "metadata": {},
     "output_type": "execute_result"
    }
   ],
   "source": [
    "pool = pd.DataFrame({'year': generations,'number of publications in each year':attr_list['YearOnline'].value_counts(sort=False),\n",
    "                    'number of publications before the year':0})\n",
    "pool['number of publications before the year']=pool['number of publications in each year'].cumsum()-pool['number of publications in each year']\n",
    "pool.index = range(prob.shape[0])\n",
    "pool"
   ]
  },
  {
   "cell_type": "code",
   "execution_count": 240,
   "metadata": {
    "jupyter": {
     "outputs_hidden": false
    },
    "pycharm": {
     "name": "#%%\n"
    }
   },
   "outputs": [
    {
     "data": {
      "text/html": [
       "<div>\n",
       "<style scoped>\n",
       "    .dataframe tbody tr th:only-of-type {\n",
       "        vertical-align: middle;\n",
       "    }\n",
       "\n",
       "    .dataframe tbody tr th {\n",
       "        vertical-align: top;\n",
       "    }\n",
       "\n",
       "    .dataframe thead th {\n",
       "        text-align: right;\n",
       "    }\n",
       "</style>\n",
       "<table border=\"1\" class=\"dataframe\">\n",
       "  <thead>\n",
       "    <tr style=\"text-align: right;\">\n",
       "      <th></th>\n",
       "      <th>expected number of publications</th>\n",
       "    </tr>\n",
       "  </thead>\n",
       "  <tbody>\n",
       "    <tr>\n",
       "      <th>1</th>\n",
       "      <td>0.000000</td>\n",
       "    </tr>\n",
       "    <tr>\n",
       "      <th>2</th>\n",
       "      <td>2.000000</td>\n",
       "    </tr>\n",
       "    <tr>\n",
       "      <th>3</th>\n",
       "      <td>2.166667</td>\n",
       "    </tr>\n",
       "    <tr>\n",
       "      <th>4</th>\n",
       "      <td>3.800000</td>\n",
       "    </tr>\n",
       "    <tr>\n",
       "      <th>5</th>\n",
       "      <td>4.500000</td>\n",
       "    </tr>\n",
       "    <tr>\n",
       "      <th>6</th>\n",
       "      <td>1.793103</td>\n",
       "    </tr>\n",
       "    <tr>\n",
       "      <th>7</th>\n",
       "      <td>2.189189</td>\n",
       "    </tr>\n",
       "    <tr>\n",
       "      <th>8</th>\n",
       "      <td>1.770833</td>\n",
       "    </tr>\n",
       "    <tr>\n",
       "      <th>9</th>\n",
       "      <td>1.654545</td>\n",
       "    </tr>\n",
       "    <tr>\n",
       "      <th>10</th>\n",
       "      <td>0.641791</td>\n",
       "    </tr>\n",
       "  </tbody>\n",
       "</table>\n",
       "</div>"
      ],
      "text/plain": [
       "    expected number of publications\n",
       "1                          0.000000\n",
       "2                          2.000000\n",
       "3                          2.166667\n",
       "4                          3.800000\n",
       "5                          4.500000\n",
       "6                          1.793103\n",
       "7                          2.189189\n",
       "8                          1.770833\n",
       "9                          1.654545\n",
       "10                         0.641791"
      ]
     },
     "execution_count": 240,
     "metadata": {},
     "output_type": "execute_result"
    }
   ],
   "source": [
    "expected = prob['p(y)']*pool['number of publications in each year']\n",
    "expected = expected.to_frame('expected number of publications')\n",
    "expected.drop(0)"
   ]
  },
  {
   "cell_type": "code",
   "execution_count": 245,
   "metadata": {
    "jupyter": {
     "outputs_hidden": false
    },
    "pycharm": {
     "name": "#%%\n"
    }
   },
   "outputs": [
    {
     "data": {
      "text/plain": [
       "[20.516129136786628,\n",
       " 20.516129136786628,\n",
       " 18.516129136786628,\n",
       " 16.34946247011996,\n",
       " 12.549462470119959,\n",
       " 8.049462470119959,\n",
       " 6.256359021844097,\n",
       " 4.0671698326549075,\n",
       " 2.296336499321574,\n",
       " 0.6417910447761194]"
      ]
     },
     "execution_count": 245,
     "metadata": {},
     "output_type": "execute_result"
    }
   ],
   "source": [
    "expected_indegree = expected[::-1]['expected number of publications'].cumsum().to_list()\n",
    "expected_indegree = expected_indegree[::-1]\n",
    "expected_indegree = expected_indegree[1:]\n",
    "expected_indegree"
   ]
  },
  {
   "cell_type": "code",
   "execution_count": 248,
   "metadata": {
    "jupyter": {
     "outputs_hidden": false
    },
    "pycharm": {
     "name": "#%%\n"
    }
   },
   "outputs": [
    {
     "data": {
      "text/plain": [
       "[20.516129136786628,\n",
       " 20.516129136786628,\n",
       " 18.516129136786628,\n",
       " 18.516129136786628,\n",
       " 18.516129136786628,\n",
       " 18.516129136786628,\n",
       " 16.34946247011996,\n",
       " 16.34946247011996,\n",
       " 16.34946247011996,\n",
       " 16.34946247011996,\n",
       " 12.549462470119959,\n",
       " 12.549462470119959,\n",
       " 12.549462470119959,\n",
       " 12.549462470119959,\n",
       " 12.549462470119959,\n",
       " 12.549462470119959,\n",
       " 12.549462470119959,\n",
       " 12.549462470119959,\n",
       " 8.049462470119959,\n",
       " 8.049462470119959,\n",
       " 8.049462470119959,\n",
       " 8.049462470119959,\n",
       " 8.049462470119959,\n",
       " 8.049462470119959,\n",
       " 8.049462470119959,\n",
       " 8.049462470119959,\n",
       " 8.049462470119959,\n",
       " 8.049462470119959,\n",
       " 8.049462470119959,\n",
       " 6.256359021844097,\n",
       " 6.256359021844097,\n",
       " 6.256359021844097,\n",
       " 6.256359021844097,\n",
       " 6.256359021844097,\n",
       " 6.256359021844097,\n",
       " 6.256359021844097,\n",
       " 6.256359021844097,\n",
       " 4.0671698326549075,\n",
       " 4.0671698326549075,\n",
       " 4.0671698326549075,\n",
       " 4.0671698326549075,\n",
       " 4.0671698326549075,\n",
       " 4.0671698326549075,\n",
       " 4.0671698326549075,\n",
       " 4.0671698326549075,\n",
       " 4.0671698326549075,\n",
       " 4.0671698326549075,\n",
       " 4.0671698326549075,\n",
       " 2.296336499321574,\n",
       " 2.296336499321574,\n",
       " 2.296336499321574,\n",
       " 2.296336499321574,\n",
       " 2.296336499321574,\n",
       " 2.296336499321574,\n",
       " 2.296336499321574,\n",
       " 0.6417910447761194,\n",
       " 0.6417910447761194,\n",
       " 0.6417910447761194,\n",
       " 0.6417910447761194,\n",
       " 0.6417910447761194,\n",
       " 0.6417910447761194,\n",
       " 0.6417910447761194,\n",
       " 0.6417910447761194,\n",
       " 0.6417910447761194,\n",
       " 0.6417910447761194,\n",
       " 0.6417910447761194,\n",
       " 0.6417910447761194,\n",
       " 0,\n",
       " 0,\n",
       " 0,\n",
       " 0,\n",
       " 0,\n",
       " 0]"
      ]
     },
     "execution_count": 248,
     "metadata": {},
     "output_type": "execute_result"
    }
   ],
   "source": [
    "a = []\n",
    "for i in range(expected.shape[0]-1):\n",
    "    a.extend([expected_indegree[i]]*int(pool.iloc[i,]['number of publications in each year']))\n",
    "\n",
    "a.extend([0]*6)\n",
    "a"
   ]
  },
  {
   "cell_type": "code",
   "execution_count": 249,
   "metadata": {
    "jupyter": {
     "outputs_hidden": false
    },
    "pycharm": {
     "name": "#%%\n"
    }
   },
   "outputs": [
    {
     "data": {
      "text/html": [
       "<div>\n",
       "<style scoped>\n",
       "    .dataframe tbody tr th:only-of-type {\n",
       "        vertical-align: middle;\n",
       "    }\n",
       "\n",
       "    .dataframe tbody tr th {\n",
       "        vertical-align: top;\n",
       "    }\n",
       "\n",
       "    .dataframe thead th {\n",
       "        text-align: right;\n",
       "    }\n",
       "</style>\n",
       "<table border=\"1\" class=\"dataframe\">\n",
       "  <thead>\n",
       "    <tr style=\"text-align: right;\">\n",
       "      <th></th>\n",
       "      <th>node</th>\n",
       "      <th>degree</th>\n",
       "    </tr>\n",
       "  </thead>\n",
       "  <tbody>\n",
       "    <tr>\n",
       "      <th>0</th>\n",
       "      <td>Mossner</td>\n",
       "      <td>20.516</td>\n",
       "    </tr>\n",
       "    <tr>\n",
       "      <th>1</th>\n",
       "      <td>Caspi</td>\n",
       "      <td>20.516</td>\n",
       "    </tr>\n",
       "    <tr>\n",
       "      <th>2</th>\n",
       "      <td>Eley</td>\n",
       "      <td>18.516</td>\n",
       "    </tr>\n",
       "    <tr>\n",
       "      <th>3</th>\n",
       "      <td>Grabe_a</td>\n",
       "      <td>18.516</td>\n",
       "    </tr>\n",
       "    <tr>\n",
       "      <th>4</th>\n",
       "      <td>Kaufman_a</td>\n",
       "      <td>18.516</td>\n",
       "    </tr>\n",
       "    <tr>\n",
       "      <th>...</th>\n",
       "      <td>...</td>\n",
       "      <td>...</td>\n",
       "    </tr>\n",
       "    <tr>\n",
       "      <th>68</th>\n",
       "      <td>Grabe_b</td>\n",
       "      <td>0.000</td>\n",
       "    </tr>\n",
       "    <tr>\n",
       "      <th>69</th>\n",
       "      <td>Petersen</td>\n",
       "      <td>0.000</td>\n",
       "    </tr>\n",
       "    <tr>\n",
       "      <th>70</th>\n",
       "      <td>Beaver</td>\n",
       "      <td>0.000</td>\n",
       "    </tr>\n",
       "    <tr>\n",
       "      <th>71</th>\n",
       "      <td>Brown</td>\n",
       "      <td>0.000</td>\n",
       "    </tr>\n",
       "    <tr>\n",
       "      <th>72</th>\n",
       "      <td>Wilhelm_b</td>\n",
       "      <td>0.000</td>\n",
       "    </tr>\n",
       "  </tbody>\n",
       "</table>\n",
       "<p>73 rows × 2 columns</p>\n",
       "</div>"
      ],
      "text/plain": [
       "         node  degree\n",
       "0     Mossner  20.516\n",
       "1       Caspi  20.516\n",
       "2        Eley  18.516\n",
       "3     Grabe_a  18.516\n",
       "4   Kaufman_a  18.516\n",
       "..        ...     ...\n",
       "68    Grabe_b   0.000\n",
       "69   Petersen   0.000\n",
       "70     Beaver   0.000\n",
       "71      Brown   0.000\n",
       "72  Wilhelm_b   0.000\n",
       "\n",
       "[73 rows x 2 columns]"
      ]
     },
     "execution_count": 249,
     "metadata": {},
     "output_type": "execute_result"
    }
   ],
   "source": [
    "expected_citation_df = pd.DataFrame({'node':g_full.vs['name'],'degree':0})\n",
    "expected_citation_df['degree'] = [round(elem,3) for elem in a]\n",
    "expected_citation_df"
   ]
  },
  {
   "cell_type": "markdown",
   "metadata": {},
   "source": [
    "## Improve the ISSI work with better \"expected citation counts\""
   ]
  },
  {
   "cell_type": "code",
   "execution_count": 250,
   "metadata": {
    "jupyter": {
     "outputs_hidden": false
    },
    "pycharm": {
     "name": "#%%\n"
    }
   },
   "outputs": [],
   "source": [
    "degree_ratio = pd.DataFrame(columns=['paperID','degree_ratio'])\n",
    "g_degree = pd.Series(g.degree(mode=IN))\n",
    "last_generation = []\n",
    "\n",
    "for idx, degree in enumerate(g_degree):\n",
    "    if g_degree[idx]!=0:\n",
    "        degree_ratio = degree_ratio.append({'paperID': idx, 'degree_ratio': round(g_degree[idx] / expected_citation_df.iloc[idx,1],3)},\n",
    "                            ignore_index=True)\n",
    "    else:\n",
    "        last_generation.append(idx) # not suppose to have citations because of the constructs"
   ]
  },
  {
   "cell_type": "code",
   "execution_count": 251,
   "metadata": {
    "jupyter": {
     "outputs_hidden": false
    },
    "pycharm": {
     "name": "#%%\n"
    }
   },
   "outputs": [
    {
     "data": {
      "text/plain": [
       "3.168"
      ]
     },
     "execution_count": 251,
     "metadata": {},
     "output_type": "execute_result"
    }
   ],
   "source": [
    "# max\n",
    "degree_ratio['degree_ratio'].max()"
   ]
  },
  {
   "cell_type": "code",
   "execution_count": 253,
   "metadata": {
    "jupyter": {
     "outputs_hidden": false
    },
    "pycharm": {
     "name": "#%%\n"
    }
   },
   "outputs": [
    {
     "data": {
      "image/png": "[encoded data removed]",
      "text/plain": [
       "<Figure size 432x288 with 1 Axes>"
      ]
     },
     "metadata": {
      "needs_background": "light"
     },
     "output_type": "display_data"
    }
   ],
   "source": [
    "bins = [0,0.5,1.0,1.5,2.0,2.5,3.0,3.5]\n",
    "plt.hist(degree_ratio['degree_ratio'], bins=bins,color='blue', edgecolor='blue', linewidth=1, hatch=\"//\",\n",
    "         histtype='bar', alpha=0.5)\n",
    "plt.xlabel('Ratio between Real and Theoretical Citations',fontsize=14)\n",
    "plt.ylabel('Count',fontsize=14)\n",
    "plt.show()"
   ]
  },
  {
   "cell_type": "code",
   "execution_count": 254,
   "metadata": {
    "jupyter": {
     "outputs_hidden": false
    },
    "pycharm": {
     "name": "#%%\n"
    }
   },
   "outputs": [],
   "source": [
    "low_cutoff = 0.3\n",
    "high_cutoff = 0.9\n",
    "idx_low = degree_ratio[degree_ratio['degree_ratio'] < low_cutoff].index.tolist()\n",
    "idx_low = [int(item) for item in idx_low]\n",
    "\n",
    "idx_high = degree_ratio[degree_ratio['degree_ratio'] > high_cutoff].index.tolist()\n",
    "idx_high = [int(item) for item in idx_high]"
   ]
  },
  {
   "cell_type": "code",
   "execution_count": 255,
   "metadata": {
    "jupyter": {
     "outputs_hidden": false
    },
    "pycharm": {
     "name": "#%%\n"
    }
   },
   "outputs": [],
   "source": [
    "# network visualization\n",
    "for node in g.vs.indices:\n",
    "    if node in idx_low:\n",
    "        g.vs[node]['citation_ratio'] = 'Low'\n",
    "    elif node in idx_high:\n",
    "        g.vs[node]['citation_ratio'] = 'High'\n",
    "    elif node in last_generation:\n",
    "        g.vs[node]['citation_ratio'] = 'Last Generation'\n",
    "    else:\n",
    "        g.vs[node]['citation_ratio'] = 'Average'\n",
    "\n",
    "color_dict = {\"High\": \"green\", \"Low\": \"pink\", \"Average\": \"light blue\",\"Last Generation\":\"white\"}\n",
    "g.vs[\"color\"] = [color_dict[ratio] for ratio in g.vs[\"citation_ratio\"]]\n",
    "plot(g,bbox=(600,600),margin=50,layout=\"kk\",vertex_label_size=10,edge_arrow_size=0.5,edge_arrow_width=1.5).show()"
   ]
  },
  {
   "cell_type": "code",
   "execution_count": 256,
   "metadata": {
    "jupyter": {
     "outputs_hidden": false
    },
    "pycharm": {
     "name": "#%%\n"
    }
   },
   "outputs": [
    {
     "name": "stdout",
     "output_type": "stream",
     "text": [
      "Mossner 2001 Positive\n",
      "Dick 2007 Unclear\n",
      "Kraus 2007 Negative\n",
      "Kilpatrick 2007 Unclear\n",
      "Lotrich 2008 Unclear\n",
      "Aguilera 2009 Positive\n",
      "Benjet 2009 Positive\n",
      "Hammen 2009 Unclear\n"
     ]
    }
   ],
   "source": [
    "# print out paper with low ratio between real and expected citation counts\n",
    "for node in idx_low:\n",
    "    print(g.vs[node]['name'],g.vs[node]['Year'],g.vs[node]['outcome'])"
   ]
  },
  {
   "cell_type": "markdown",
   "metadata": {},
   "source": [
    "## relative evidence coupling strength"
   ]
  },
  {
   "cell_type": "code",
   "execution_count": 202,
   "metadata": {
    "jupyter": {
     "outputs_hidden": false
    },
    "pycharm": {
     "name": "#%%\n"
    }
   },
   "outputs": [],
   "source": [
    "# initialize the data storage\n",
    "coupling_strength = pd.DataFrame(columns=['node_1','node_2','ratio'])\n",
    "\n",
    "# looping through each pair in the net\n",
    "for node_1_ix in g.vs.indices:\n",
    "    for node_2_ix in g.vs.indices:\n",
    "        if node_2_ix > node_1_ix:\n",
    "            node_1 = g.vs[node_1_ix]\n",
    "            node_2 = g.vs[node_2_ix]\n",
    "            node_1_set = set(g.neighbors(node_1, mode=OUT))\n",
    "            node_2_set = set(g.neighbors(node_2, mode=OUT))\n",
    "            if (len(node_1_set) + len(node_2_set)) != 0:\n",
    "                strength = len(node_1_set.intersection(node_2_set)) / (\n",
    "                        len(node_1_set) + len(node_2_set) - len(\n",
    "                    node_1_set.intersection(node_2_set)))  # full is 1, no overlap is zero\n",
    "                coupling_strength = coupling_strength.append({'node_1': node_1_ix,\n",
    "                                         'node_2': node_2_ix,\n",
    "                                         'ratio': strength},ignore_index=True)\n"
   ]
  },
  {
   "cell_type": "code",
   "execution_count": 203,
   "metadata": {
    "jupyter": {
     "outputs_hidden": false
    },
    "pycharm": {
     "name": "#%%\n"
    }
   },
   "outputs": [
    {
     "data": {
      "text/html": [
       "<div>\n",
       "<style scoped>\n",
       "    .dataframe tbody tr th:only-of-type {\n",
       "        vertical-align: middle;\n",
       "    }\n",
       "\n",
       "    .dataframe tbody tr th {\n",
       "        vertical-align: top;\n",
       "    }\n",
       "\n",
       "    .dataframe thead th {\n",
       "        text-align: right;\n",
       "    }\n",
       "</style>\n",
       "<table border=\"1\" class=\"dataframe\">\n",
       "  <thead>\n",
       "    <tr style=\"text-align: right;\">\n",
       "      <th></th>\n",
       "      <th>node_1</th>\n",
       "      <th>node_2</th>\n",
       "      <th>ratio</th>\n",
       "    </tr>\n",
       "  </thead>\n",
       "  <tbody>\n",
       "    <tr>\n",
       "      <th>count</th>\n",
       "      <td>2625.000000</td>\n",
       "      <td>2625.000000</td>\n",
       "      <td>2625.000000</td>\n",
       "    </tr>\n",
       "    <tr>\n",
       "      <th>mean</th>\n",
       "      <td>23.693333</td>\n",
       "      <td>48.373714</td>\n",
       "      <td>0.205428</td>\n",
       "    </tr>\n",
       "    <tr>\n",
       "      <th>std</th>\n",
       "      <td>17.079532</td>\n",
       "      <td>17.053520</td>\n",
       "      <td>0.195948</td>\n",
       "    </tr>\n",
       "    <tr>\n",
       "      <th>min</th>\n",
       "      <td>0.000000</td>\n",
       "      <td>2.000000</td>\n",
       "      <td>0.000000</td>\n",
       "    </tr>\n",
       "    <tr>\n",
       "      <th>25%</th>\n",
       "      <td>9.000000</td>\n",
       "      <td>36.000000</td>\n",
       "      <td>0.076923</td>\n",
       "    </tr>\n",
       "    <tr>\n",
       "      <th>50%</th>\n",
       "      <td>21.000000</td>\n",
       "      <td>51.000000</td>\n",
       "      <td>0.166667</td>\n",
       "    </tr>\n",
       "    <tr>\n",
       "      <th>75%</th>\n",
       "      <td>36.000000</td>\n",
       "      <td>63.000000</td>\n",
       "      <td>0.285714</td>\n",
       "    </tr>\n",
       "    <tr>\n",
       "      <th>max</th>\n",
       "      <td>71.000000</td>\n",
       "      <td>72.000000</td>\n",
       "      <td>1.000000</td>\n",
       "    </tr>\n",
       "  </tbody>\n",
       "</table>\n",
       "</div>"
      ],
      "text/plain": [
       "            node_1       node_2        ratio\n",
       "count  2625.000000  2625.000000  2625.000000\n",
       "mean     23.693333    48.373714     0.205428\n",
       "std      17.079532    17.053520     0.195948\n",
       "min       0.000000     2.000000     0.000000\n",
       "25%       9.000000    36.000000     0.076923\n",
       "50%      21.000000    51.000000     0.166667\n",
       "75%      36.000000    63.000000     0.285714\n",
       "max      71.000000    72.000000     1.000000"
      ]
     },
     "execution_count": 203,
     "metadata": {},
     "output_type": "execute_result"
    }
   ],
   "source": [
    "coupling_strength.describe()"
   ]
  },
  {
   "cell_type": "code",
   "execution_count": 204,
   "metadata": {
    "jupyter": {
     "outputs_hidden": false
    },
    "pycharm": {
     "name": "#%%\n"
    }
   },
   "outputs": [
    {
     "data": {
      "text/plain": [
       "49"
      ]
     },
     "execution_count": 204,
     "metadata": {},
     "output_type": "execute_result"
    }
   ],
   "source": [
    "len(coupling_strength.loc[coupling_strength['ratio']>0.9,'ratio'])"
   ]
  },
  {
   "cell_type": "code",
   "execution_count": 205,
   "metadata": {
    "jupyter": {
     "outputs_hidden": false
    },
    "pycharm": {
     "name": "#%%\n"
    }
   },
   "outputs": [
    {
     "data": {
      "text/plain": [
       "818"
      ]
     },
     "execution_count": 205,
     "metadata": {},
     "output_type": "execute_result"
    }
   ],
   "source": [
    "len(coupling_strength.loc[coupling_strength['ratio']<0.1,'ratio'])"
   ]
  },
  {
   "cell_type": "code",
   "execution_count": 206,
   "metadata": {
    "jupyter": {
     "outputs_hidden": false
    },
    "pycharm": {
     "name": "#%%\n"
    }
   },
   "outputs": [
    {
     "data": {
      "text/plain": [
       "(array([818., 669., 551., 229., 116., 131.,  41.,  11.,  10.,  49.]),\n",
       " array([0. , 0.1, 0.2, 0.3, 0.4, 0.5, 0.6, 0.7, 0.8, 0.9, 1. ]),\n",
       " <BarContainer object of 10 artists>)"
      ]
     },
     "execution_count": 206,
     "metadata": {},
     "output_type": "execute_result"
    },
    {
     "data": {
      "image/png": "[encoded data removed]",
      "text/plain": [
       "<Figure size 432x288 with 1 Axes>"
      ]
     },
     "metadata": {
      "needs_background": "light"
     },
     "output_type": "display_data"
    }
   ],
   "source": [
    "bins = np.linspace(0,1,11)  # fixed number of bins\n",
    "plt.xlabel('Relative Evidence Coupling Strength',fontsize=14)\n",
    "plt.ylabel('Count',fontsize=14)\n",
    "plt.ylim([0,900])\n",
    "plt.xticks(ticks=bins)\n",
    "plt.hist(coupling_strength['ratio'], bins=bins, color='darkorange', edgecolor='darkorange', linewidth=1, histtype='bar', alpha=0.5, hatch=\"//\")"
   ]
  },
  {
   "cell_type": "code",
   "execution_count": 207,
   "metadata": {
    "jupyter": {
     "outputs_hidden": false
    },
    "pycharm": {
     "name": "#%%\n"
    }
   },
   "outputs": [],
   "source": [
    "threshold_p = 0.3\n",
    "\n",
    "sufficient_overlap = coupling_strength[coupling_strength['ratio'] > threshold_p]\n",
    "sufficient_overlap_nodes = list(set(sufficient_overlap['node_1']).union(set(sufficient_overlap['node_2'])))\n",
    "\n",
    "unique_nodes = list(set(g.vs.indices).difference(set(sufficient_overlap_nodes)))\n",
    "\n",
    "sufficient_overlap_nodes = g.vs.select(sufficient_overlap_nodes)\n",
    "unique_nodes = g.vs.select(unique_nodes)"
   ]
  },
  {
   "cell_type": "code",
   "execution_count": 208,
   "metadata": {
    "jupyter": {
     "outputs_hidden": false
    },
    "pycharm": {
     "name": "#%%\n"
    }
   },
   "outputs": [],
   "source": [
    "# visualization [any updates need to be here]\n",
    "sufficient_overlap_nodes['color'] = 'light blue'\n",
    "unique_nodes['color'] = 'pink'\n",
    "plot(g, margin=50,bbox=(600,600),layout='kk').show()"
   ]
  },
  {
   "cell_type": "code",
   "execution_count": 209,
   "metadata": {
    "jupyter": {
     "outputs_hidden": false
    },
    "pycharm": {
     "name": "#%%\n"
    }
   },
   "outputs": [
    {
     "name": "stdout",
     "output_type": "stream",
     "text": [
      "Mossner 2001 Positive\n",
      "Caspi 2003 Positive\n",
      "Lotrich 2008 Unclear\n",
      "Kraus 2007 Negative\n",
      "Comasco_b 2011 Unclear\n",
      "Wichers 2007 Negative\n",
      "Uher 2011 Negative\n",
      "Mitchell 2011 Negative\n"
     ]
    }
   ],
   "source": [
    "# print nodes names\n",
    "for node in unique_nodes:\n",
    "    print(node['name'],node['Year'],node['outcome'])\n"
   ]
  },
  {
   "cell_type": "code",
   "execution_count": 209,
   "metadata": {
    "jupyter": {
     "outputs_hidden": false
    },
    "pycharm": {
     "name": "#%%\n"
    }
   },
   "outputs": [],
   "source": []
  }
 ],
 "metadata": {
  "kernelspec": {
   "display_name": "Python 3 (ipykernel)",
   "language": "python",
   "name": "python3"
  },
  "language_info": {
   "codemirror_mode": {
    "name": "ipython",
    "version": 3
   },
   "file_extension": ".py",
   "mimetype": "text/x-python",
   "name": "python",
   "nbconvert_exporter": "python",
   "pygments_lexer": "ipython3",
   "version": "3.8.10"
  }
 },
 "nbformat": 4,
 "nbformat_minor": 4
}
