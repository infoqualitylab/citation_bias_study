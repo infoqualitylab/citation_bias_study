{
 "cells": [
  {
   "cell_type": "markdown",
   "metadata": {},
   "source": [
    "# Using citation redistribution to estimate unbiased expected citation count from a biased citation network"
   ]
  },
  {
   "cell_type": "markdown",
   "metadata": {},
   "source": [
    "Author: Yuanxi Fu, Zhonghe Wan\n",
    "\n",
    "Date: 2021-10-10"
   ]
  },
  {
   "cell_type": "markdown",
   "metadata": {},
   "source": [
    "## Load packages"
   ]
  },
  {
   "cell_type": "code",
   "execution_count": 49,
   "metadata": {
    "jupyter": {
     "outputs_hidden": false
    },
    "pycharm": {
     "name": "#%%\n"
    }
   },
   "outputs": [],
   "source": [
    "import pandas as pd\n",
    "from igraph import * # install igraph in anaconda: https://anaconda.org/conda-forge/python-igraph\n",
    "import cairo # install cairo and pychairo in anaconda: https://anaconda.org/anaconda/cairo; https://anaconda.org/anaconda/pycairo\n",
    "import numpy as np\n",
    "# import numpy.random as random\n",
    "import math\n",
    "from matplotlib import pyplot as plt\n",
    "# from scipy.stats import bernoulli\n",
    "# from statistics import stdev\n",
    "# import scipy.stats"
   ]
  },
  {
   "cell_type": "markdown",
   "metadata": {},
   "source": [
    "## Load data"
   ]
  },
  {
   "cell_type": "markdown",
   "metadata": {},
   "source": [
    "We will use the following dataset of a biased ciation network:\n",
    "\n",
    "de Vries, Ymkje Anna, & Munafò, M. (2016). [Dataset] Citation bias and selective focus on positive findings in the literature on 5-HTTLPR, life stress, and depression. University of Bristol. Retrieved January 28, 2021, http://doi.org/10.5523/BRIS.Z7JCONXFBMDR1JJ3T0W4K1HWN"
   ]
  },
  {
   "cell_type": "code",
   "execution_count": 2,
   "metadata": {
    "jupyter": {
     "outputs_hidden": false
    },
    "pycharm": {
     "name": "#%%\n"
    }
   },
   "outputs": [
    {
     "data": {
      "text/html": [
       "<div>\n",
       "<style scoped>\n",
       "    .dataframe tbody tr th:only-of-type {\n",
       "        vertical-align: middle;\n",
       "    }\n",
       "\n",
       "    .dataframe tbody tr th {\n",
       "        vertical-align: top;\n",
       "    }\n",
       "\n",
       "    .dataframe thead th {\n",
       "        text-align: right;\n",
       "    }\n",
       "</style>\n",
       "<table border=\"1\" class=\"dataframe\">\n",
       "  <thead>\n",
       "    <tr style=\"text-align: right;\">\n",
       "      <th></th>\n",
       "      <th>Mossner</th>\n",
       "      <th>Caspi</th>\n",
       "      <th>Eley</th>\n",
       "      <th>Grabe_a</th>\n",
       "      <th>Kaufman_a</th>\n",
       "      <th>Gillespie</th>\n",
       "      <th>Kendler</th>\n",
       "      <th>Surtees</th>\n",
       "      <th>Sjoberg</th>\n",
       "      <th>Nakatani</th>\n",
       "      <th>...</th>\n",
       "      <th>Comasco_a</th>\n",
       "      <th>Cicchetti_b</th>\n",
       "      <th>Jenness</th>\n",
       "      <th>Scheid_b</th>\n",
       "      <th>Quinn</th>\n",
       "      <th>Grabe_b</th>\n",
       "      <th>Petersen</th>\n",
       "      <th>Beaver</th>\n",
       "      <th>Brown</th>\n",
       "      <th>Wilhelm_b</th>\n",
       "    </tr>\n",
       "  </thead>\n",
       "  <tbody>\n",
       "    <tr>\n",
       "      <th>0</th>\n",
       "      <td>NaN</td>\n",
       "      <td>NaN</td>\n",
       "      <td>NaN</td>\n",
       "      <td>NaN</td>\n",
       "      <td>NaN</td>\n",
       "      <td>NaN</td>\n",
       "      <td>NaN</td>\n",
       "      <td>NaN</td>\n",
       "      <td>NaN</td>\n",
       "      <td>NaN</td>\n",
       "      <td>...</td>\n",
       "      <td>NaN</td>\n",
       "      <td>NaN</td>\n",
       "      <td>NaN</td>\n",
       "      <td>NaN</td>\n",
       "      <td>NaN</td>\n",
       "      <td>NaN</td>\n",
       "      <td>NaN</td>\n",
       "      <td>NaN</td>\n",
       "      <td>NaN</td>\n",
       "      <td>NaN</td>\n",
       "    </tr>\n",
       "    <tr>\n",
       "      <th>1</th>\n",
       "      <td>-</td>\n",
       "      <td>NaN</td>\n",
       "      <td>NaN</td>\n",
       "      <td>NaN</td>\n",
       "      <td>NaN</td>\n",
       "      <td>NaN</td>\n",
       "      <td>NaN</td>\n",
       "      <td>NaN</td>\n",
       "      <td>NaN</td>\n",
       "      <td>NaN</td>\n",
       "      <td>...</td>\n",
       "      <td>NaN</td>\n",
       "      <td>NaN</td>\n",
       "      <td>NaN</td>\n",
       "      <td>NaN</td>\n",
       "      <td>NaN</td>\n",
       "      <td>NaN</td>\n",
       "      <td>NaN</td>\n",
       "      <td>NaN</td>\n",
       "      <td>NaN</td>\n",
       "      <td>NaN</td>\n",
       "    </tr>\n",
       "    <tr>\n",
       "      <th>2</th>\n",
       "      <td>-</td>\n",
       "      <td>X</td>\n",
       "      <td>NaN</td>\n",
       "      <td>NaN</td>\n",
       "      <td>NaN</td>\n",
       "      <td>NaN</td>\n",
       "      <td>NaN</td>\n",
       "      <td>NaN</td>\n",
       "      <td>NaN</td>\n",
       "      <td>NaN</td>\n",
       "      <td>...</td>\n",
       "      <td>NaN</td>\n",
       "      <td>NaN</td>\n",
       "      <td>NaN</td>\n",
       "      <td>NaN</td>\n",
       "      <td>NaN</td>\n",
       "      <td>NaN</td>\n",
       "      <td>NaN</td>\n",
       "      <td>NaN</td>\n",
       "      <td>NaN</td>\n",
       "      <td>NaN</td>\n",
       "    </tr>\n",
       "    <tr>\n",
       "      <th>3</th>\n",
       "      <td>-</td>\n",
       "      <td>X</td>\n",
       "      <td>-</td>\n",
       "      <td>NaN</td>\n",
       "      <td>NaN</td>\n",
       "      <td>NaN</td>\n",
       "      <td>NaN</td>\n",
       "      <td>NaN</td>\n",
       "      <td>NaN</td>\n",
       "      <td>NaN</td>\n",
       "      <td>...</td>\n",
       "      <td>NaN</td>\n",
       "      <td>NaN</td>\n",
       "      <td>NaN</td>\n",
       "      <td>NaN</td>\n",
       "      <td>NaN</td>\n",
       "      <td>NaN</td>\n",
       "      <td>NaN</td>\n",
       "      <td>NaN</td>\n",
       "      <td>NaN</td>\n",
       "      <td>NaN</td>\n",
       "    </tr>\n",
       "    <tr>\n",
       "      <th>4</th>\n",
       "      <td>-</td>\n",
       "      <td>X</td>\n",
       "      <td>-</td>\n",
       "      <td>-</td>\n",
       "      <td>NaN</td>\n",
       "      <td>NaN</td>\n",
       "      <td>NaN</td>\n",
       "      <td>NaN</td>\n",
       "      <td>NaN</td>\n",
       "      <td>NaN</td>\n",
       "      <td>...</td>\n",
       "      <td>NaN</td>\n",
       "      <td>NaN</td>\n",
       "      <td>NaN</td>\n",
       "      <td>NaN</td>\n",
       "      <td>NaN</td>\n",
       "      <td>NaN</td>\n",
       "      <td>NaN</td>\n",
       "      <td>NaN</td>\n",
       "      <td>NaN</td>\n",
       "      <td>NaN</td>\n",
       "    </tr>\n",
       "    <tr>\n",
       "      <th>...</th>\n",
       "      <td>...</td>\n",
       "      <td>...</td>\n",
       "      <td>...</td>\n",
       "      <td>...</td>\n",
       "      <td>...</td>\n",
       "      <td>...</td>\n",
       "      <td>...</td>\n",
       "      <td>...</td>\n",
       "      <td>...</td>\n",
       "      <td>...</td>\n",
       "      <td>...</td>\n",
       "      <td>...</td>\n",
       "      <td>...</td>\n",
       "      <td>...</td>\n",
       "      <td>...</td>\n",
       "      <td>...</td>\n",
       "      <td>...</td>\n",
       "      <td>...</td>\n",
       "      <td>...</td>\n",
       "      <td>...</td>\n",
       "      <td>...</td>\n",
       "    </tr>\n",
       "    <tr>\n",
       "      <th>68</th>\n",
       "      <td>-</td>\n",
       "      <td>X</td>\n",
       "      <td>-</td>\n",
       "      <td>X</td>\n",
       "      <td>-</td>\n",
       "      <td>-</td>\n",
       "      <td>X</td>\n",
       "      <td>-</td>\n",
       "      <td>X</td>\n",
       "      <td>-</td>\n",
       "      <td>...</td>\n",
       "      <td>-</td>\n",
       "      <td>-</td>\n",
       "      <td>-</td>\n",
       "      <td>-</td>\n",
       "      <td>-</td>\n",
       "      <td>NaN</td>\n",
       "      <td>NaN</td>\n",
       "      <td>NaN</td>\n",
       "      <td>NaN</td>\n",
       "      <td>NaN</td>\n",
       "    </tr>\n",
       "    <tr>\n",
       "      <th>69</th>\n",
       "      <td>-</td>\n",
       "      <td>X</td>\n",
       "      <td>X</td>\n",
       "      <td>-</td>\n",
       "      <td>-</td>\n",
       "      <td>-</td>\n",
       "      <td>X</td>\n",
       "      <td>X</td>\n",
       "      <td>X</td>\n",
       "      <td>-</td>\n",
       "      <td>...</td>\n",
       "      <td>-</td>\n",
       "      <td>-</td>\n",
       "      <td>-</td>\n",
       "      <td>-</td>\n",
       "      <td>-</td>\n",
       "      <td>-</td>\n",
       "      <td>NaN</td>\n",
       "      <td>NaN</td>\n",
       "      <td>NaN</td>\n",
       "      <td>NaN</td>\n",
       "    </tr>\n",
       "    <tr>\n",
       "      <th>70</th>\n",
       "      <td>-</td>\n",
       "      <td>X</td>\n",
       "      <td>-</td>\n",
       "      <td>-</td>\n",
       "      <td>-</td>\n",
       "      <td>-</td>\n",
       "      <td>-</td>\n",
       "      <td>-</td>\n",
       "      <td>-</td>\n",
       "      <td>-</td>\n",
       "      <td>...</td>\n",
       "      <td>-</td>\n",
       "      <td>-</td>\n",
       "      <td>-</td>\n",
       "      <td>-</td>\n",
       "      <td>-</td>\n",
       "      <td>-</td>\n",
       "      <td>-</td>\n",
       "      <td>NaN</td>\n",
       "      <td>NaN</td>\n",
       "      <td>NaN</td>\n",
       "    </tr>\n",
       "    <tr>\n",
       "      <th>71</th>\n",
       "      <td>-</td>\n",
       "      <td>X</td>\n",
       "      <td>X</td>\n",
       "      <td>-</td>\n",
       "      <td>-</td>\n",
       "      <td>-</td>\n",
       "      <td>-</td>\n",
       "      <td>-</td>\n",
       "      <td>X</td>\n",
       "      <td>-</td>\n",
       "      <td>...</td>\n",
       "      <td>-</td>\n",
       "      <td>-</td>\n",
       "      <td>-</td>\n",
       "      <td>-</td>\n",
       "      <td>-</td>\n",
       "      <td>-</td>\n",
       "      <td>-</td>\n",
       "      <td>-</td>\n",
       "      <td>NaN</td>\n",
       "      <td>NaN</td>\n",
       "    </tr>\n",
       "    <tr>\n",
       "      <th>72</th>\n",
       "      <td>X</td>\n",
       "      <td>X</td>\n",
       "      <td>-</td>\n",
       "      <td>X</td>\n",
       "      <td>-</td>\n",
       "      <td>-</td>\n",
       "      <td>-</td>\n",
       "      <td>-</td>\n",
       "      <td>-</td>\n",
       "      <td>X</td>\n",
       "      <td>...</td>\n",
       "      <td>-</td>\n",
       "      <td>-</td>\n",
       "      <td>-</td>\n",
       "      <td>-</td>\n",
       "      <td>-</td>\n",
       "      <td>-</td>\n",
       "      <td>-</td>\n",
       "      <td>-</td>\n",
       "      <td>-</td>\n",
       "      <td>NaN</td>\n",
       "    </tr>\n",
       "  </tbody>\n",
       "</table>\n",
       "<p>73 rows × 73 columns</p>\n",
       "</div>"
      ],
      "text/plain": [
       "   Mossner Caspi Eley Grabe_a Kaufman_a Gillespie Kendler Surtees Sjoberg  \\\n",
       "0      NaN   NaN  NaN     NaN       NaN       NaN     NaN     NaN     NaN   \n",
       "1        -   NaN  NaN     NaN       NaN       NaN     NaN     NaN     NaN   \n",
       "2        -     X  NaN     NaN       NaN       NaN     NaN     NaN     NaN   \n",
       "3        -     X    -     NaN       NaN       NaN     NaN     NaN     NaN   \n",
       "4        -     X    -       -       NaN       NaN     NaN     NaN     NaN   \n",
       "..     ...   ...  ...     ...       ...       ...     ...     ...     ...   \n",
       "68       -     X    -       X         -         -       X       -       X   \n",
       "69       -     X    X       -         -         -       X       X       X   \n",
       "70       -     X    -       -         -         -       -       -       -   \n",
       "71       -     X    X       -         -         -       -       -       X   \n",
       "72       X     X    -       X         -         -       -       -       -   \n",
       "\n",
       "   Nakatani  ... Comasco_a Cicchetti_b Jenness Scheid_b Quinn Grabe_b  \\\n",
       "0       NaN  ...       NaN         NaN     NaN      NaN   NaN     NaN   \n",
       "1       NaN  ...       NaN         NaN     NaN      NaN   NaN     NaN   \n",
       "2       NaN  ...       NaN         NaN     NaN      NaN   NaN     NaN   \n",
       "3       NaN  ...       NaN         NaN     NaN      NaN   NaN     NaN   \n",
       "4       NaN  ...       NaN         NaN     NaN      NaN   NaN     NaN   \n",
       "..      ...  ...       ...         ...     ...      ...   ...     ...   \n",
       "68        -  ...         -           -       -        -     -     NaN   \n",
       "69        -  ...         -           -       -        -     -       -   \n",
       "70        -  ...         -           -       -        -     -       -   \n",
       "71        -  ...         -           -       -        -     -       -   \n",
       "72        X  ...         -           -       -        -     -       -   \n",
       "\n",
       "   Petersen Beaver Brown Wilhelm_b  \n",
       "0       NaN    NaN   NaN       NaN  \n",
       "1       NaN    NaN   NaN       NaN  \n",
       "2       NaN    NaN   NaN       NaN  \n",
       "3       NaN    NaN   NaN       NaN  \n",
       "4       NaN    NaN   NaN       NaN  \n",
       "..      ...    ...   ...       ...  \n",
       "68      NaN    NaN   NaN       NaN  \n",
       "69      NaN    NaN   NaN       NaN  \n",
       "70        -    NaN   NaN       NaN  \n",
       "71        -      -   NaN       NaN  \n",
       "72        -      -     -       NaN  \n",
       "\n",
       "[73 rows x 73 columns]"
      ]
     },
     "execution_count": 2,
     "metadata": {},
     "output_type": "execute_result"
    }
   ],
   "source": [
    "# load the adjacency matrix\n",
    "matrix = pd.read_csv('HTTLPR.csv')\n",
    "matrix = matrix.iloc[:, 6:]"
   ]
  },
  {
   "cell_type": "code",
   "execution_count": 3,
   "metadata": {
    "jupyter": {
     "outputs_hidden": false
    },
    "pycharm": {
     "name": "#%%\n"
    }
   },
   "outputs": [],
   "source": [
    "# load the attribute list\n",
    "# easy for this file because the first 6 columns are in fact attribute list\n",
    "attr_list = pd.read_csv('HTTLPR.csv', usecols=[0, 1, 2, 3, 4, 5])\n",
    "attr_list['PaperID'] = attr_list.index"
   ]
  },
  {
   "cell_type": "markdown",
   "metadata": {},
   "source": [
    "## Create a graph object g from the citation network data"
   ]
  },
  {
   "cell_type": "code",
   "execution_count": 4,
   "metadata": {
    "jupyter": {
     "outputs_hidden": false
    },
    "pycharm": {
     "name": "#%%\n"
    }
   },
   "outputs": [],
   "source": [
    "# initialize the graph object\n",
    "g = Graph(directed=True)\n",
    "g.add_vertices(73)\n",
    "\n",
    "# add attributes to the graph: study name: name; study outcome: outcome; YearOnline: year\n",
    "# study = attr_list['Study'].to_list()\n",
    "# outcome = attr_list['Outcome'].to_list()\n",
    "g.vs['name'] = attr_list['Study']\n",
    "g.vs[\"label\"] = g.vs[\"name\"]\n",
    "g.vs['outcome'] = attr_list['Outcome']\n",
    "g.vs['Year'] = attr_list['YearOnline']\n",
    "g.vs['color'] = 'light blue'\n",
    "\n",
    "# add edges from the adjacency matrix\n",
    "edge_list = []\n",
    "for i in range(0, matrix.shape[0]):\n",
    "    for j in range(0, matrix.shape[1]):\n",
    "        if isinstance(matrix.iloc[i, j], str):\n",
    "            s = matrix.iloc[i, j]\n",
    "            if s.replace(\" \", \"\") == \"X\":\n",
    "                edge_list.append((i, j))\n",
    "                g.add_edge(source=i, target=j)"
   ]
  },
  {
   "cell_type": "code",
   "execution_count": 5,
   "metadata": {
    "jupyter": {
     "outputs_hidden": false
    },
    "pycharm": {
     "name": "#%%\n"
    }
   },
   "outputs": [
    {
     "data": {
      "text/plain": [
       "488"
      ]
     },
     "execution_count": 5,
     "metadata": {},
     "output_type": "execute_result"
    }
   ],
   "source": [
    "# total number of edges\n",
    "len(g.es)"
   ]
  },
  {
   "cell_type": "code",
   "execution_count": 21,
   "metadata": {
    "jupyter": {
     "outputs_hidden": false
    },
    "pycharm": {
     "name": "#%%\n"
    }
   },
   "outputs": [
    {
     "data": {
      "text/html": [
       "<div>\n",
       "<style scoped>\n",
       "    .dataframe tbody tr th:only-of-type {\n",
       "        vertical-align: middle;\n",
       "    }\n",
       "\n",
       "    .dataframe tbody tr th {\n",
       "        vertical-align: top;\n",
       "    }\n",
       "\n",
       "    .dataframe thead th {\n",
       "        text-align: right;\n",
       "    }\n",
       "</style>\n",
       "<table border=\"1\" class=\"dataframe\">\n",
       "  <thead>\n",
       "    <tr style=\"text-align: right;\">\n",
       "      <th></th>\n",
       "      <th>name</th>\n",
       "      <th>real_citation_count</th>\n",
       "    </tr>\n",
       "  </thead>\n",
       "  <tbody>\n",
       "    <tr>\n",
       "      <th>0</th>\n",
       "      <td>Mossner</td>\n",
       "      <td>5</td>\n",
       "    </tr>\n",
       "    <tr>\n",
       "      <th>1</th>\n",
       "      <td>Caspi</td>\n",
       "      <td>65</td>\n",
       "    </tr>\n",
       "    <tr>\n",
       "      <th>2</th>\n",
       "      <td>Eley</td>\n",
       "      <td>37</td>\n",
       "    </tr>\n",
       "    <tr>\n",
       "      <th>3</th>\n",
       "      <td>Grabe_a</td>\n",
       "      <td>21</td>\n",
       "    </tr>\n",
       "    <tr>\n",
       "      <th>4</th>\n",
       "      <td>Kaufman_a</td>\n",
       "      <td>27</td>\n",
       "    </tr>\n",
       "    <tr>\n",
       "      <th>...</th>\n",
       "      <td>...</td>\n",
       "      <td>...</td>\n",
       "    </tr>\n",
       "    <tr>\n",
       "      <th>68</th>\n",
       "      <td>Grabe_b</td>\n",
       "      <td>0</td>\n",
       "    </tr>\n",
       "    <tr>\n",
       "      <th>69</th>\n",
       "      <td>Petersen</td>\n",
       "      <td>0</td>\n",
       "    </tr>\n",
       "    <tr>\n",
       "      <th>70</th>\n",
       "      <td>Beaver</td>\n",
       "      <td>0</td>\n",
       "    </tr>\n",
       "    <tr>\n",
       "      <th>71</th>\n",
       "      <td>Brown</td>\n",
       "      <td>0</td>\n",
       "    </tr>\n",
       "    <tr>\n",
       "      <th>72</th>\n",
       "      <td>Wilhelm_b</td>\n",
       "      <td>0</td>\n",
       "    </tr>\n",
       "  </tbody>\n",
       "</table>\n",
       "<p>73 rows × 2 columns</p>\n",
       "</div>"
      ],
      "text/plain": [
       "         name  real_citation_count\n",
       "0     Mossner                    5\n",
       "1       Caspi                   65\n",
       "2        Eley                   37\n",
       "3     Grabe_a                   21\n",
       "4   Kaufman_a                   27\n",
       "..        ...                  ...\n",
       "68    Grabe_b                    0\n",
       "69   Petersen                    0\n",
       "70     Beaver                    0\n",
       "71      Brown                    0\n",
       "72  Wilhelm_b                    0\n",
       "\n",
       "[73 rows x 2 columns]"
      ]
     },
     "execution_count": 21,
     "metadata": {},
     "output_type": "execute_result"
    }
   ],
   "source": [
    "df_new = pd.DataFrame({'name': g.vs['name'], 'real_citation_count': g.degree(mode='in')})"
   ]
  },
  {
   "cell_type": "markdown",
   "metadata": {},
   "source": [
    "## Create a \"potential graph\""
   ]
  },
  {
   "cell_type": "markdown",
   "metadata": {},
   "source": [
    "Create a \"potential graph\" (g_full) for the 5-HTTLPR in which all \"potential citation paths\" (Urlings et al., 2021) are connected . In our definition, a \"potential citation path\" exists between two publication if one paper is published one year or more earlier than another paper."
   ]
  },
  {
   "cell_type": "code",
   "execution_count": 7,
   "metadata": {
    "jupyter": {
     "outputs_hidden": false
    },
    "pycharm": {
     "name": "#%%\n"
    }
   },
   "outputs": [],
   "source": [
    "# potential graph\n",
    "year_gap = 1\n",
    "\n",
    "g_full = Graph(directed=True)\n",
    "g_full.add_vertices(73)\n",
    "g_full.vs['name'] = attr_list['Study']\n",
    "g_full.vs[\"label\"] = g_full.vs[\"name\"]\n",
    "g_full.vs['outcome'] = attr_list['Outcome']\n",
    "g_full.vs['Year'] = attr_list['YearOnline']\n",
    "\n",
    "full_edge_list=[]\n",
    "\n",
    "for i in g_full.vs.indices:\n",
    "    for j in g_full.vs.indices:\n",
    "        if i>j and (g.vs[i]['Year']-g.vs[j]['Year']>=year_gap):\n",
    "            full_edge_list.append((i,j))\n",
    "            g_full.add_edge(source=i,target=j)"
   ]
  },
  {
   "cell_type": "code",
   "execution_count": 8,
   "metadata": {
    "jupyter": {
     "outputs_hidden": false
    },
    "pycharm": {
     "name": "#%%\n"
    }
   },
   "outputs": [
    {
     "data": {
      "text/plain": [
       "2348"
      ]
     },
     "execution_count": 8,
     "metadata": {},
     "output_type": "execute_result"
    }
   ],
   "source": [
    "# number of edges in g_full\n",
    "len(g_full.es)"
   ]
  },
  {
   "cell_type": "markdown",
   "metadata": {},
   "source": [
    "## Compute p(y)"
   ]
  },
  {
   "cell_type": "markdown",
   "metadata": {},
   "source": [
    "Each paper in this dataset faces a pool of papers to choose from to cite (\"potential references\"). Under our definition, such a pool consists of papers published one year or more earlier than the citing paper. In the real world, the authors may be biased (i.e., they select a non-representative sample from the pool to cite). In this simulation, we will try to remove such a bias. We will compute p(y), number of performed citations divided by the total number of potential citations between papers published in year y and their pool of potential references. Using a Bernoulli random number generator, we will distribute the chance evenly among all potential references (i.e., each paper will enjoy an equal chance of p(y) to be cited)."
   ]
  },
  {
   "cell_type": "code",
   "execution_count": 9,
   "metadata": {
    "jupyter": {
     "outputs_hidden": false
    },
    "pycharm": {
     "name": "#%%\n"
    }
   },
   "outputs": [
    {
     "data": {
      "text/plain": [
       "array([2001, 2003, 2004, 2005, 2006, 2007, 2008, 2009, 2010, 2011, 2012],\n",
       "      dtype=int64)"
      ]
     },
     "execution_count": 9,
     "metadata": {},
     "output_type": "execute_result"
    }
   ],
   "source": [
    "generations = pd.unique(g.vs['Year'])\n",
    "generations"
   ]
  },
  {
   "cell_type": "code",
   "execution_count": 10,
   "metadata": {
    "jupyter": {
     "outputs_hidden": false
    },
    "pycharm": {
     "name": "#%%\n"
    }
   },
   "outputs": [
    {
     "data": {
      "text/plain": [
       "[0, 0, 4, 13, 38, 81, 52, 81, 85, 91, 43]"
      ]
     },
     "execution_count": 10,
     "metadata": {},
     "output_type": "execute_result"
    }
   ],
   "source": [
    "performed_citation = [len(g.es.select(_source_in=g.vs.select(Year=year))) for year in generations]\n",
    "performed_citation"
   ]
  },
  {
   "cell_type": "code",
   "execution_count": 11,
   "metadata": {
    "jupyter": {
     "outputs_hidden": false
    },
    "pycharm": {
     "name": "#%%\n"
    }
   },
   "outputs": [
    {
     "data": {
      "text/plain": [
       "[0, 1, 8, 24, 80, 198, 232, 407, 336, 660, 402]"
      ]
     },
     "execution_count": 11,
     "metadata": {},
     "output_type": "execute_result"
    }
   ],
   "source": [
    "potential_citation = [len(g_full.es.select(_source_in=g.vs.select(Year=year))) for year in generations]\n",
    "potential_citation"
   ]
  },
  {
   "cell_type": "markdown",
   "metadata": {},
   "source": [
    "### The first generation (2001) has no performed citation and no potential citation. Replace p(y) with NaN"
   ]
  },
  {
   "cell_type": "code",
   "execution_count": 12,
   "metadata": {
    "jupyter": {
     "outputs_hidden": false
    },
    "pycharm": {
     "name": "#%%\n"
    }
   },
   "outputs": [
    {
     "data": {
      "text/plain": [
       "[None,\n",
       " 0.0,\n",
       " 0.5,\n",
       " 0.5416666666666666,\n",
       " 0.475,\n",
       " 0.4090909090909091,\n",
       " 0.22413793103448276,\n",
       " 0.19901719901719903,\n",
       " 0.25297619047619047,\n",
       " 0.13787878787878788,\n",
       " 0.10696517412935323]"
      ]
     },
     "execution_count": 12,
     "metadata": {},
     "output_type": "execute_result"
    }
   ],
   "source": [
    "p_y = [i/j for i, j in zip(performed_citation[1:], potential_citation[1:])]\n",
    "p_y = [None] + p_y"
   ]
  },
  {
   "cell_type": "markdown",
   "metadata": {},
   "source": [
    "**NOTE**: p(y) first increases and then decreases over the years."
   ]
  },
  {
   "cell_type": "markdown",
   "metadata": {},
   "source": [
    "## Use p(y) to simulate unbiased networks"
   ]
  },
  {
   "cell_type": "code",
   "execution_count": 13,
   "metadata": {
    "jupyter": {
     "outputs_hidden": false
    },
    "pycharm": {
     "name": "#%%\n"
    }
   },
   "outputs": [
    {
     "data": {
      "text/html": [
       "<div>\n",
       "<style scoped>\n",
       "    .dataframe tbody tr th:only-of-type {\n",
       "        vertical-align: middle;\n",
       "    }\n",
       "\n",
       "    .dataframe tbody tr th {\n",
       "        vertical-align: top;\n",
       "    }\n",
       "\n",
       "    .dataframe thead th {\n",
       "        text-align: right;\n",
       "    }\n",
       "</style>\n",
       "<table border=\"1\" class=\"dataframe\">\n",
       "  <thead>\n",
       "    <tr style=\"text-align: right;\">\n",
       "      <th></th>\n",
       "      <th>year</th>\n",
       "      <th>performed_citation</th>\n",
       "      <th>potential_citation</th>\n",
       "      <th>p(y)</th>\n",
       "    </tr>\n",
       "  </thead>\n",
       "  <tbody>\n",
       "    <tr>\n",
       "      <th>0</th>\n",
       "      <td>2001</td>\n",
       "      <td>0</td>\n",
       "      <td>0</td>\n",
       "      <td>NaN</td>\n",
       "    </tr>\n",
       "    <tr>\n",
       "      <th>1</th>\n",
       "      <td>2003</td>\n",
       "      <td>0</td>\n",
       "      <td>1</td>\n",
       "      <td>0.000000</td>\n",
       "    </tr>\n",
       "    <tr>\n",
       "      <th>2</th>\n",
       "      <td>2004</td>\n",
       "      <td>4</td>\n",
       "      <td>8</td>\n",
       "      <td>0.500000</td>\n",
       "    </tr>\n",
       "    <tr>\n",
       "      <th>3</th>\n",
       "      <td>2005</td>\n",
       "      <td>13</td>\n",
       "      <td>24</td>\n",
       "      <td>0.541667</td>\n",
       "    </tr>\n",
       "    <tr>\n",
       "      <th>4</th>\n",
       "      <td>2006</td>\n",
       "      <td>38</td>\n",
       "      <td>80</td>\n",
       "      <td>0.475000</td>\n",
       "    </tr>\n",
       "    <tr>\n",
       "      <th>5</th>\n",
       "      <td>2007</td>\n",
       "      <td>81</td>\n",
       "      <td>198</td>\n",
       "      <td>0.409091</td>\n",
       "    </tr>\n",
       "    <tr>\n",
       "      <th>6</th>\n",
       "      <td>2008</td>\n",
       "      <td>52</td>\n",
       "      <td>232</td>\n",
       "      <td>0.224138</td>\n",
       "    </tr>\n",
       "    <tr>\n",
       "      <th>7</th>\n",
       "      <td>2009</td>\n",
       "      <td>81</td>\n",
       "      <td>407</td>\n",
       "      <td>0.199017</td>\n",
       "    </tr>\n",
       "    <tr>\n",
       "      <th>8</th>\n",
       "      <td>2010</td>\n",
       "      <td>85</td>\n",
       "      <td>336</td>\n",
       "      <td>0.252976</td>\n",
       "    </tr>\n",
       "    <tr>\n",
       "      <th>9</th>\n",
       "      <td>2011</td>\n",
       "      <td>91</td>\n",
       "      <td>660</td>\n",
       "      <td>0.137879</td>\n",
       "    </tr>\n",
       "    <tr>\n",
       "      <th>10</th>\n",
       "      <td>2012</td>\n",
       "      <td>43</td>\n",
       "      <td>402</td>\n",
       "      <td>0.106965</td>\n",
       "    </tr>\n",
       "  </tbody>\n",
       "</table>\n",
       "</div>"
      ],
      "text/plain": [
       "    year  performed_citation  potential_citation      p(y)\n",
       "0   2001                   0                   0       NaN\n",
       "1   2003                   0                   1  0.000000\n",
       "2   2004                   4                   8  0.500000\n",
       "3   2005                  13                  24  0.541667\n",
       "4   2006                  38                  80  0.475000\n",
       "5   2007                  81                 198  0.409091\n",
       "6   2008                  52                 232  0.224138\n",
       "7   2009                  81                 407  0.199017\n",
       "8   2010                  85                 336  0.252976\n",
       "9   2011                  91                 660  0.137879\n",
       "10  2012                  43                 402  0.106965"
      ]
     },
     "execution_count": 13,
     "metadata": {},
     "output_type": "execute_result"
    }
   ],
   "source": [
    "prob = pd.DataFrame({'year': generations,\n",
    "                    'performed_citation': performed_citation,\n",
    "                    'potential_citation': potential_citation,\n",
    "                    'p(y)': p_y})"
   ]
  },
  {
   "cell_type": "code",
   "execution_count": 14,
   "metadata": {
    "pycharm": {
     "name": "#%%\n"
    }
   },
   "outputs": [
    {
     "data": {
      "text/html": [
       "<div>\n",
       "<style scoped>\n",
       "    .dataframe tbody tr th:only-of-type {\n",
       "        vertical-align: middle;\n",
       "    }\n",
       "\n",
       "    .dataframe tbody tr th {\n",
       "        vertical-align: top;\n",
       "    }\n",
       "\n",
       "    .dataframe thead th {\n",
       "        text-align: right;\n",
       "    }\n",
       "</style>\n",
       "<table border=\"1\" class=\"dataframe\">\n",
       "  <thead>\n",
       "    <tr style=\"text-align: right;\">\n",
       "      <th></th>\n",
       "      <th>year</th>\n",
       "      <th>number of publications in each year</th>\n",
       "      <th>number of publications before the year</th>\n",
       "    </tr>\n",
       "  </thead>\n",
       "  <tbody>\n",
       "    <tr>\n",
       "      <th>0</th>\n",
       "      <td>2001</td>\n",
       "      <td>1</td>\n",
       "      <td>0</td>\n",
       "    </tr>\n",
       "    <tr>\n",
       "      <th>1</th>\n",
       "      <td>2003</td>\n",
       "      <td>1</td>\n",
       "      <td>1</td>\n",
       "    </tr>\n",
       "    <tr>\n",
       "      <th>2</th>\n",
       "      <td>2004</td>\n",
       "      <td>4</td>\n",
       "      <td>2</td>\n",
       "    </tr>\n",
       "    <tr>\n",
       "      <th>3</th>\n",
       "      <td>2005</td>\n",
       "      <td>4</td>\n",
       "      <td>6</td>\n",
       "    </tr>\n",
       "    <tr>\n",
       "      <th>4</th>\n",
       "      <td>2006</td>\n",
       "      <td>8</td>\n",
       "      <td>10</td>\n",
       "    </tr>\n",
       "    <tr>\n",
       "      <th>5</th>\n",
       "      <td>2007</td>\n",
       "      <td>11</td>\n",
       "      <td>18</td>\n",
       "    </tr>\n",
       "    <tr>\n",
       "      <th>6</th>\n",
       "      <td>2008</td>\n",
       "      <td>8</td>\n",
       "      <td>29</td>\n",
       "    </tr>\n",
       "    <tr>\n",
       "      <th>7</th>\n",
       "      <td>2009</td>\n",
       "      <td>11</td>\n",
       "      <td>37</td>\n",
       "    </tr>\n",
       "    <tr>\n",
       "      <th>8</th>\n",
       "      <td>2010</td>\n",
       "      <td>7</td>\n",
       "      <td>48</td>\n",
       "    </tr>\n",
       "    <tr>\n",
       "      <th>9</th>\n",
       "      <td>2011</td>\n",
       "      <td>12</td>\n",
       "      <td>55</td>\n",
       "    </tr>\n",
       "    <tr>\n",
       "      <th>10</th>\n",
       "      <td>2012</td>\n",
       "      <td>6</td>\n",
       "      <td>67</td>\n",
       "    </tr>\n",
       "  </tbody>\n",
       "</table>\n",
       "</div>"
      ],
      "text/plain": [
       "    year  number of publications in each year  \\\n",
       "0   2001                                    1   \n",
       "1   2003                                    1   \n",
       "2   2004                                    4   \n",
       "3   2005                                    4   \n",
       "4   2006                                    8   \n",
       "5   2007                                   11   \n",
       "6   2008                                    8   \n",
       "7   2009                                   11   \n",
       "8   2010                                    7   \n",
       "9   2011                                   12   \n",
       "10  2012                                    6   \n",
       "\n",
       "    number of publications before the year  \n",
       "0                                        0  \n",
       "1                                        1  \n",
       "2                                        2  \n",
       "3                                        6  \n",
       "4                                       10  \n",
       "5                                       18  \n",
       "6                                       29  \n",
       "7                                       37  \n",
       "8                                       48  \n",
       "9                                       55  \n",
       "10                                      67  "
      ]
     },
     "execution_count": 14,
     "metadata": {},
     "output_type": "execute_result"
    }
   ],
   "source": [
    "pool = pd.DataFrame({'year': generations,'number of publications in each year':attr_list['YearOnline'].value_counts(sort=False),\n",
    "                    'number of publications before the year':0})\n",
    "pool['number of publications before the year']=pool['number of publications in each year'].cumsum()-pool['number of publications in each year']\n",
    "pool.index = range(prob.shape[0])"
   ]
  },
  {
   "cell_type": "code",
   "execution_count": 15,
   "metadata": {
    "jupyter": {
     "outputs_hidden": false
    },
    "pycharm": {
     "name": "#%%\n"
    }
   },
   "outputs": [
    {
     "data": {
      "text/html": [
       "<div>\n",
       "<style scoped>\n",
       "    .dataframe tbody tr th:only-of-type {\n",
       "        vertical-align: middle;\n",
       "    }\n",
       "\n",
       "    .dataframe tbody tr th {\n",
       "        vertical-align: top;\n",
       "    }\n",
       "\n",
       "    .dataframe thead th {\n",
       "        text-align: right;\n",
       "    }\n",
       "</style>\n",
       "<table border=\"1\" class=\"dataframe\">\n",
       "  <thead>\n",
       "    <tr style=\"text-align: right;\">\n",
       "      <th></th>\n",
       "      <th>expected number of publications</th>\n",
       "    </tr>\n",
       "  </thead>\n",
       "  <tbody>\n",
       "    <tr>\n",
       "      <th>1</th>\n",
       "      <td>0.000000</td>\n",
       "    </tr>\n",
       "    <tr>\n",
       "      <th>2</th>\n",
       "      <td>2.000000</td>\n",
       "    </tr>\n",
       "    <tr>\n",
       "      <th>3</th>\n",
       "      <td>2.166667</td>\n",
       "    </tr>\n",
       "    <tr>\n",
       "      <th>4</th>\n",
       "      <td>3.800000</td>\n",
       "    </tr>\n",
       "    <tr>\n",
       "      <th>5</th>\n",
       "      <td>4.500000</td>\n",
       "    </tr>\n",
       "    <tr>\n",
       "      <th>6</th>\n",
       "      <td>1.793103</td>\n",
       "    </tr>\n",
       "    <tr>\n",
       "      <th>7</th>\n",
       "      <td>2.189189</td>\n",
       "    </tr>\n",
       "    <tr>\n",
       "      <th>8</th>\n",
       "      <td>1.770833</td>\n",
       "    </tr>\n",
       "    <tr>\n",
       "      <th>9</th>\n",
       "      <td>1.654545</td>\n",
       "    </tr>\n",
       "    <tr>\n",
       "      <th>10</th>\n",
       "      <td>0.641791</td>\n",
       "    </tr>\n",
       "  </tbody>\n",
       "</table>\n",
       "</div>"
      ],
      "text/plain": [
       "    expected number of publications\n",
       "1                          0.000000\n",
       "2                          2.000000\n",
       "3                          2.166667\n",
       "4                          3.800000\n",
       "5                          4.500000\n",
       "6                          1.793103\n",
       "7                          2.189189\n",
       "8                          1.770833\n",
       "9                          1.654545\n",
       "10                         0.641791"
      ]
     },
     "execution_count": 15,
     "metadata": {},
     "output_type": "execute_result"
    }
   ],
   "source": [
    "expected = prob['p(y)'] * pool['number of publications in each year']\n",
    "expected = expected.to_frame('expected number of publications')\n",
    "expected.drop(0)"
   ]
  },
  {
   "cell_type": "code",
   "execution_count": 16,
   "metadata": {
    "jupyter": {
     "outputs_hidden": false
    },
    "pycharm": {
     "name": "#%%\n"
    }
   },
   "outputs": [
    {
     "data": {
      "text/plain": [
       "[20.516129136786628,\n",
       " 20.516129136786628,\n",
       " 18.516129136786628,\n",
       " 16.34946247011996,\n",
       " 12.549462470119959,\n",
       " 8.049462470119959,\n",
       " 6.256359021844097,\n",
       " 4.0671698326549075,\n",
       " 2.296336499321574,\n",
       " 0.6417910447761194]"
      ]
     },
     "execution_count": 16,
     "metadata": {},
     "output_type": "execute_result"
    }
   ],
   "source": [
    "expected_indegree = expected[::-1]['expected number of publications'].cumsum().to_list()\n",
    "expected_indegree = expected_indegree[::-1]\n",
    "expected_indegree = expected_indegree[1:]"
   ]
  },
  {
   "cell_type": "code",
   "execution_count": 31,
   "metadata": {
    "jupyter": {
     "outputs_hidden": false
    },
    "pycharm": {
     "name": "#%%\n"
    }
   },
   "outputs": [
    {
     "data": {
      "text/plain": [
       "[20.516129136786628,\n",
       " 20.516129136786628,\n",
       " 18.516129136786628,\n",
       " 18.516129136786628,\n",
       " 18.516129136786628,\n",
       " 18.516129136786628,\n",
       " 16.34946247011996,\n",
       " 16.34946247011996,\n",
       " 16.34946247011996,\n",
       " 16.34946247011996,\n",
       " 12.549462470119959,\n",
       " 12.549462470119959,\n",
       " 12.549462470119959,\n",
       " 12.549462470119959,\n",
       " 12.549462470119959,\n",
       " 12.549462470119959,\n",
       " 12.549462470119959,\n",
       " 12.549462470119959,\n",
       " 8.049462470119959,\n",
       " 8.049462470119959,\n",
       " 8.049462470119959,\n",
       " 8.049462470119959,\n",
       " 8.049462470119959,\n",
       " 8.049462470119959,\n",
       " 8.049462470119959,\n",
       " 8.049462470119959,\n",
       " 8.049462470119959,\n",
       " 8.049462470119959,\n",
       " 8.049462470119959,\n",
       " 6.256359021844097,\n",
       " 6.256359021844097,\n",
       " 6.256359021844097,\n",
       " 6.256359021844097,\n",
       " 6.256359021844097,\n",
       " 6.256359021844097,\n",
       " 6.256359021844097,\n",
       " 6.256359021844097,\n",
       " 4.0671698326549075,\n",
       " 4.0671698326549075,\n",
       " 4.0671698326549075,\n",
       " 4.0671698326549075,\n",
       " 4.0671698326549075,\n",
       " 4.0671698326549075,\n",
       " 4.0671698326549075,\n",
       " 4.0671698326549075,\n",
       " 4.0671698326549075,\n",
       " 4.0671698326549075,\n",
       " 4.0671698326549075,\n",
       " 2.296336499321574,\n",
       " 2.296336499321574,\n",
       " 2.296336499321574,\n",
       " 2.296336499321574,\n",
       " 2.296336499321574,\n",
       " 2.296336499321574,\n",
       " 2.296336499321574,\n",
       " 0.6417910447761194,\n",
       " 0.6417910447761194,\n",
       " 0.6417910447761194,\n",
       " 0.6417910447761194,\n",
       " 0.6417910447761194,\n",
       " 0.6417910447761194,\n",
       " 0.6417910447761194,\n",
       " 0.6417910447761194,\n",
       " 0.6417910447761194,\n",
       " 0.6417910447761194,\n",
       " 0.6417910447761194,\n",
       " 0.6417910447761194,\n",
       " 0,\n",
       " 0,\n",
       " 0,\n",
       " 0,\n",
       " 0,\n",
       " 0]"
      ]
     },
     "execution_count": 31,
     "metadata": {},
     "output_type": "execute_result"
    }
   ],
   "source": [
    "a = []\n",
    "for i in range(expected.shape[0]-1):\n",
    "    a.extend([expected_indegree[i]]*int(pool.iloc[i,]['number of publications in each year']))\n",
    "\n",
    "a.extend([0]*pool.iloc[-1,1]) # extend the last generations, expected citations were zero"
   ]
  },
  {
   "cell_type": "code",
   "execution_count": 22,
   "metadata": {
    "jupyter": {
     "outputs_hidden": false
    },
    "pycharm": {
     "name": "#%%\n"
    }
   },
   "outputs": [
    {
     "data": {
      "text/html": [
       "<div>\n",
       "<style scoped>\n",
       "    .dataframe tbody tr th:only-of-type {\n",
       "        vertical-align: middle;\n",
       "    }\n",
       "\n",
       "    .dataframe tbody tr th {\n",
       "        vertical-align: top;\n",
       "    }\n",
       "\n",
       "    .dataframe thead th {\n",
       "        text-align: right;\n",
       "    }\n",
       "</style>\n",
       "<table border=\"1\" class=\"dataframe\">\n",
       "  <thead>\n",
       "    <tr style=\"text-align: right;\">\n",
       "      <th></th>\n",
       "      <th>name</th>\n",
       "      <th>real_citation_count</th>\n",
       "      <th>expected_citation_count</th>\n",
       "    </tr>\n",
       "  </thead>\n",
       "  <tbody>\n",
       "    <tr>\n",
       "      <th>0</th>\n",
       "      <td>Mossner</td>\n",
       "      <td>5</td>\n",
       "      <td>20.516</td>\n",
       "    </tr>\n",
       "    <tr>\n",
       "      <th>1</th>\n",
       "      <td>Caspi</td>\n",
       "      <td>65</td>\n",
       "      <td>20.516</td>\n",
       "    </tr>\n",
       "    <tr>\n",
       "      <th>2</th>\n",
       "      <td>Eley</td>\n",
       "      <td>37</td>\n",
       "      <td>18.516</td>\n",
       "    </tr>\n",
       "    <tr>\n",
       "      <th>3</th>\n",
       "      <td>Grabe_a</td>\n",
       "      <td>21</td>\n",
       "      <td>18.516</td>\n",
       "    </tr>\n",
       "    <tr>\n",
       "      <th>4</th>\n",
       "      <td>Kaufman_a</td>\n",
       "      <td>27</td>\n",
       "      <td>18.516</td>\n",
       "    </tr>\n",
       "    <tr>\n",
       "      <th>...</th>\n",
       "      <td>...</td>\n",
       "      <td>...</td>\n",
       "      <td>...</td>\n",
       "    </tr>\n",
       "    <tr>\n",
       "      <th>68</th>\n",
       "      <td>Grabe_b</td>\n",
       "      <td>0</td>\n",
       "      <td>0.000</td>\n",
       "    </tr>\n",
       "    <tr>\n",
       "      <th>69</th>\n",
       "      <td>Petersen</td>\n",
       "      <td>0</td>\n",
       "      <td>0.000</td>\n",
       "    </tr>\n",
       "    <tr>\n",
       "      <th>70</th>\n",
       "      <td>Beaver</td>\n",
       "      <td>0</td>\n",
       "      <td>0.000</td>\n",
       "    </tr>\n",
       "    <tr>\n",
       "      <th>71</th>\n",
       "      <td>Brown</td>\n",
       "      <td>0</td>\n",
       "      <td>0.000</td>\n",
       "    </tr>\n",
       "    <tr>\n",
       "      <th>72</th>\n",
       "      <td>Wilhelm_b</td>\n",
       "      <td>0</td>\n",
       "      <td>0.000</td>\n",
       "    </tr>\n",
       "  </tbody>\n",
       "</table>\n",
       "<p>73 rows × 3 columns</p>\n",
       "</div>"
      ],
      "text/plain": [
       "         name  real_citation_count  expected_citation_count\n",
       "0     Mossner                    5                   20.516\n",
       "1       Caspi                   65                   20.516\n",
       "2        Eley                   37                   18.516\n",
       "3     Grabe_a                   21                   18.516\n",
       "4   Kaufman_a                   27                   18.516\n",
       "..        ...                  ...                      ...\n",
       "68    Grabe_b                    0                    0.000\n",
       "69   Petersen                    0                    0.000\n",
       "70     Beaver                    0                    0.000\n",
       "71      Brown                    0                    0.000\n",
       "72  Wilhelm_b                    0                    0.000\n",
       "\n",
       "[73 rows x 3 columns]"
      ]
     },
     "execution_count": 22,
     "metadata": {},
     "output_type": "execute_result"
    }
   ],
   "source": [
    "df_new['expected_citation_count'] = [round(elem,3) for elem in a]"
   ]
  },
  {
   "cell_type": "code",
   "execution_count": 55,
   "metadata": {},
   "outputs": [
    {
     "data": {
      "text/html": [
       "<div>\n",
       "<style scoped>\n",
       "    .dataframe tbody tr th:only-of-type {\n",
       "        vertical-align: middle;\n",
       "    }\n",
       "\n",
       "    .dataframe tbody tr th {\n",
       "        vertical-align: top;\n",
       "    }\n",
       "\n",
       "    .dataframe thead th {\n",
       "        text-align: right;\n",
       "    }\n",
       "</style>\n",
       "<table border=\"1\" class=\"dataframe\">\n",
       "  <thead>\n",
       "    <tr style=\"text-align: right;\">\n",
       "      <th></th>\n",
       "      <th>name</th>\n",
       "      <th>real_citation_count</th>\n",
       "      <th>expected_citation_count</th>\n",
       "      <th>ratio</th>\n",
       "    </tr>\n",
       "  </thead>\n",
       "  <tbody>\n",
       "    <tr>\n",
       "      <th>0</th>\n",
       "      <td>Mossner</td>\n",
       "      <td>5</td>\n",
       "      <td>20.516</td>\n",
       "      <td>0.244</td>\n",
       "    </tr>\n",
       "    <tr>\n",
       "      <th>1</th>\n",
       "      <td>Caspi</td>\n",
       "      <td>65</td>\n",
       "      <td>20.516</td>\n",
       "      <td>3.168</td>\n",
       "    </tr>\n",
       "    <tr>\n",
       "      <th>2</th>\n",
       "      <td>Eley</td>\n",
       "      <td>37</td>\n",
       "      <td>18.516</td>\n",
       "      <td>1.998</td>\n",
       "    </tr>\n",
       "    <tr>\n",
       "      <th>3</th>\n",
       "      <td>Grabe_a</td>\n",
       "      <td>21</td>\n",
       "      <td>18.516</td>\n",
       "      <td>1.134</td>\n",
       "    </tr>\n",
       "    <tr>\n",
       "      <th>4</th>\n",
       "      <td>Kaufman_a</td>\n",
       "      <td>27</td>\n",
       "      <td>18.516</td>\n",
       "      <td>1.458</td>\n",
       "    </tr>\n",
       "    <tr>\n",
       "      <th>...</th>\n",
       "      <td>...</td>\n",
       "      <td>...</td>\n",
       "      <td>...</td>\n",
       "      <td>...</td>\n",
       "    </tr>\n",
       "    <tr>\n",
       "      <th>68</th>\n",
       "      <td>Grabe_b</td>\n",
       "      <td>0</td>\n",
       "      <td>0.000</td>\n",
       "      <td>NaN</td>\n",
       "    </tr>\n",
       "    <tr>\n",
       "      <th>69</th>\n",
       "      <td>Petersen</td>\n",
       "      <td>0</td>\n",
       "      <td>0.000</td>\n",
       "      <td>NaN</td>\n",
       "    </tr>\n",
       "    <tr>\n",
       "      <th>70</th>\n",
       "      <td>Beaver</td>\n",
       "      <td>0</td>\n",
       "      <td>0.000</td>\n",
       "      <td>NaN</td>\n",
       "    </tr>\n",
       "    <tr>\n",
       "      <th>71</th>\n",
       "      <td>Brown</td>\n",
       "      <td>0</td>\n",
       "      <td>0.000</td>\n",
       "      <td>NaN</td>\n",
       "    </tr>\n",
       "    <tr>\n",
       "      <th>72</th>\n",
       "      <td>Wilhelm_b</td>\n",
       "      <td>0</td>\n",
       "      <td>0.000</td>\n",
       "      <td>NaN</td>\n",
       "    </tr>\n",
       "  </tbody>\n",
       "</table>\n",
       "<p>73 rows × 4 columns</p>\n",
       "</div>"
      ],
      "text/plain": [
       "         name  real_citation_count  expected_citation_count  ratio\n",
       "0     Mossner                    5                   20.516  0.244\n",
       "1       Caspi                   65                   20.516  3.168\n",
       "2        Eley                   37                   18.516  1.998\n",
       "3     Grabe_a                   21                   18.516  1.134\n",
       "4   Kaufman_a                   27                   18.516  1.458\n",
       "..        ...                  ...                      ...    ...\n",
       "68    Grabe_b                    0                    0.000    NaN\n",
       "69   Petersen                    0                    0.000    NaN\n",
       "70     Beaver                    0                    0.000    NaN\n",
       "71      Brown                    0                    0.000    NaN\n",
       "72  Wilhelm_b                    0                    0.000    NaN\n",
       "\n",
       "[73 rows x 4 columns]"
      ]
     },
     "execution_count": 55,
     "metadata": {},
     "output_type": "execute_result"
    }
   ],
   "source": [
    "df_new.loc[df_new['expected_citation_count'] != 0,'ratio'] = df_new.loc[df_new['expected_citation_count'] != 0,'real_citation_count']/df_new.loc[df_new['expected_citation_count'] != 0,'expected_citation_count']\n",
    "df_new['ratio'] = round(df_new['ratio'],3)"
   ]
  },
  {
   "cell_type": "code",
   "execution_count": 26,
   "metadata": {},
   "outputs": [],
   "source": [
    "ratio_max = df_new['ratio'].max()"
   ]
  },
  {
   "cell_type": "code",
   "execution_count": 47,
   "metadata": {},
   "outputs": [
    {
     "data": {
      "text/plain": [
       "[0.0, 0.5, 1.0, 1.5, 2.0, 2.5, 3.0, 3.5]"
      ]
     },
     "execution_count": 47,
     "metadata": {},
     "output_type": "execute_result"
    }
   ],
   "source": [
    "if ratio_max - math.floor(ratio_max)>0.5:\n",
    "    x_max = math.floor(ratio_max)+1\n",
    "else:\n",
    "    x_max = math.floor(ratio_max) + 0.5\n",
    "\n",
    "bins = list(np.arange(0,(x_max+0.5),0.5))"
   ]
  },
  {
   "cell_type": "code",
   "execution_count": 51,
   "metadata": {
    "jupyter": {
     "outputs_hidden": false
    },
    "pycharm": {
     "name": "#%%\n"
    }
   },
   "outputs": [
    {
     "data": {
      "image/png": "[encoded data removed]",
      "text/plain": [
       "<Figure size 432x288 with 1 Axes>"
      ]
     },
     "metadata": {
      "needs_background": "light"
     },
     "output_type": "display_data"
    }
   ],
   "source": [
    "plt.hist(df_new['ratio'], bins=bins,color='blue', edgecolor='blue', linewidth=1, hatch=\"//\",\n",
    "         histtype='bar', alpha=0.5)\n",
    "plt.xlabel('Ratio between Real and Theoretical Citations',fontsize=14)\n",
    "plt.ylabel('Count',fontsize=14)\n",
    "plt.show()"
   ]
  },
  {
   "cell_type": "markdown",
   "metadata": {},
   "source": [
    "## Bottom 10 \"marginalized papers\" with non-zero ratio between real and expected citations"
   ]
  },
  {
   "cell_type": "code",
   "execution_count": 56,
   "metadata": {
    "jupyter": {
     "outputs_hidden": false
    },
    "pycharm": {
     "name": "#%%\n"
    }
   },
   "outputs": [
    {
     "data": {
      "text/html": [
       "<div>\n",
       "<style scoped>\n",
       "    .dataframe tbody tr th:only-of-type {\n",
       "        vertical-align: middle;\n",
       "    }\n",
       "\n",
       "    .dataframe tbody tr th {\n",
       "        vertical-align: top;\n",
       "    }\n",
       "\n",
       "    .dataframe thead th {\n",
       "        text-align: right;\n",
       "    }\n",
       "</style>\n",
       "<table border=\"1\" class=\"dataframe\">\n",
       "  <thead>\n",
       "    <tr style=\"text-align: right;\">\n",
       "      <th></th>\n",
       "      <th>name</th>\n",
       "      <th>real_citation_count</th>\n",
       "      <th>expected_citation_count</th>\n",
       "      <th>ratio</th>\n",
       "    </tr>\n",
       "  </thead>\n",
       "  <tbody>\n",
       "    <tr>\n",
       "      <th>18</th>\n",
       "      <td>Dick</td>\n",
       "      <td>1</td>\n",
       "      <td>8.049</td>\n",
       "      <td>0.124</td>\n",
       "    </tr>\n",
       "    <tr>\n",
       "      <th>19</th>\n",
       "      <td>Kraus</td>\n",
       "      <td>1</td>\n",
       "      <td>8.049</td>\n",
       "      <td>0.124</td>\n",
       "    </tr>\n",
       "    <tr>\n",
       "      <th>32</th>\n",
       "      <td>Lotrich</td>\n",
       "      <td>1</td>\n",
       "      <td>6.256</td>\n",
       "      <td>0.160</td>\n",
       "    </tr>\n",
       "    <tr>\n",
       "      <th>0</th>\n",
       "      <td>Mossner</td>\n",
       "      <td>5</td>\n",
       "      <td>20.516</td>\n",
       "      <td>0.244</td>\n",
       "    </tr>\n",
       "    <tr>\n",
       "      <th>40</th>\n",
       "      <td>Kim_b</td>\n",
       "      <td>1</td>\n",
       "      <td>4.067</td>\n",
       "      <td>0.246</td>\n",
       "    </tr>\n",
       "    <tr>\n",
       "      <th>46</th>\n",
       "      <td>Coventry</td>\n",
       "      <td>1</td>\n",
       "      <td>4.067</td>\n",
       "      <td>0.246</td>\n",
       "    </tr>\n",
       "    <tr>\n",
       "      <th>45</th>\n",
       "      <td>Gibb</td>\n",
       "      <td>1</td>\n",
       "      <td>4.067</td>\n",
       "      <td>0.246</td>\n",
       "    </tr>\n",
       "    <tr>\n",
       "      <th>28</th>\n",
       "      <td>Kilpatrick</td>\n",
       "      <td>2</td>\n",
       "      <td>8.049</td>\n",
       "      <td>0.248</td>\n",
       "    </tr>\n",
       "    <tr>\n",
       "      <th>35</th>\n",
       "      <td>PhillipsBute</td>\n",
       "      <td>2</td>\n",
       "      <td>6.256</td>\n",
       "      <td>0.320</td>\n",
       "    </tr>\n",
       "    <tr>\n",
       "      <th>29</th>\n",
       "      <td>Bull</td>\n",
       "      <td>2</td>\n",
       "      <td>6.256</td>\n",
       "      <td>0.320</td>\n",
       "    </tr>\n",
       "  </tbody>\n",
       "</table>\n",
       "</div>"
      ],
      "text/plain": [
       "            name  real_citation_count  expected_citation_count  ratio\n",
       "18          Dick                    1                    8.049  0.124\n",
       "19         Kraus                    1                    8.049  0.124\n",
       "32       Lotrich                    1                    6.256  0.160\n",
       "0        Mossner                    5                   20.516  0.244\n",
       "40         Kim_b                    1                    4.067  0.246\n",
       "46      Coventry                    1                    4.067  0.246\n",
       "45          Gibb                    1                    4.067  0.246\n",
       "28    Kilpatrick                    2                    8.049  0.248\n",
       "35  PhillipsBute                    2                    6.256  0.320\n",
       "29          Bull                    2                    6.256  0.320"
      ]
     },
     "execution_count": 56,
     "metadata": {},
     "output_type": "execute_result"
    }
   ],
   "source": [
    "df_new.loc[df_new['ratio'] !=0].sort_values(by='ratio').head(10)"
   ]
  },
  {
   "cell_type": "markdown",
   "metadata": {},
   "source": [
    "## Old method (Fu, Yuan, and Schneider, 2021)"
   ]
  },
  {
   "cell_type": "code",
   "execution_count": null,
   "metadata": {},
   "outputs": [],
   "source": []
  }
 ],
 "metadata": {
  "kernelspec": {
   "display_name": "Python 3 (ipykernel)",
   "language": "python",
   "name": "python3"
  },
  "language_info": {
   "codemirror_mode": {
    "name": "ipython",
    "version": 3
   },
   "file_extension": ".py",
   "mimetype": "text/x-python",
   "name": "python",
   "nbconvert_exporter": "python",
   "pygments_lexer": "ipython3",
   "version": "3.8.10"
  }
 },
 "nbformat": 4,
 "nbformat_minor": 4
}
