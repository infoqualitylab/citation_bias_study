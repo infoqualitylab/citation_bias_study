{
 "cells": [
  {
   "cell_type": "markdown",
   "metadata": {},
   "source": [
    "# Using citation redistribution to estimate unbiased expected citation count from a biased citation network"
   ]
  },
  {
   "cell_type": "markdown",
   "metadata": {},
   "source": [
    "Author: Yuanxi Fu, Zhonghe Wan\n",
    "\n",
    "Date: 2021-10-10"
   ]
  },
  {
   "cell_type": "markdown",
   "metadata": {},
   "source": [
    "## Load packages"
   ]
  },
  {
   "cell_type": "code",
   "execution_count": 1,
   "metadata": {
    "jupyter": {
     "outputs_hidden": false
    },
    "pycharm": {
     "name": "#%%\n"
    }
   },
   "outputs": [],
   "source": [
    "import pandas as pd\n",
    "from igraph import * # install igraph in anaconda: https://anaconda.org/conda-forge/python-igraph\n",
    "import cairo # install cairo and pychairo in anaconda: https://anaconda.org/anaconda/cairo; https://anaconda.org/anaconda/pycairo\n",
    "import numpy as np\n",
    "# import numpy.random as random\n",
    "import math\n",
    "from matplotlib import pyplot as plt\n",
    "# from scipy.stats import bernoulli\n",
    "# from statistics import stdev\n",
    "# import scipy.stats"
   ]
  },
  {
   "cell_type": "markdown",
   "metadata": {},
   "source": [
    "## Load data"
   ]
  },
  {
   "cell_type": "markdown",
   "metadata": {},
   "source": [
    "We will use the following dataset of a biased ciation network:\n",
    "\n",
    "de Vries, Ymkje Anna, & Munafò, M. (2016). [Dataset] Citation bias and selective focus on positive findings in the literature on 5-HTTLPR, life stress, and depression. University of Bristol. Retrieved January 28, 2021, http://doi.org/10.5523/BRIS.Z7JCONXFBMDR1JJ3T0W4K1HWN"
   ]
  },
  {
   "cell_type": "code",
   "execution_count": 2,
   "metadata": {
    "jupyter": {
     "outputs_hidden": false
    },
    "pycharm": {
     "name": "#%%\n"
    }
   },
   "outputs": [],
   "source": [
    "# load the adjacency matrix\n",
    "matrix = pd.read_csv('HTTLPR.csv')\n",
    "matrix = matrix.iloc[:, 6:]"
   ]
  },
  {
   "cell_type": "code",
   "execution_count": 3,
   "metadata": {
    "jupyter": {
     "outputs_hidden": false
    },
    "pycharm": {
     "name": "#%%\n"
    }
   },
   "outputs": [],
   "source": [
    "# load the attribute list\n",
    "# easy for this file because the first 6 columns are in fact attribute list\n",
    "attr_list = pd.read_csv('HTTLPR.csv', usecols=[0, 1, 2, 3, 4, 5])\n",
    "attr_list['PaperID'] = attr_list.index"
   ]
  },
  {
   "cell_type": "markdown",
   "metadata": {},
   "source": [
    "## Create a graph object g from the citation network data"
   ]
  },
  {
   "cell_type": "code",
   "execution_count": 4,
   "metadata": {
    "jupyter": {
     "outputs_hidden": false
    },
    "pycharm": {
     "name": "#%%\n"
    }
   },
   "outputs": [],
   "source": [
    "# initialize the graph object\n",
    "g = Graph(directed=True)\n",
    "g.add_vertices(73)\n",
    "\n",
    "# add attributes to the graph: study name: name; study outcome: outcome; YearOnline: year\n",
    "# study = attr_list['Study'].to_list()\n",
    "# outcome = attr_list['Outcome'].to_list()\n",
    "g.vs['name'] = attr_list['Study']\n",
    "g.vs[\"label\"] = g.vs[\"name\"]\n",
    "g.vs['outcome'] = attr_list['Outcome']\n",
    "g.vs['Year'] = attr_list['YearOnline']\n",
    "g.vs['color'] = 'light blue'\n",
    "\n",
    "# add edges from the adjacency matrix\n",
    "edge_list = []\n",
    "for i in range(0, matrix.shape[0]):\n",
    "    for j in range(0, matrix.shape[1]):\n",
    "        if isinstance(matrix.iloc[i, j], str):\n",
    "            s = matrix.iloc[i, j]\n",
    "            if s.replace(\" \", \"\") == \"X\":\n",
    "                edge_list.append((i, j))\n",
    "                g.add_edge(source=i, target=j)"
   ]
  },
  {
   "cell_type": "code",
   "execution_count": 5,
   "metadata": {
    "jupyter": {
     "outputs_hidden": false
    },
    "pycharm": {
     "name": "#%%\n"
    }
   },
   "outputs": [
    {
     "data": {
      "text/plain": [
       "488"
      ]
     },
     "execution_count": 5,
     "metadata": {},
     "output_type": "execute_result"
    }
   ],
   "source": [
    "# total number of edges\n",
    "len(g.es)"
   ]
  },
  {
   "cell_type": "code",
   "execution_count": 6,
   "metadata": {
    "jupyter": {
     "outputs_hidden": false
    },
    "pycharm": {
     "name": "#%%\n"
    }
   },
   "outputs": [],
   "source": [
    "df_new = pd.DataFrame({'name': g.vs['name'], 'real_citation_count': g.degree(mode='in')})"
   ]
  },
  {
   "cell_type": "markdown",
   "metadata": {},
   "source": [
    "## Create a \"potential graph\""
   ]
  },
  {
   "cell_type": "markdown",
   "metadata": {},
   "source": [
    "Create a \"potential graph\" (g_full) for the 5-HTTLPR in which all \"potential citation paths\" (Urlings et al., 2021) are connected . In our definition, a \"potential citation path\" exists between two publication if one paper is published one year or more earlier than another paper."
   ]
  },
  {
   "cell_type": "code",
   "execution_count": 7,
   "metadata": {
    "jupyter": {
     "outputs_hidden": false
    },
    "pycharm": {
     "name": "#%%\n"
    }
   },
   "outputs": [],
   "source": [
    "# potential graph\n",
    "year_gap = 1\n",
    "\n",
    "g_full = Graph(directed=True)\n",
    "g_full.add_vertices(73)\n",
    "g_full.vs['name'] = attr_list['Study']\n",
    "g_full.vs[\"label\"] = g_full.vs[\"name\"]\n",
    "g_full.vs['outcome'] = attr_list['Outcome']\n",
    "g_full.vs['Year'] = attr_list['YearOnline']\n",
    "\n",
    "full_edge_list=[]\n",
    "\n",
    "for i in g_full.vs.indices:\n",
    "    for j in g_full.vs.indices:\n",
    "        if i>j and (g.vs[i]['Year']-g.vs[j]['Year']>=year_gap):\n",
    "            full_edge_list.append((i,j))\n",
    "            g_full.add_edge(source=i,target=j)"
   ]
  },
  {
   "cell_type": "code",
   "execution_count": 8,
   "metadata": {
    "jupyter": {
     "outputs_hidden": false
    },
    "pycharm": {
     "name": "#%%\n"
    }
   },
   "outputs": [
    {
     "data": {
      "text/plain": [
       "2348"
      ]
     },
     "execution_count": 8,
     "metadata": {},
     "output_type": "execute_result"
    }
   ],
   "source": [
    "# number of edges in g_full\n",
    "len(g_full.es)"
   ]
  },
  {
   "cell_type": "markdown",
   "metadata": {},
   "source": [
    "## Compute p(y)"
   ]
  },
  {
   "cell_type": "markdown",
   "metadata": {},
   "source": [
    "Each paper in this dataset faces a pool of papers to choose from to cite (\"potential references\"). Under our definition, such a pool consists of papers published one year or more earlier than the citing paper. In the real world, the authors may be biased (i.e., they select a non-representative sample from the pool to cite). In this simulation, we will try to remove such a bias. We will compute p(y), number of performed citations divided by the total number of potential citations between papers published in year y and their pool of potential references. Using a Bernoulli random number generator, we will distribute the chance evenly among all potential references (i.e., each paper will enjoy an equal chance of p(y) to be cited)."
   ]
  },
  {
   "cell_type": "code",
   "execution_count": 9,
   "metadata": {
    "jupyter": {
     "outputs_hidden": false
    },
    "pycharm": {
     "name": "#%%\n"
    }
   },
   "outputs": [
    {
     "data": {
      "text/plain": [
       "array([2001, 2003, 2004, 2005, 2006, 2007, 2008, 2009, 2010, 2011, 2012],\n",
       "      dtype=int64)"
      ]
     },
     "execution_count": 9,
     "metadata": {},
     "output_type": "execute_result"
    }
   ],
   "source": [
    "generations = pd.unique(g.vs['Year'])\n",
    "generations"
   ]
  },
  {
   "cell_type": "code",
   "execution_count": 10,
   "metadata": {
    "jupyter": {
     "outputs_hidden": false
    },
    "pycharm": {
     "name": "#%%\n"
    }
   },
   "outputs": [
    {
     "data": {
      "text/plain": [
       "[0, 0, 4, 13, 38, 81, 52, 81, 85, 91, 43]"
      ]
     },
     "execution_count": 10,
     "metadata": {},
     "output_type": "execute_result"
    }
   ],
   "source": [
    "performed_citation = [len(g.es.select(_source_in=g.vs.select(Year=year))) for year in generations]\n",
    "performed_citation"
   ]
  },
  {
   "cell_type": "code",
   "execution_count": 11,
   "metadata": {
    "jupyter": {
     "outputs_hidden": false
    },
    "pycharm": {
     "name": "#%%\n"
    }
   },
   "outputs": [
    {
     "data": {
      "text/plain": [
       "[0, 1, 8, 24, 80, 198, 232, 407, 336, 660, 402]"
      ]
     },
     "execution_count": 11,
     "metadata": {},
     "output_type": "execute_result"
    }
   ],
   "source": [
    "potential_citation = [len(g_full.es.select(_source_in=g.vs.select(Year=year))) for year in generations]\n",
    "potential_citation"
   ]
  },
  {
   "cell_type": "markdown",
   "metadata": {},
   "source": [
    "### The first generation (2001) has no performed citation and no potential citation. Replace p(y) with NaN"
   ]
  },
  {
   "cell_type": "code",
   "execution_count": 12,
   "metadata": {
    "jupyter": {
     "outputs_hidden": false
    },
    "pycharm": {
     "name": "#%%\n"
    }
   },
   "outputs": [],
   "source": [
    "p_y = [i/j for i, j in zip(performed_citation[1:], potential_citation[1:])]\n",
    "p_y = [None] + p_y"
   ]
  },
  {
   "cell_type": "markdown",
   "metadata": {},
   "source": [
    "**NOTE**: p(y) first increases and then decreases over the years."
   ]
  },
  {
   "cell_type": "markdown",
   "metadata": {},
   "source": [
    "## Use p(y) to simulate unbiased networks"
   ]
  },
  {
   "cell_type": "code",
   "execution_count": 13,
   "metadata": {
    "jupyter": {
     "outputs_hidden": false
    },
    "pycharm": {
     "name": "#%%\n"
    }
   },
   "outputs": [],
   "source": [
    "prob = pd.DataFrame({'year': generations,\n",
    "                    'performed_citation': performed_citation,\n",
    "                    'potential_citation': potential_citation,\n",
    "                    'p(y)': p_y})"
   ]
  },
  {
   "cell_type": "code",
   "execution_count": 14,
   "metadata": {
    "pycharm": {
     "name": "#%%\n"
    }
   },
   "outputs": [],
   "source": [
    "pool = pd.DataFrame({'year': generations,'number of publications in each year':attr_list['YearOnline'].value_counts(sort=False),\n",
    "                    'number of publications before the year':0})\n",
    "pool['number of publications before the year']=pool['number of publications in each year'].cumsum()-pool['number of publications in each year']\n",
    "pool.index = range(prob.shape[0])"
   ]
  },
  {
   "cell_type": "code",
   "execution_count": 15,
   "metadata": {
    "jupyter": {
     "outputs_hidden": false
    },
    "pycharm": {
     "name": "#%%\n"
    }
   },
   "outputs": [
    {
     "data": {
      "text/html": [
       "<div>\n",
       "<style scoped>\n",
       "    .dataframe tbody tr th:only-of-type {\n",
       "        vertical-align: middle;\n",
       "    }\n",
       "\n",
       "    .dataframe tbody tr th {\n",
       "        vertical-align: top;\n",
       "    }\n",
       "\n",
       "    .dataframe thead th {\n",
       "        text-align: right;\n",
       "    }\n",
       "</style>\n",
       "<table border=\"1\" class=\"dataframe\">\n",
       "  <thead>\n",
       "    <tr style=\"text-align: right;\">\n",
       "      <th></th>\n",
       "      <th>expected number of publications</th>\n",
       "    </tr>\n",
       "  </thead>\n",
       "  <tbody>\n",
       "    <tr>\n",
       "      <th>1</th>\n",
       "      <td>0.000000</td>\n",
       "    </tr>\n",
       "    <tr>\n",
       "      <th>2</th>\n",
       "      <td>2.000000</td>\n",
       "    </tr>\n",
       "    <tr>\n",
       "      <th>3</th>\n",
       "      <td>2.166667</td>\n",
       "    </tr>\n",
       "    <tr>\n",
       "      <th>4</th>\n",
       "      <td>3.800000</td>\n",
       "    </tr>\n",
       "    <tr>\n",
       "      <th>5</th>\n",
       "      <td>4.500000</td>\n",
       "    </tr>\n",
       "    <tr>\n",
       "      <th>6</th>\n",
       "      <td>1.793103</td>\n",
       "    </tr>\n",
       "    <tr>\n",
       "      <th>7</th>\n",
       "      <td>2.189189</td>\n",
       "    </tr>\n",
       "    <tr>\n",
       "      <th>8</th>\n",
       "      <td>1.770833</td>\n",
       "    </tr>\n",
       "    <tr>\n",
       "      <th>9</th>\n",
       "      <td>1.654545</td>\n",
       "    </tr>\n",
       "    <tr>\n",
       "      <th>10</th>\n",
       "      <td>0.641791</td>\n",
       "    </tr>\n",
       "  </tbody>\n",
       "</table>\n",
       "</div>"
      ],
      "text/plain": [
       "    expected number of publications\n",
       "1                          0.000000\n",
       "2                          2.000000\n",
       "3                          2.166667\n",
       "4                          3.800000\n",
       "5                          4.500000\n",
       "6                          1.793103\n",
       "7                          2.189189\n",
       "8                          1.770833\n",
       "9                          1.654545\n",
       "10                         0.641791"
      ]
     },
     "execution_count": 15,
     "metadata": {},
     "output_type": "execute_result"
    }
   ],
   "source": [
    "expected = prob['p(y)'] * pool['number of publications in each year']\n",
    "expected = expected.to_frame('expected number of publications')\n",
    "expected.drop(0)"
   ]
  },
  {
   "cell_type": "code",
   "execution_count": 16,
   "metadata": {
    "jupyter": {
     "outputs_hidden": false
    },
    "pycharm": {
     "name": "#%%\n"
    }
   },
   "outputs": [],
   "source": [
    "expected_indegree = expected[::-1]['expected number of publications'].cumsum().to_list()\n",
    "expected_indegree = expected_indegree[::-1]\n",
    "expected_indegree = expected_indegree[1:]"
   ]
  },
  {
   "cell_type": "code",
   "execution_count": 17,
   "metadata": {
    "jupyter": {
     "outputs_hidden": false
    },
    "pycharm": {
     "name": "#%%\n"
    }
   },
   "outputs": [],
   "source": [
    "a = []\n",
    "for i in range(expected.shape[0]-1):\n",
    "    a.extend([expected_indegree[i]]*int(pool.iloc[i,]['number of publications in each year']))\n",
    "\n",
    "a.extend([0]*pool.iloc[-1,1]) # extend the last generations, expected citations were zero"
   ]
  },
  {
   "cell_type": "code",
   "execution_count": 18,
   "metadata": {
    "jupyter": {
     "outputs_hidden": false
    },
    "pycharm": {
     "name": "#%%\n"
    }
   },
   "outputs": [],
   "source": [
    "df_new['expected_citation_count'] = [round(elem,3) for elem in a]"
   ]
  },
  {
   "cell_type": "code",
   "execution_count": 19,
   "metadata": {},
   "outputs": [],
   "source": [
    "df_new['year'] = g.vs['Year']"
   ]
  },
  {
   "cell_type": "code",
   "execution_count": 20,
   "metadata": {},
   "outputs": [],
   "source": [
    "df_new.loc[df_new['expected_citation_count'] != 0,'ratio'] = df_new.loc[df_new['expected_citation_count'] != 0,'real_citation_count']/df_new.loc[df_new['expected_citation_count'] != 0,'expected_citation_count']\n",
    "df_new['ratio'] = round(df_new['ratio'],3)"
   ]
  },
  {
   "cell_type": "code",
   "execution_count": 21,
   "metadata": {},
   "outputs": [],
   "source": [
    "ratio_max = df_new['ratio'].max()"
   ]
  },
  {
   "cell_type": "code",
   "execution_count": 22,
   "metadata": {},
   "outputs": [],
   "source": [
    "if ratio_max - math.floor(ratio_max)>0.5:\n",
    "    x_max = math.floor(ratio_max)+1\n",
    "else:\n",
    "    x_max = math.floor(ratio_max) + 0.5\n",
    "\n",
    "bins = list(np.arange(0,(x_max+0.5),0.5))"
   ]
  },
  {
   "cell_type": "code",
   "execution_count": 23,
   "metadata": {
    "jupyter": {
     "outputs_hidden": false
    },
    "pycharm": {
     "name": "#%%\n"
    }
   },
   "outputs": [
    {
     "data": {
      "image/png": "[encoded data removed]",
      "text/plain": [
       "<Figure size 432x288 with 1 Axes>"
      ]
     },
     "metadata": {
      "needs_background": "light"
     },
     "output_type": "display_data"
    }
   ],
   "source": [
    "plt.hist(df_new['ratio'], bins=bins,color='blue', edgecolor='blue', linewidth=1, hatch=\"//\",\n",
    "         histtype='bar', alpha=0.5)\n",
    "plt.xlabel('Ratio between Real and Theoretical Citations',fontsize=14)\n",
    "plt.ylabel('Count',fontsize=14)\n",
    "plt.show()"
   ]
  },
  {
   "cell_type": "markdown",
   "metadata": {},
   "source": [
    "## Bottom 10 \"marginalized papers\" with non-zero ratio between real and expected citations"
   ]
  },
  {
   "cell_type": "code",
   "execution_count": 24,
   "metadata": {
    "jupyter": {
     "outputs_hidden": false
    },
    "pycharm": {
     "name": "#%%\n"
    }
   },
   "outputs": [
    {
     "data": {
      "text/html": [
       "<div>\n",
       "<style scoped>\n",
       "    .dataframe tbody tr th:only-of-type {\n",
       "        vertical-align: middle;\n",
       "    }\n",
       "\n",
       "    .dataframe tbody tr th {\n",
       "        vertical-align: top;\n",
       "    }\n",
       "\n",
       "    .dataframe thead th {\n",
       "        text-align: right;\n",
       "    }\n",
       "</style>\n",
       "<table border=\"1\" class=\"dataframe\">\n",
       "  <thead>\n",
       "    <tr style=\"text-align: right;\">\n",
       "      <th></th>\n",
       "      <th>name</th>\n",
       "      <th>real_citation_count</th>\n",
       "      <th>expected_citation_count</th>\n",
       "      <th>year</th>\n",
       "      <th>ratio</th>\n",
       "    </tr>\n",
       "  </thead>\n",
       "  <tbody>\n",
       "    <tr>\n",
       "      <th>18</th>\n",
       "      <td>Dick</td>\n",
       "      <td>1</td>\n",
       "      <td>8.049</td>\n",
       "      <td>2007</td>\n",
       "      <td>0.124</td>\n",
       "    </tr>\n",
       "    <tr>\n",
       "      <th>19</th>\n",
       "      <td>Kraus</td>\n",
       "      <td>1</td>\n",
       "      <td>8.049</td>\n",
       "      <td>2007</td>\n",
       "      <td>0.124</td>\n",
       "    </tr>\n",
       "    <tr>\n",
       "      <th>32</th>\n",
       "      <td>Lotrich</td>\n",
       "      <td>1</td>\n",
       "      <td>6.256</td>\n",
       "      <td>2008</td>\n",
       "      <td>0.160</td>\n",
       "    </tr>\n",
       "    <tr>\n",
       "      <th>0</th>\n",
       "      <td>Mossner</td>\n",
       "      <td>5</td>\n",
       "      <td>20.516</td>\n",
       "      <td>2001</td>\n",
       "      <td>0.244</td>\n",
       "    </tr>\n",
       "    <tr>\n",
       "      <th>40</th>\n",
       "      <td>Kim_b</td>\n",
       "      <td>1</td>\n",
       "      <td>4.067</td>\n",
       "      <td>2009</td>\n",
       "      <td>0.246</td>\n",
       "    </tr>\n",
       "    <tr>\n",
       "      <th>46</th>\n",
       "      <td>Coventry</td>\n",
       "      <td>1</td>\n",
       "      <td>4.067</td>\n",
       "      <td>2009</td>\n",
       "      <td>0.246</td>\n",
       "    </tr>\n",
       "    <tr>\n",
       "      <th>45</th>\n",
       "      <td>Gibb</td>\n",
       "      <td>1</td>\n",
       "      <td>4.067</td>\n",
       "      <td>2009</td>\n",
       "      <td>0.246</td>\n",
       "    </tr>\n",
       "    <tr>\n",
       "      <th>28</th>\n",
       "      <td>Kilpatrick</td>\n",
       "      <td>2</td>\n",
       "      <td>8.049</td>\n",
       "      <td>2007</td>\n",
       "      <td>0.248</td>\n",
       "    </tr>\n",
       "    <tr>\n",
       "      <th>35</th>\n",
       "      <td>PhillipsBute</td>\n",
       "      <td>2</td>\n",
       "      <td>6.256</td>\n",
       "      <td>2008</td>\n",
       "      <td>0.320</td>\n",
       "    </tr>\n",
       "    <tr>\n",
       "      <th>29</th>\n",
       "      <td>Bull</td>\n",
       "      <td>2</td>\n",
       "      <td>6.256</td>\n",
       "      <td>2008</td>\n",
       "      <td>0.320</td>\n",
       "    </tr>\n",
       "  </tbody>\n",
       "</table>\n",
       "</div>"
      ],
      "text/plain": [
       "            name  real_citation_count  expected_citation_count  year  ratio\n",
       "18          Dick                    1                    8.049  2007  0.124\n",
       "19         Kraus                    1                    8.049  2007  0.124\n",
       "32       Lotrich                    1                    6.256  2008  0.160\n",
       "0        Mossner                    5                   20.516  2001  0.244\n",
       "40         Kim_b                    1                    4.067  2009  0.246\n",
       "46      Coventry                    1                    4.067  2009  0.246\n",
       "45          Gibb                    1                    4.067  2009  0.246\n",
       "28    Kilpatrick                    2                    8.049  2007  0.248\n",
       "35  PhillipsBute                    2                    6.256  2008  0.320\n",
       "29          Bull                    2                    6.256  2008  0.320"
      ]
     },
     "execution_count": 24,
     "metadata": {},
     "output_type": "execute_result"
    }
   ],
   "source": [
    "df_new.loc[df_new['ratio'] !=0].sort_values(by='ratio').head(10)"
   ]
  },
  {
   "cell_type": "markdown",
   "metadata": {},
   "source": [
    "## Old method (Fu, Yuan, and Schneider, 2021)"
   ]
  },
  {
   "cell_type": "code",
   "execution_count": 25,
   "metadata": {},
   "outputs": [],
   "source": [
    "df_old = pd.DataFrame({'name': g.vs['name'], 'real_citation_count': g.degree(mode='in'),'expected_citation_count': g_full.degree(mode='in')})\n",
    "df_old['year'] = g.vs['Year']"
   ]
  },
  {
   "cell_type": "code",
   "execution_count": 26,
   "metadata": {},
   "outputs": [],
   "source": [
    "df_old.loc[df_old['expected_citation_count'] != 0,'ratio'] = df_old.loc[df_old['expected_citation_count'] != 0,'real_citation_count']/df_old.loc[df_old['expected_citation_count'] != 0,'expected_citation_count']\n",
    "df_old['ratio'] = round(df_old['ratio'],3)"
   ]
  },
  {
   "cell_type": "markdown",
   "metadata": {},
   "source": [
    "## Bottom 10 \"marginalized papers\" with non-zero ratio between real and expected citations"
   ]
  },
  {
   "cell_type": "code",
   "execution_count": 27,
   "metadata": {},
   "outputs": [
    {
     "data": {
      "text/html": [
       "<div>\n",
       "<style scoped>\n",
       "    .dataframe tbody tr th:only-of-type {\n",
       "        vertical-align: middle;\n",
       "    }\n",
       "\n",
       "    .dataframe tbody tr th {\n",
       "        vertical-align: top;\n",
       "    }\n",
       "\n",
       "    .dataframe thead th {\n",
       "        text-align: right;\n",
       "    }\n",
       "</style>\n",
       "<table border=\"1\" class=\"dataframe\">\n",
       "  <thead>\n",
       "    <tr style=\"text-align: right;\">\n",
       "      <th></th>\n",
       "      <th>name</th>\n",
       "      <th>real_citation_count</th>\n",
       "      <th>expected_citation_count</th>\n",
       "      <th>year</th>\n",
       "      <th>ratio</th>\n",
       "    </tr>\n",
       "  </thead>\n",
       "  <tbody>\n",
       "    <tr>\n",
       "      <th>19</th>\n",
       "      <td>Kraus</td>\n",
       "      <td>1</td>\n",
       "      <td>44</td>\n",
       "      <td>2007</td>\n",
       "      <td>0.023</td>\n",
       "    </tr>\n",
       "    <tr>\n",
       "      <th>18</th>\n",
       "      <td>Dick</td>\n",
       "      <td>1</td>\n",
       "      <td>44</td>\n",
       "      <td>2007</td>\n",
       "      <td>0.023</td>\n",
       "    </tr>\n",
       "    <tr>\n",
       "      <th>32</th>\n",
       "      <td>Lotrich</td>\n",
       "      <td>1</td>\n",
       "      <td>36</td>\n",
       "      <td>2008</td>\n",
       "      <td>0.028</td>\n",
       "    </tr>\n",
       "    <tr>\n",
       "      <th>46</th>\n",
       "      <td>Coventry</td>\n",
       "      <td>1</td>\n",
       "      <td>25</td>\n",
       "      <td>2009</td>\n",
       "      <td>0.040</td>\n",
       "    </tr>\n",
       "    <tr>\n",
       "      <th>45</th>\n",
       "      <td>Gibb</td>\n",
       "      <td>1</td>\n",
       "      <td>25</td>\n",
       "      <td>2009</td>\n",
       "      <td>0.040</td>\n",
       "    </tr>\n",
       "    <tr>\n",
       "      <th>40</th>\n",
       "      <td>Kim_b</td>\n",
       "      <td>1</td>\n",
       "      <td>25</td>\n",
       "      <td>2009</td>\n",
       "      <td>0.040</td>\n",
       "    </tr>\n",
       "    <tr>\n",
       "      <th>28</th>\n",
       "      <td>Kilpatrick</td>\n",
       "      <td>2</td>\n",
       "      <td>44</td>\n",
       "      <td>2007</td>\n",
       "      <td>0.045</td>\n",
       "    </tr>\n",
       "    <tr>\n",
       "      <th>53</th>\n",
       "      <td>Sugden</td>\n",
       "      <td>1</td>\n",
       "      <td>18</td>\n",
       "      <td>2010</td>\n",
       "      <td>0.056</td>\n",
       "    </tr>\n",
       "    <tr>\n",
       "      <th>35</th>\n",
       "      <td>PhillipsBute</td>\n",
       "      <td>2</td>\n",
       "      <td>36</td>\n",
       "      <td>2008</td>\n",
       "      <td>0.056</td>\n",
       "    </tr>\n",
       "    <tr>\n",
       "      <th>29</th>\n",
       "      <td>Bull</td>\n",
       "      <td>2</td>\n",
       "      <td>36</td>\n",
       "      <td>2008</td>\n",
       "      <td>0.056</td>\n",
       "    </tr>\n",
       "  </tbody>\n",
       "</table>\n",
       "</div>"
      ],
      "text/plain": [
       "            name  real_citation_count  expected_citation_count  year  ratio\n",
       "19         Kraus                    1                       44  2007  0.023\n",
       "18          Dick                    1                       44  2007  0.023\n",
       "32       Lotrich                    1                       36  2008  0.028\n",
       "46      Coventry                    1                       25  2009  0.040\n",
       "45          Gibb                    1                       25  2009  0.040\n",
       "40         Kim_b                    1                       25  2009  0.040\n",
       "28    Kilpatrick                    2                       44  2007  0.045\n",
       "53        Sugden                    1                       18  2010  0.056\n",
       "35  PhillipsBute                    2                       36  2008  0.056\n",
       "29          Bull                    2                       36  2008  0.056"
      ]
     },
     "execution_count": 27,
     "metadata": {},
     "output_type": "execute_result"
    }
   ],
   "source": [
    "df_old.loc[df_old['ratio'] !=0].sort_values(by='ratio').head(10)"
   ]
  },
  {
   "cell_type": "markdown",
   "metadata": {},
   "source": [
    "## Further Investigation of Ranking Robustness"
   ]
  },
  {
   "cell_type": "code",
   "execution_count": 28,
   "metadata": {},
   "outputs": [],
   "source": [
    "df_old_temp = df_old.loc[(df_old['ratio'] !=0) & (df_old['expected_citation_count'] !=0), ['name','year','real_citation_count','ratio']]\n",
    "df_new_temp = df_new.loc[(df_new['ratio'] !=0) & (df_new['expected_citation_count'] !=0), ['name','ratio']]"
   ]
  },
  {
   "cell_type": "code",
   "execution_count": 29,
   "metadata": {},
   "outputs": [],
   "source": [
    "df_full = df_old_temp.merge(df_new_temp, how='outer', on='name',suffixes = ('_old','_new'))\n",
    "df_full['rank_pure_citation'] = df_full['real_citation_count'].rank(method='average')\n",
    "df_full['rank_old'] = df_full['ratio_old'].rank(method='average')\n",
    "df_full['rank_new'] = df_full['ratio_new'].rank(method='average')\n",
    "# update name label to include year\n",
    "df_full['name'] = [x + '_' + str(y) for x, y in zip(df_full['name'], df_full['year'])]\n",
    "rank_old = df_full['ratio_old']\n",
    "rank_new = df_full['ratio_new']"
   ]
  },
  {
   "cell_type": "code",
   "execution_count": 30,
   "metadata": {},
   "outputs": [
    {
     "data": {
      "text/html": [
       "<div>\n",
       "<style scoped>\n",
       "    .dataframe tbody tr th:only-of-type {\n",
       "        vertical-align: middle;\n",
       "    }\n",
       "\n",
       "    .dataframe tbody tr th {\n",
       "        vertical-align: top;\n",
       "    }\n",
       "\n",
       "    .dataframe thead th {\n",
       "        text-align: right;\n",
       "    }\n",
       "</style>\n",
       "<table border=\"1\" class=\"dataframe\">\n",
       "  <thead>\n",
       "    <tr style=\"text-align: right;\">\n",
       "      <th></th>\n",
       "      <th>name</th>\n",
       "      <th>year</th>\n",
       "      <th>real_citation_count</th>\n",
       "      <th>ratio_old</th>\n",
       "      <th>ratio_new</th>\n",
       "      <th>rank_pure_citation</th>\n",
       "      <th>rank_old</th>\n",
       "      <th>rank_new</th>\n",
       "      <th>rank_change</th>\n",
       "    </tr>\n",
       "  </thead>\n",
       "  <tbody>\n",
       "    <tr>\n",
       "      <th>0</th>\n",
       "      <td>Mossner_2001</td>\n",
       "      <td>2001</td>\n",
       "      <td>5</td>\n",
       "      <td>0.069</td>\n",
       "      <td>0.244</td>\n",
       "      <td>28.0</td>\n",
       "      <td>11.0</td>\n",
       "      <td>4.0</td>\n",
       "      <td>7.0</td>\n",
       "    </tr>\n",
       "    <tr>\n",
       "      <th>1</th>\n",
       "      <td>Caspi_2003</td>\n",
       "      <td>2003</td>\n",
       "      <td>65</td>\n",
       "      <td>0.915</td>\n",
       "      <td>3.168</td>\n",
       "      <td>53.0</td>\n",
       "      <td>53.0</td>\n",
       "      <td>53.0</td>\n",
       "      <td>0.0</td>\n",
       "    </tr>\n",
       "    <tr>\n",
       "      <th>2</th>\n",
       "      <td>Eley_2004</td>\n",
       "      <td>2004</td>\n",
       "      <td>37</td>\n",
       "      <td>0.552</td>\n",
       "      <td>1.998</td>\n",
       "      <td>52.0</td>\n",
       "      <td>52.0</td>\n",
       "      <td>51.0</td>\n",
       "      <td>1.0</td>\n",
       "    </tr>\n",
       "    <tr>\n",
       "      <th>3</th>\n",
       "      <td>Grabe_a_2004</td>\n",
       "      <td>2004</td>\n",
       "      <td>21</td>\n",
       "      <td>0.313</td>\n",
       "      <td>1.134</td>\n",
       "      <td>47.0</td>\n",
       "      <td>45.0</td>\n",
       "      <td>35.0</td>\n",
       "      <td>10.0</td>\n",
       "    </tr>\n",
       "    <tr>\n",
       "      <th>4</th>\n",
       "      <td>Kaufman_a_2004</td>\n",
       "      <td>2004</td>\n",
       "      <td>27</td>\n",
       "      <td>0.403</td>\n",
       "      <td>1.458</td>\n",
       "      <td>49.0</td>\n",
       "      <td>49.0</td>\n",
       "      <td>39.0</td>\n",
       "      <td>10.0</td>\n",
       "    </tr>\n",
       "  </tbody>\n",
       "</table>\n",
       "</div>"
      ],
      "text/plain": [
       "             name  year  real_citation_count  ratio_old  ratio_new  \\\n",
       "0    Mossner_2001  2001                    5      0.069      0.244   \n",
       "1      Caspi_2003  2003                   65      0.915      3.168   \n",
       "2       Eley_2004  2004                   37      0.552      1.998   \n",
       "3    Grabe_a_2004  2004                   21      0.313      1.134   \n",
       "4  Kaufman_a_2004  2004                   27      0.403      1.458   \n",
       "\n",
       "   rank_pure_citation  rank_old  rank_new  rank_change  \n",
       "0                28.0      11.0       4.0          7.0  \n",
       "1                53.0      53.0      53.0          0.0  \n",
       "2                52.0      52.0      51.0          1.0  \n",
       "3                47.0      45.0      35.0         10.0  \n",
       "4                49.0      49.0      39.0         10.0  "
      ]
     },
     "execution_count": 30,
     "metadata": {},
     "output_type": "execute_result"
    }
   ],
   "source": [
    "df_full['rank_change'] = df_full['rank_old'] - df_full['rank_new']\n",
    "df_full.head(5)"
   ]
  },
  {
   "cell_type": "code",
   "execution_count": 31,
   "metadata": {},
   "outputs": [
    {
     "data": {
      "text/html": [
       "<table class=\"simpletable\">\n",
       "<caption>OLS Regression Results</caption>\n",
       "<tr>\n",
       "  <th>Dep. Variable:</th>       <td>rank_change</td>   <th>  R-squared:         </th> <td>   0.575</td>\n",
       "</tr>\n",
       "<tr>\n",
       "  <th>Model:</th>                   <td>OLS</td>       <th>  Adj. R-squared:    </th> <td>   0.567</td>\n",
       "</tr>\n",
       "<tr>\n",
       "  <th>Method:</th>             <td>Least Squares</td>  <th>  F-statistic:       </th> <td>   69.07</td>\n",
       "</tr>\n",
       "<tr>\n",
       "  <th>Date:</th>             <td>Tue, 02 Nov 2021</td> <th>  Prob (F-statistic):</th> <td>4.76e-11</td>\n",
       "</tr>\n",
       "<tr>\n",
       "  <th>Time:</th>                 <td>20:10:02</td>     <th>  Log-Likelihood:    </th> <td> -141.33</td>\n",
       "</tr>\n",
       "<tr>\n",
       "  <th>No. Observations:</th>      <td>    53</td>      <th>  AIC:               </th> <td>   286.7</td>\n",
       "</tr>\n",
       "<tr>\n",
       "  <th>Df Residuals:</th>          <td>    51</td>      <th>  BIC:               </th> <td>   290.6</td>\n",
       "</tr>\n",
       "<tr>\n",
       "  <th>Df Model:</th>              <td>     1</td>      <th>                     </th>     <td> </td>   \n",
       "</tr>\n",
       "<tr>\n",
       "  <th>Covariance Type:</th>      <td>nonrobust</td>    <th>                     </th>     <td> </td>   \n",
       "</tr>\n",
       "</table>\n",
       "<table class=\"simpletable\">\n",
       "<tr>\n",
       "      <td></td>         <th>coef</th>     <th>std err</th>      <th>t</th>      <th>P>|t|</th>  <th>[0.025</th>    <th>0.975]</th>  \n",
       "</tr>\n",
       "<tr>\n",
       "  <th>Intercept</th> <td> 3773.2691</td> <td>  454.018</td> <td>    8.311</td> <td> 0.000</td> <td> 2861.790</td> <td> 4684.748</td>\n",
       "</tr>\n",
       "<tr>\n",
       "  <th>year</th>      <td>   -1.8798</td> <td>    0.226</td> <td>   -8.311</td> <td> 0.000</td> <td>   -2.334</td> <td>   -1.426</td>\n",
       "</tr>\n",
       "</table>\n",
       "<table class=\"simpletable\">\n",
       "<tr>\n",
       "  <th>Omnibus:</th>       <td> 5.886</td> <th>  Durbin-Watson:     </th> <td>   1.091</td>\n",
       "</tr>\n",
       "<tr>\n",
       "  <th>Prob(Omnibus):</th> <td> 0.053</td> <th>  Jarque-Bera (JB):  </th> <td>   3.008</td>\n",
       "</tr>\n",
       "<tr>\n",
       "  <th>Skew:</th>          <td>-0.339</td> <th>  Prob(JB):          </th> <td>   0.222</td>\n",
       "</tr>\n",
       "<tr>\n",
       "  <th>Kurtosis:</th>      <td> 2.051</td> <th>  Cond. No.          </th> <td>1.87e+06</td>\n",
       "</tr>\n",
       "</table><br/><br/>Notes:<br/>[1] Standard Errors assume that the covariance matrix of the errors is correctly specified.<br/>[2] The condition number is large, 1.87e+06. This might indicate that there are<br/>strong multicollinearity or other numerical problems."
      ],
      "text/plain": [
       "<class 'statsmodels.iolib.summary.Summary'>\n",
       "\"\"\"\n",
       "                            OLS Regression Results                            \n",
       "==============================================================================\n",
       "Dep. Variable:            rank_change   R-squared:                       0.575\n",
       "Model:                            OLS   Adj. R-squared:                  0.567\n",
       "Method:                 Least Squares   F-statistic:                     69.07\n",
       "Date:                Tue, 02 Nov 2021   Prob (F-statistic):           4.76e-11\n",
       "Time:                        20:10:02   Log-Likelihood:                -141.33\n",
       "No. Observations:                  53   AIC:                             286.7\n",
       "Df Residuals:                      51   BIC:                             290.6\n",
       "Df Model:                           1                                         \n",
       "Covariance Type:            nonrobust                                         \n",
       "==============================================================================\n",
       "                 coef    std err          t      P>|t|      [0.025      0.975]\n",
       "------------------------------------------------------------------------------\n",
       "Intercept   3773.2691    454.018      8.311      0.000    2861.790    4684.748\n",
       "year          -1.8798      0.226     -8.311      0.000      -2.334      -1.426\n",
       "==============================================================================\n",
       "Omnibus:                        5.886   Durbin-Watson:                   1.091\n",
       "Prob(Omnibus):                  0.053   Jarque-Bera (JB):                3.008\n",
       "Skew:                          -0.339   Prob(JB):                        0.222\n",
       "Kurtosis:                       2.051   Cond. No.                     1.87e+06\n",
       "==============================================================================\n",
       "\n",
       "Notes:\n",
       "[1] Standard Errors assume that the covariance matrix of the errors is correctly specified.\n",
       "[2] The condition number is large, 1.87e+06. This might indicate that there are\n",
       "strong multicollinearity or other numerical problems.\n",
       "\"\"\""
      ]
     },
     "execution_count": 31,
     "metadata": {},
     "output_type": "execute_result"
    }
   ],
   "source": [
    "# linear regression\n",
    "import statsmodels.formula.api as smf\n",
    "formula = 'rank_change ~ year'\n",
    "model = smf.ols(formula, data=df_full)\n",
    "result = model.fit()\n",
    "result.summary()\n",
    "## year is a significant predicator for rank_change"
   ]
  },
  {
   "cell_type": "code",
   "execution_count": 38,
   "metadata": {},
   "outputs": [
    {
     "data": {
      "text/plain": [
       "<matplotlib.lines.Line2D at 0x1e9d2376940>"
      ]
     },
     "execution_count": 38,
     "metadata": {},
     "output_type": "execute_result"
    },
    {
     "data": {
      "image/png": "[encoded data removed]",
      "text/plain": [
       "<Figure size 432x288 with 1 Axes>"
      ]
     },
     "metadata": {
      "needs_background": "light"
     },
     "output_type": "display_data"
    }
   ],
   "source": [
    "# plot year versus difference in ranking\n",
    "rank_change = df_full['rank_change']\n",
    "year = df_full['year']\n",
    "plt.scatter(year, rank_change,alpha=0.5)\n",
    "plt.xlabel('publication year')\n",
    "plt.ylabel('rank change (old-new)')\n",
    "plt.xlim(2000,2012)\n",
    "plt.ylim(-15,15)\n",
    "plt.axhline(y=0, color='red', linestyle='--')"
   ]
  },
  {
   "cell_type": "code",
   "execution_count": 43,
   "metadata": {},
   "outputs": [
    {
     "data": {
      "text/plain": [
       "Text(0, 0.5, 'rank new')"
      ]
     },
     "execution_count": 43,
     "metadata": {},
     "output_type": "execute_result"
    },
    {
     "data": {
      "image/png": "[encoded data removed]",
      "text/plain": [
       "<Figure size 432x288 with 1 Axes>"
      ]
     },
     "metadata": {
      "needs_background": "light"
     },
     "output_type": "display_data"
    }
   ],
   "source": [
    "plt.scatter(df_full['rank_old'], df_full['rank_new'],alpha=0.5)\n",
    "plt.xlabel('rank old')\n",
    "plt.ylabel('rank new')"
   ]
  },
  {
   "cell_type": "code",
   "execution_count": 41,
   "metadata": {},
   "outputs": [
    {
     "data": {
      "text/html": [
       "<table class=\"simpletable\">\n",
       "<caption>OLS Regression Results</caption>\n",
       "<tr>\n",
       "  <th>Dep. Variable:</th>        <td>rank_new</td>     <th>  R-squared:         </th> <td>   0.881</td>\n",
       "</tr>\n",
       "<tr>\n",
       "  <th>Model:</th>                   <td>OLS</td>       <th>  Adj. R-squared:    </th> <td>   0.879</td>\n",
       "</tr>\n",
       "<tr>\n",
       "  <th>Method:</th>             <td>Least Squares</td>  <th>  F-statistic:       </th> <td>   379.3</td>\n",
       "</tr>\n",
       "<tr>\n",
       "  <th>Date:</th>             <td>Tue, 02 Nov 2021</td> <th>  Prob (F-statistic):</th> <td>2.85e-25</td>\n",
       "</tr>\n",
       "<tr>\n",
       "  <th>Time:</th>                 <td>20:53:32</td>     <th>  Log-Likelihood:    </th> <td> -163.22</td>\n",
       "</tr>\n",
       "<tr>\n",
       "  <th>No. Observations:</th>      <td>    53</td>      <th>  AIC:               </th> <td>   330.4</td>\n",
       "</tr>\n",
       "<tr>\n",
       "  <th>Df Residuals:</th>          <td>    51</td>      <th>  BIC:               </th> <td>   334.4</td>\n",
       "</tr>\n",
       "<tr>\n",
       "  <th>Df Model:</th>              <td>     1</td>      <th>                     </th>     <td> </td>   \n",
       "</tr>\n",
       "<tr>\n",
       "  <th>Covariance Type:</th>      <td>nonrobust</td>    <th>                     </th>     <td> </td>   \n",
       "</tr>\n",
       "</table>\n",
       "<table class=\"simpletable\">\n",
       "<tr>\n",
       "      <td></td>         <th>coef</th>     <th>std err</th>      <th>t</th>      <th>P>|t|</th>  <th>[0.025</th>    <th>0.975]</th>  \n",
       "</tr>\n",
       "<tr>\n",
       "  <th>Intercept</th> <td>    1.6292</td> <td>    1.497</td> <td>    1.088</td> <td> 0.282</td> <td>   -1.376</td> <td>    4.634</td>\n",
       "</tr>\n",
       "<tr>\n",
       "  <th>rank_old</th>  <td>    0.9397</td> <td>    0.048</td> <td>   19.474</td> <td> 0.000</td> <td>    0.843</td> <td>    1.037</td>\n",
       "</tr>\n",
       "</table>\n",
       "<table class=\"simpletable\">\n",
       "<tr>\n",
       "  <th>Omnibus:</th>       <td> 5.238</td> <th>  Durbin-Watson:     </th> <td>   0.598</td>\n",
       "</tr>\n",
       "<tr>\n",
       "  <th>Prob(Omnibus):</th> <td> 0.073</td> <th>  Jarque-Bera (JB):  </th> <td>   4.363</td>\n",
       "</tr>\n",
       "<tr>\n",
       "  <th>Skew:</th>          <td> 0.685</td> <th>  Prob(JB):          </th> <td>   0.113</td>\n",
       "</tr>\n",
       "<tr>\n",
       "  <th>Kurtosis:</th>      <td> 3.317</td> <th>  Cond. No.          </th> <td>    63.1</td>\n",
       "</tr>\n",
       "</table><br/><br/>Notes:<br/>[1] Standard Errors assume that the covariance matrix of the errors is correctly specified."
      ],
      "text/plain": [
       "<class 'statsmodels.iolib.summary.Summary'>\n",
       "\"\"\"\n",
       "                            OLS Regression Results                            \n",
       "==============================================================================\n",
       "Dep. Variable:               rank_new   R-squared:                       0.881\n",
       "Model:                            OLS   Adj. R-squared:                  0.879\n",
       "Method:                 Least Squares   F-statistic:                     379.3\n",
       "Date:                Tue, 02 Nov 2021   Prob (F-statistic):           2.85e-25\n",
       "Time:                        20:53:32   Log-Likelihood:                -163.22\n",
       "No. Observations:                  53   AIC:                             330.4\n",
       "Df Residuals:                      51   BIC:                             334.4\n",
       "Df Model:                           1                                         \n",
       "Covariance Type:            nonrobust                                         \n",
       "==============================================================================\n",
       "                 coef    std err          t      P>|t|      [0.025      0.975]\n",
       "------------------------------------------------------------------------------\n",
       "Intercept      1.6292      1.497      1.088      0.282      -1.376       4.634\n",
       "rank_old       0.9397      0.048     19.474      0.000       0.843       1.037\n",
       "==============================================================================\n",
       "Omnibus:                        5.238   Durbin-Watson:                   0.598\n",
       "Prob(Omnibus):                  0.073   Jarque-Bera (JB):                4.363\n",
       "Skew:                           0.685   Prob(JB):                        0.113\n",
       "Kurtosis:                       3.317   Cond. No.                         63.1\n",
       "==============================================================================\n",
       "\n",
       "Notes:\n",
       "[1] Standard Errors assume that the covariance matrix of the errors is correctly specified.\n",
       "\"\"\""
      ]
     },
     "execution_count": 41,
     "metadata": {},
     "output_type": "execute_result"
    }
   ],
   "source": [
    "formula = 'rank_new ~ rank_old'\n",
    "model = smf.ols(formula, data=df_full)\n",
    "result = model.fit()\n",
    "result.summary()"
   ]
  },
  {
   "cell_type": "code",
   "execution_count": 34,
   "metadata": {},
   "outputs": [
    {
     "data": {
      "image/png": "[encoded data removed]",
      "text/plain": [
       "<Figure size 500x1200 with 1 Axes>"
      ]
     },
     "metadata": {},
     "output_type": "display_data"
    }
   ],
   "source": [
    "## make single bar-plot\n",
    "\n",
    "plt.rcdefaults()\n",
    "fig, ax = plt.subplots()\n",
    "\n",
    "# Example data\n",
    "label = df_full['name']\n",
    "y_pos = np.arange(len(label))\n",
    "ax.barh(y_pos, rank_change, align='center')\n",
    "ax.set_yticks(y_pos)\n",
    "ax.set_yticklabels(label)\n",
    "ax.invert_yaxis()  # labels read top-to-bottom\n",
    "ax.set_xlabel('Rank change after adopting the new method (ordered by publication year)')\n",
    "\n",
    "fig.set_size_inches(5, 12)\n",
    "\n",
    "plt.show()"
   ]
  },
  {
   "cell_type": "markdown",
   "metadata": {},
   "source": [
    "### Explain Ranking Robustness\n",
    "\n",
    "A coincident. Most papers get few but non-zero citations were published in the year 2007 to 2009. They were the least affected by the change of algorithm.\n",
    "\n",
    "Ealier and latter papers were the most impacted by the change of algorithm,which explains why Mossner_2001 was quite disruptive in term of the ranking. It is an earlier paper and recieved few citations. "
   ]
  },
  {
   "cell_type": "markdown",
   "metadata": {},
   "source": [
    "## Creating Bias Heuristic\n",
    "\n",
    "**Marginalized Papers**\n",
    "\n",
    "- Dick_2007\n",
    "- Kraus_2007\n",
    "- Lotrich_2008\n",
    "- Mossner_2001\n",
    "- Kim_b_2009\n",
    "- Coventry_2009\n",
    "- Gibb_2009\n",
    "- Kilpatrick_2007\n",
    "- PhillipsBute_2008\n",
    "- Bull_2009"
   ]
  },
  {
   "cell_type": "code",
   "execution_count": 49,
   "metadata": {},
   "outputs": [],
   "source": [
    "mp_l = ['Dick','Kraus','Lotrich','Mossner', 'Kim_b', 'Coventry', 'Gibb', 'Kilpatrick', 'PhillipsBute', 'Bull' ]\n",
    "df_rec = pd.DataFrame(columns=['marginalized_paper','citing_papers'])"
   ]
  },
  {
   "cell_type": "code",
   "execution_count": 51,
   "metadata": {},
   "outputs": [
    {
     "data": {
      "text/html": [
       "<div>\n",
       "<style scoped>\n",
       "    .dataframe tbody tr th:only-of-type {\n",
       "        vertical-align: middle;\n",
       "    }\n",
       "\n",
       "    .dataframe tbody tr th {\n",
       "        vertical-align: top;\n",
       "    }\n",
       "\n",
       "    .dataframe thead th {\n",
       "        text-align: right;\n",
       "    }\n",
       "</style>\n",
       "<table border=\"1\" class=\"dataframe\">\n",
       "  <thead>\n",
       "    <tr style=\"text-align: right;\">\n",
       "      <th></th>\n",
       "      <th>marginalized_paper</th>\n",
       "      <th>citing_papers</th>\n",
       "    </tr>\n",
       "  </thead>\n",
       "  <tbody>\n",
       "    <tr>\n",
       "      <th>0</th>\n",
       "      <td>Dick</td>\n",
       "      <td>[Carli_2011]</td>\n",
       "    </tr>\n",
       "    <tr>\n",
       "      <th>1</th>\n",
       "      <td>Kraus</td>\n",
       "      <td>[Lotrich_2008]</td>\n",
       "    </tr>\n",
       "    <tr>\n",
       "      <th>2</th>\n",
       "      <td>Lotrich</td>\n",
       "      <td>[Sen_2010]</td>\n",
       "    </tr>\n",
       "    <tr>\n",
       "      <th>3</th>\n",
       "      <td>Mossner</td>\n",
       "      <td>[Lenze_2006, Otte_2007, Zhang_b_2009, Kim_b_20...</td>\n",
       "    </tr>\n",
       "    <tr>\n",
       "      <th>4</th>\n",
       "      <td>Kim_b</td>\n",
       "      <td>[Sen_2010]</td>\n",
       "    </tr>\n",
       "    <tr>\n",
       "      <th>5</th>\n",
       "      <td>Coventry</td>\n",
       "      <td>[Carli_2011]</td>\n",
       "    </tr>\n",
       "    <tr>\n",
       "      <th>6</th>\n",
       "      <td>Gibb</td>\n",
       "      <td>[Hankin_2011]</td>\n",
       "    </tr>\n",
       "    <tr>\n",
       "      <th>7</th>\n",
       "      <td>Kilpatrick</td>\n",
       "      <td>[Gibb_2009, Grabe_b_2012]</td>\n",
       "    </tr>\n",
       "    <tr>\n",
       "      <th>8</th>\n",
       "      <td>PhillipsBute</td>\n",
       "      <td>[Grassi_2010, Sen_2010]</td>\n",
       "    </tr>\n",
       "    <tr>\n",
       "      <th>9</th>\n",
       "      <td>Bull</td>\n",
       "      <td>[Ressler_2009, Wilhelm_b_2012]</td>\n",
       "    </tr>\n",
       "  </tbody>\n",
       "</table>\n",
       "</div>"
      ],
      "text/plain": [
       "  marginalized_paper                                      citing_papers\n",
       "0               Dick                                       [Carli_2011]\n",
       "1              Kraus                                     [Lotrich_2008]\n",
       "2            Lotrich                                         [Sen_2010]\n",
       "3            Mossner  [Lenze_2006, Otte_2007, Zhang_b_2009, Kim_b_20...\n",
       "4              Kim_b                                         [Sen_2010]\n",
       "5           Coventry                                       [Carli_2011]\n",
       "6               Gibb                                      [Hankin_2011]\n",
       "7         Kilpatrick                          [Gibb_2009, Grabe_b_2012]\n",
       "8       PhillipsBute                            [Grassi_2010, Sen_2010]\n",
       "9               Bull                     [Ressler_2009, Wilhelm_b_2012]"
      ]
     },
     "execution_count": 51,
     "metadata": {},
     "output_type": "execute_result"
    }
   ],
   "source": [
    "for mp_name in mp_l:\n",
    "    # name of the marginalized paper\n",
    "    citing_id_l = g.neighbors(g.vs.find(name_eq = mp_name),mode='in')\n",
    "    citing_papers_l = []\n",
    "    for citing_id in citing_id_l:\n",
    "        citing_papers_l.append(g.vs[citing_id]['name'] + '_' + str(g.vs[citing_id]['Year']))\n",
    "    df_rec = df_rec.append({'marginalized_paper': mp_name, 'citing_papers': citing_papers_l},ignore_index=True)\n",
    "\n",
    "df_rec"
   ]
  },
  {
   "cell_type": "markdown",
   "metadata": {},
   "source": [
    "## Papers citing \"marginalized papers\"\n",
    "\n",
    "**Carli_2011(negative): cited Dick_2007 and Conventry_2009 (2)**\n",
    "\n",
    "Lotrich_2008: cited Kraus_2007 (1)\n",
    "\n",
    "**Sen_2010(positive): cited Lotrich_2008, Kim_b_2009, and PhillipsBute_2008 (3)**\n",
    "\n",
    "Lenze_2006: cited Mossner_2001(1)\n",
    "\n",
    "Otte_2007: cited Mossner_2001(1)\n",
    "\n",
    "Zhang_b_2009: cited Mossner_2001(1)\n",
    "\n",
    "Kim_b_2009: cited Mossner_2001(1)\n",
    "\n",
    "**Wilhelm_b_2012(negative): cited Mossner_2001 and Bull_2009 (2)**\n",
    "\n",
    "Hankin_2011: cited Gibb_2009 (1)\n",
    "\n",
    "Gibb_2009: cited Kilpatrick_2007 (1)\n",
    "\n",
    "Grabe_b_2012(negative): cited Kilpatrick_2007 (1)\n",
    "\n",
    "Grassi_2010: cited PhillipsBute_2008 (1)\n",
    "\n",
    "Ressler_2009: cited Bull_2009 (1)"
   ]
  },
  {
   "cell_type": "code",
   "execution_count": null,
   "metadata": {},
   "outputs": [],
   "source": []
  }
 ],
 "metadata": {
  "kernelspec": {
   "display_name": "Python 3 (ipykernel)",
   "language": "python",
   "name": "python3"
  },
  "language_info": {
   "codemirror_mode": {
    "name": "ipython",
    "version": 3
   },
   "file_extension": ".py",
   "mimetype": "text/x-python",
   "name": "python",
   "nbconvert_exporter": "python",
   "pygments_lexer": "ipython3",
   "version": "3.8.10"
  }
 },
 "nbformat": 4,
 "nbformat_minor": 4
}
