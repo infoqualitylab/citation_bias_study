{
 "cells": [
  {
   "cell_type": "markdown",
   "source": [
    "Load data"
   ],
   "metadata": {
    "collapsed": false
   }
  },
  {
   "cell_type": "code",
   "execution_count": 1,
   "outputs": [],
   "source": [
    "import pandas as pd\n",
    "from igraph import *\n",
    "import cairo\n",
    "import numpy as np\n",
    "import numpy.random as random\n",
    "import math\n",
    "from matplotlib import pyplot as plt\n",
    "from scipy.stats import bernoulli"
   ],
   "metadata": {
    "collapsed": false,
    "pycharm": {
     "name": "#%%\n"
    }
   }
  },
  {
   "cell_type": "code",
   "execution_count": 2,
   "outputs": [
    {
     "data": {
      "text/plain": "        Study  Year  YearOnline   Outcome OutcomeSmallestPvalue  \\\n0     Mossner  2001        2001  Positive              Positive   \n1       Caspi  2003        2003  Positive              Positive   \n2        Eley  2004        2004  Negative              Negative   \n3     Grabe_a  2005        2004   Unclear               Unclear   \n4   Kaufman_a  2004        2004  Positive              Positive   \n..        ...   ...         ...       ...                   ...   \n68    Grabe_b  2012        2012  Negative              Negative   \n69   Petersen  2012        2012  Positive              Positive   \n70     Beaver  2012        2012  Positive              Positive   \n71      Brown  2013        2012  Negative              Positive   \n72  Wilhelm_b  2012        2012  Negative              Positive   \n\n                Abstract  PaperID  \n0               Positive        0  \n1               Positive        1  \n2               Positive        2  \n3   Partially supportive        3  \n4               Positive        4  \n..                   ...      ...  \n68  Partially supportive       68  \n69              Positive       69  \n70  Partially supportive       70  \n71              Positive       71  \n72              Positive       72  \n\n[73 rows x 7 columns]",
      "text/html": "<div>\n<style scoped>\n    .dataframe tbody tr th:only-of-type {\n        vertical-align: middle;\n    }\n\n    .dataframe tbody tr th {\n        vertical-align: top;\n    }\n\n    .dataframe thead th {\n        text-align: right;\n    }\n</style>\n<table border=\"1\" class=\"dataframe\">\n  <thead>\n    <tr style=\"text-align: right;\">\n      <th></th>\n      <th>Study</th>\n      <th>Year</th>\n      <th>YearOnline</th>\n      <th>Outcome</th>\n      <th>OutcomeSmallestPvalue</th>\n      <th>Abstract</th>\n      <th>PaperID</th>\n    </tr>\n  </thead>\n  <tbody>\n    <tr>\n      <th>0</th>\n      <td>Mossner</td>\n      <td>2001</td>\n      <td>2001</td>\n      <td>Positive</td>\n      <td>Positive</td>\n      <td>Positive</td>\n      <td>0</td>\n    </tr>\n    <tr>\n      <th>1</th>\n      <td>Caspi</td>\n      <td>2003</td>\n      <td>2003</td>\n      <td>Positive</td>\n      <td>Positive</td>\n      <td>Positive</td>\n      <td>1</td>\n    </tr>\n    <tr>\n      <th>2</th>\n      <td>Eley</td>\n      <td>2004</td>\n      <td>2004</td>\n      <td>Negative</td>\n      <td>Negative</td>\n      <td>Positive</td>\n      <td>2</td>\n    </tr>\n    <tr>\n      <th>3</th>\n      <td>Grabe_a</td>\n      <td>2005</td>\n      <td>2004</td>\n      <td>Unclear</td>\n      <td>Unclear</td>\n      <td>Partially supportive</td>\n      <td>3</td>\n    </tr>\n    <tr>\n      <th>4</th>\n      <td>Kaufman_a</td>\n      <td>2004</td>\n      <td>2004</td>\n      <td>Positive</td>\n      <td>Positive</td>\n      <td>Positive</td>\n      <td>4</td>\n    </tr>\n    <tr>\n      <th>...</th>\n      <td>...</td>\n      <td>...</td>\n      <td>...</td>\n      <td>...</td>\n      <td>...</td>\n      <td>...</td>\n      <td>...</td>\n    </tr>\n    <tr>\n      <th>68</th>\n      <td>Grabe_b</td>\n      <td>2012</td>\n      <td>2012</td>\n      <td>Negative</td>\n      <td>Negative</td>\n      <td>Partially supportive</td>\n      <td>68</td>\n    </tr>\n    <tr>\n      <th>69</th>\n      <td>Petersen</td>\n      <td>2012</td>\n      <td>2012</td>\n      <td>Positive</td>\n      <td>Positive</td>\n      <td>Positive</td>\n      <td>69</td>\n    </tr>\n    <tr>\n      <th>70</th>\n      <td>Beaver</td>\n      <td>2012</td>\n      <td>2012</td>\n      <td>Positive</td>\n      <td>Positive</td>\n      <td>Partially supportive</td>\n      <td>70</td>\n    </tr>\n    <tr>\n      <th>71</th>\n      <td>Brown</td>\n      <td>2013</td>\n      <td>2012</td>\n      <td>Negative</td>\n      <td>Positive</td>\n      <td>Positive</td>\n      <td>71</td>\n    </tr>\n    <tr>\n      <th>72</th>\n      <td>Wilhelm_b</td>\n      <td>2012</td>\n      <td>2012</td>\n      <td>Negative</td>\n      <td>Positive</td>\n      <td>Positive</td>\n      <td>72</td>\n    </tr>\n  </tbody>\n</table>\n<p>73 rows × 7 columns</p>\n</div>"
     },
     "execution_count": 2,
     "metadata": {},
     "output_type": "execute_result"
    }
   ],
   "source": [
    "# create attribute list\n",
    "# easy for this file because the first 6 columns are in fact attribute list\n",
    "attr_list = pd.read_csv('HTTLPR.csv', usecols=[0, 1, 2, 3, 4, 5])\n",
    "attr_list['PaperID'] = attr_list.index\n",
    "\n",
    "# create edge list\n",
    "matrix = pd.read_csv('HTTLPR.csv')\n",
    "attr_list"
   ],
   "metadata": {
    "collapsed": false,
    "pycharm": {
     "name": "#%%\n"
    }
   }
  },
  {
   "cell_type": "code",
   "execution_count": 3,
   "outputs": [
    {
     "data": {
      "text/plain": "   Mossner Caspi Eley Grabe_a Kaufman_a Gillespie Kendler Surtees Sjoberg  \\\n0      NaN   NaN  NaN     NaN       NaN       NaN     NaN     NaN     NaN   \n1        -   NaN  NaN     NaN       NaN       NaN     NaN     NaN     NaN   \n2        -     X  NaN     NaN       NaN       NaN     NaN     NaN     NaN   \n3        -     X    -     NaN       NaN       NaN     NaN     NaN     NaN   \n4        -     X    -       -       NaN       NaN     NaN     NaN     NaN   \n..     ...   ...  ...     ...       ...       ...     ...     ...     ...   \n68       -     X    -       X         -         -       X       -       X   \n69       -     X    X       -         -         -       X       X       X   \n70       -     X    -       -         -         -       -       -       -   \n71       -     X    X       -         -         -       -       -       X   \n72       X     X    -       X         -         -       -       -       -   \n\n   Nakatani  ... Comasco_a Cicchetti_b Jenness Scheid_b Quinn Grabe_b  \\\n0       NaN  ...       NaN         NaN     NaN      NaN   NaN     NaN   \n1       NaN  ...       NaN         NaN     NaN      NaN   NaN     NaN   \n2       NaN  ...       NaN         NaN     NaN      NaN   NaN     NaN   \n3       NaN  ...       NaN         NaN     NaN      NaN   NaN     NaN   \n4       NaN  ...       NaN         NaN     NaN      NaN   NaN     NaN   \n..      ...  ...       ...         ...     ...      ...   ...     ...   \n68        -  ...         -           -       -        -     -     NaN   \n69        -  ...         -           -       -        -     -       -   \n70        -  ...         -           -       -        -     -       -   \n71        -  ...         -           -       -        -     -       -   \n72        X  ...         -           -       -        -     -       -   \n\n   Petersen Beaver Brown Wilhelm_b  \n0       NaN    NaN   NaN       NaN  \n1       NaN    NaN   NaN       NaN  \n2       NaN    NaN   NaN       NaN  \n3       NaN    NaN   NaN       NaN  \n4       NaN    NaN   NaN       NaN  \n..      ...    ...   ...       ...  \n68      NaN    NaN   NaN       NaN  \n69      NaN    NaN   NaN       NaN  \n70        -    NaN   NaN       NaN  \n71        -      -   NaN       NaN  \n72        -      -     -       NaN  \n\n[73 rows x 73 columns]",
      "text/html": "<div>\n<style scoped>\n    .dataframe tbody tr th:only-of-type {\n        vertical-align: middle;\n    }\n\n    .dataframe tbody tr th {\n        vertical-align: top;\n    }\n\n    .dataframe thead th {\n        text-align: right;\n    }\n</style>\n<table border=\"1\" class=\"dataframe\">\n  <thead>\n    <tr style=\"text-align: right;\">\n      <th></th>\n      <th>Mossner</th>\n      <th>Caspi</th>\n      <th>Eley</th>\n      <th>Grabe_a</th>\n      <th>Kaufman_a</th>\n      <th>Gillespie</th>\n      <th>Kendler</th>\n      <th>Surtees</th>\n      <th>Sjoberg</th>\n      <th>Nakatani</th>\n      <th>...</th>\n      <th>Comasco_a</th>\n      <th>Cicchetti_b</th>\n      <th>Jenness</th>\n      <th>Scheid_b</th>\n      <th>Quinn</th>\n      <th>Grabe_b</th>\n      <th>Petersen</th>\n      <th>Beaver</th>\n      <th>Brown</th>\n      <th>Wilhelm_b</th>\n    </tr>\n  </thead>\n  <tbody>\n    <tr>\n      <th>0</th>\n      <td>NaN</td>\n      <td>NaN</td>\n      <td>NaN</td>\n      <td>NaN</td>\n      <td>NaN</td>\n      <td>NaN</td>\n      <td>NaN</td>\n      <td>NaN</td>\n      <td>NaN</td>\n      <td>NaN</td>\n      <td>...</td>\n      <td>NaN</td>\n      <td>NaN</td>\n      <td>NaN</td>\n      <td>NaN</td>\n      <td>NaN</td>\n      <td>NaN</td>\n      <td>NaN</td>\n      <td>NaN</td>\n      <td>NaN</td>\n      <td>NaN</td>\n    </tr>\n    <tr>\n      <th>1</th>\n      <td>-</td>\n      <td>NaN</td>\n      <td>NaN</td>\n      <td>NaN</td>\n      <td>NaN</td>\n      <td>NaN</td>\n      <td>NaN</td>\n      <td>NaN</td>\n      <td>NaN</td>\n      <td>NaN</td>\n      <td>...</td>\n      <td>NaN</td>\n      <td>NaN</td>\n      <td>NaN</td>\n      <td>NaN</td>\n      <td>NaN</td>\n      <td>NaN</td>\n      <td>NaN</td>\n      <td>NaN</td>\n      <td>NaN</td>\n      <td>NaN</td>\n    </tr>\n    <tr>\n      <th>2</th>\n      <td>-</td>\n      <td>X</td>\n      <td>NaN</td>\n      <td>NaN</td>\n      <td>NaN</td>\n      <td>NaN</td>\n      <td>NaN</td>\n      <td>NaN</td>\n      <td>NaN</td>\n      <td>NaN</td>\n      <td>...</td>\n      <td>NaN</td>\n      <td>NaN</td>\n      <td>NaN</td>\n      <td>NaN</td>\n      <td>NaN</td>\n      <td>NaN</td>\n      <td>NaN</td>\n      <td>NaN</td>\n      <td>NaN</td>\n      <td>NaN</td>\n    </tr>\n    <tr>\n      <th>3</th>\n      <td>-</td>\n      <td>X</td>\n      <td>-</td>\n      <td>NaN</td>\n      <td>NaN</td>\n      <td>NaN</td>\n      <td>NaN</td>\n      <td>NaN</td>\n      <td>NaN</td>\n      <td>NaN</td>\n      <td>...</td>\n      <td>NaN</td>\n      <td>NaN</td>\n      <td>NaN</td>\n      <td>NaN</td>\n      <td>NaN</td>\n      <td>NaN</td>\n      <td>NaN</td>\n      <td>NaN</td>\n      <td>NaN</td>\n      <td>NaN</td>\n    </tr>\n    <tr>\n      <th>4</th>\n      <td>-</td>\n      <td>X</td>\n      <td>-</td>\n      <td>-</td>\n      <td>NaN</td>\n      <td>NaN</td>\n      <td>NaN</td>\n      <td>NaN</td>\n      <td>NaN</td>\n      <td>NaN</td>\n      <td>...</td>\n      <td>NaN</td>\n      <td>NaN</td>\n      <td>NaN</td>\n      <td>NaN</td>\n      <td>NaN</td>\n      <td>NaN</td>\n      <td>NaN</td>\n      <td>NaN</td>\n      <td>NaN</td>\n      <td>NaN</td>\n    </tr>\n    <tr>\n      <th>...</th>\n      <td>...</td>\n      <td>...</td>\n      <td>...</td>\n      <td>...</td>\n      <td>...</td>\n      <td>...</td>\n      <td>...</td>\n      <td>...</td>\n      <td>...</td>\n      <td>...</td>\n      <td>...</td>\n      <td>...</td>\n      <td>...</td>\n      <td>...</td>\n      <td>...</td>\n      <td>...</td>\n      <td>...</td>\n      <td>...</td>\n      <td>...</td>\n      <td>...</td>\n      <td>...</td>\n    </tr>\n    <tr>\n      <th>68</th>\n      <td>-</td>\n      <td>X</td>\n      <td>-</td>\n      <td>X</td>\n      <td>-</td>\n      <td>-</td>\n      <td>X</td>\n      <td>-</td>\n      <td>X</td>\n      <td>-</td>\n      <td>...</td>\n      <td>-</td>\n      <td>-</td>\n      <td>-</td>\n      <td>-</td>\n      <td>-</td>\n      <td>NaN</td>\n      <td>NaN</td>\n      <td>NaN</td>\n      <td>NaN</td>\n      <td>NaN</td>\n    </tr>\n    <tr>\n      <th>69</th>\n      <td>-</td>\n      <td>X</td>\n      <td>X</td>\n      <td>-</td>\n      <td>-</td>\n      <td>-</td>\n      <td>X</td>\n      <td>X</td>\n      <td>X</td>\n      <td>-</td>\n      <td>...</td>\n      <td>-</td>\n      <td>-</td>\n      <td>-</td>\n      <td>-</td>\n      <td>-</td>\n      <td>-</td>\n      <td>NaN</td>\n      <td>NaN</td>\n      <td>NaN</td>\n      <td>NaN</td>\n    </tr>\n    <tr>\n      <th>70</th>\n      <td>-</td>\n      <td>X</td>\n      <td>-</td>\n      <td>-</td>\n      <td>-</td>\n      <td>-</td>\n      <td>-</td>\n      <td>-</td>\n      <td>-</td>\n      <td>-</td>\n      <td>...</td>\n      <td>-</td>\n      <td>-</td>\n      <td>-</td>\n      <td>-</td>\n      <td>-</td>\n      <td>-</td>\n      <td>-</td>\n      <td>NaN</td>\n      <td>NaN</td>\n      <td>NaN</td>\n    </tr>\n    <tr>\n      <th>71</th>\n      <td>-</td>\n      <td>X</td>\n      <td>X</td>\n      <td>-</td>\n      <td>-</td>\n      <td>-</td>\n      <td>-</td>\n      <td>-</td>\n      <td>X</td>\n      <td>-</td>\n      <td>...</td>\n      <td>-</td>\n      <td>-</td>\n      <td>-</td>\n      <td>-</td>\n      <td>-</td>\n      <td>-</td>\n      <td>-</td>\n      <td>-</td>\n      <td>NaN</td>\n      <td>NaN</td>\n    </tr>\n    <tr>\n      <th>72</th>\n      <td>X</td>\n      <td>X</td>\n      <td>-</td>\n      <td>X</td>\n      <td>-</td>\n      <td>-</td>\n      <td>-</td>\n      <td>-</td>\n      <td>-</td>\n      <td>X</td>\n      <td>...</td>\n      <td>-</td>\n      <td>-</td>\n      <td>-</td>\n      <td>-</td>\n      <td>-</td>\n      <td>-</td>\n      <td>-</td>\n      <td>-</td>\n      <td>-</td>\n      <td>NaN</td>\n    </tr>\n  </tbody>\n</table>\n<p>73 rows × 73 columns</p>\n</div>"
     },
     "execution_count": 3,
     "metadata": {},
     "output_type": "execute_result"
    }
   ],
   "source": [
    "# select only the adjacency matrix\n",
    "matrix = matrix.iloc[:, 6:]\n",
    "matrix"
   ],
   "metadata": {
    "collapsed": false,
    "pycharm": {
     "name": "#%%\n"
    }
   }
  },
  {
   "cell_type": "code",
   "execution_count": 4,
   "outputs": [
    {
     "data": {
      "text/plain": "     0    1    2    3    4    5    6    7    8    9   ...   63   64   65   66  \\\n0   NaN  NaN  NaN  NaN  NaN  NaN  NaN  NaN  NaN  NaN  ...  NaN  NaN  NaN  NaN   \n1     -  NaN  NaN  NaN  NaN  NaN  NaN  NaN  NaN  NaN  ...  NaN  NaN  NaN  NaN   \n2     -    X  NaN  NaN  NaN  NaN  NaN  NaN  NaN  NaN  ...  NaN  NaN  NaN  NaN   \n3     -    X    -  NaN  NaN  NaN  NaN  NaN  NaN  NaN  ...  NaN  NaN  NaN  NaN   \n4     -    X    -    -  NaN  NaN  NaN  NaN  NaN  NaN  ...  NaN  NaN  NaN  NaN   \n..  ...  ...  ...  ...  ...  ...  ...  ...  ...  ...  ...  ...  ...  ...  ...   \n68    -    X    -    X    -    -    X    -    X    -  ...    -    -    -    -   \n69    -    X    X    -    -    -    X    X    X    -  ...    -    -    -    -   \n70    -    X    -    -    -    -    -    -    -    -  ...    -    -    -    -   \n71    -    X    X    -    -    -    -    -    X    -  ...    -    -    -    -   \n72    X    X    -    X    -    -    -    -    -    X  ...    -    -    -    -   \n\n     67   68   69   70   71  72  \n0   NaN  NaN  NaN  NaN  NaN NaN  \n1   NaN  NaN  NaN  NaN  NaN NaN  \n2   NaN  NaN  NaN  NaN  NaN NaN  \n3   NaN  NaN  NaN  NaN  NaN NaN  \n4   NaN  NaN  NaN  NaN  NaN NaN  \n..  ...  ...  ...  ...  ...  ..  \n68    -  NaN  NaN  NaN  NaN NaN  \n69    -    -  NaN  NaN  NaN NaN  \n70    -    -    -  NaN  NaN NaN  \n71    -    -    -    -  NaN NaN  \n72    -    -    -    -    - NaN  \n\n[73 rows x 73 columns]",
      "text/html": "<div>\n<style scoped>\n    .dataframe tbody tr th:only-of-type {\n        vertical-align: middle;\n    }\n\n    .dataframe tbody tr th {\n        vertical-align: top;\n    }\n\n    .dataframe thead th {\n        text-align: right;\n    }\n</style>\n<table border=\"1\" class=\"dataframe\">\n  <thead>\n    <tr style=\"text-align: right;\">\n      <th></th>\n      <th>0</th>\n      <th>1</th>\n      <th>2</th>\n      <th>3</th>\n      <th>4</th>\n      <th>5</th>\n      <th>6</th>\n      <th>7</th>\n      <th>8</th>\n      <th>9</th>\n      <th>...</th>\n      <th>63</th>\n      <th>64</th>\n      <th>65</th>\n      <th>66</th>\n      <th>67</th>\n      <th>68</th>\n      <th>69</th>\n      <th>70</th>\n      <th>71</th>\n      <th>72</th>\n    </tr>\n  </thead>\n  <tbody>\n    <tr>\n      <th>0</th>\n      <td>NaN</td>\n      <td>NaN</td>\n      <td>NaN</td>\n      <td>NaN</td>\n      <td>NaN</td>\n      <td>NaN</td>\n      <td>NaN</td>\n      <td>NaN</td>\n      <td>NaN</td>\n      <td>NaN</td>\n      <td>...</td>\n      <td>NaN</td>\n      <td>NaN</td>\n      <td>NaN</td>\n      <td>NaN</td>\n      <td>NaN</td>\n      <td>NaN</td>\n      <td>NaN</td>\n      <td>NaN</td>\n      <td>NaN</td>\n      <td>NaN</td>\n    </tr>\n    <tr>\n      <th>1</th>\n      <td>-</td>\n      <td>NaN</td>\n      <td>NaN</td>\n      <td>NaN</td>\n      <td>NaN</td>\n      <td>NaN</td>\n      <td>NaN</td>\n      <td>NaN</td>\n      <td>NaN</td>\n      <td>NaN</td>\n      <td>...</td>\n      <td>NaN</td>\n      <td>NaN</td>\n      <td>NaN</td>\n      <td>NaN</td>\n      <td>NaN</td>\n      <td>NaN</td>\n      <td>NaN</td>\n      <td>NaN</td>\n      <td>NaN</td>\n      <td>NaN</td>\n    </tr>\n    <tr>\n      <th>2</th>\n      <td>-</td>\n      <td>X</td>\n      <td>NaN</td>\n      <td>NaN</td>\n      <td>NaN</td>\n      <td>NaN</td>\n      <td>NaN</td>\n      <td>NaN</td>\n      <td>NaN</td>\n      <td>NaN</td>\n      <td>...</td>\n      <td>NaN</td>\n      <td>NaN</td>\n      <td>NaN</td>\n      <td>NaN</td>\n      <td>NaN</td>\n      <td>NaN</td>\n      <td>NaN</td>\n      <td>NaN</td>\n      <td>NaN</td>\n      <td>NaN</td>\n    </tr>\n    <tr>\n      <th>3</th>\n      <td>-</td>\n      <td>X</td>\n      <td>-</td>\n      <td>NaN</td>\n      <td>NaN</td>\n      <td>NaN</td>\n      <td>NaN</td>\n      <td>NaN</td>\n      <td>NaN</td>\n      <td>NaN</td>\n      <td>...</td>\n      <td>NaN</td>\n      <td>NaN</td>\n      <td>NaN</td>\n      <td>NaN</td>\n      <td>NaN</td>\n      <td>NaN</td>\n      <td>NaN</td>\n      <td>NaN</td>\n      <td>NaN</td>\n      <td>NaN</td>\n    </tr>\n    <tr>\n      <th>4</th>\n      <td>-</td>\n      <td>X</td>\n      <td>-</td>\n      <td>-</td>\n      <td>NaN</td>\n      <td>NaN</td>\n      <td>NaN</td>\n      <td>NaN</td>\n      <td>NaN</td>\n      <td>NaN</td>\n      <td>...</td>\n      <td>NaN</td>\n      <td>NaN</td>\n      <td>NaN</td>\n      <td>NaN</td>\n      <td>NaN</td>\n      <td>NaN</td>\n      <td>NaN</td>\n      <td>NaN</td>\n      <td>NaN</td>\n      <td>NaN</td>\n    </tr>\n    <tr>\n      <th>...</th>\n      <td>...</td>\n      <td>...</td>\n      <td>...</td>\n      <td>...</td>\n      <td>...</td>\n      <td>...</td>\n      <td>...</td>\n      <td>...</td>\n      <td>...</td>\n      <td>...</td>\n      <td>...</td>\n      <td>...</td>\n      <td>...</td>\n      <td>...</td>\n      <td>...</td>\n      <td>...</td>\n      <td>...</td>\n      <td>...</td>\n      <td>...</td>\n      <td>...</td>\n      <td>...</td>\n    </tr>\n    <tr>\n      <th>68</th>\n      <td>-</td>\n      <td>X</td>\n      <td>-</td>\n      <td>X</td>\n      <td>-</td>\n      <td>-</td>\n      <td>X</td>\n      <td>-</td>\n      <td>X</td>\n      <td>-</td>\n      <td>...</td>\n      <td>-</td>\n      <td>-</td>\n      <td>-</td>\n      <td>-</td>\n      <td>-</td>\n      <td>NaN</td>\n      <td>NaN</td>\n      <td>NaN</td>\n      <td>NaN</td>\n      <td>NaN</td>\n    </tr>\n    <tr>\n      <th>69</th>\n      <td>-</td>\n      <td>X</td>\n      <td>X</td>\n      <td>-</td>\n      <td>-</td>\n      <td>-</td>\n      <td>X</td>\n      <td>X</td>\n      <td>X</td>\n      <td>-</td>\n      <td>...</td>\n      <td>-</td>\n      <td>-</td>\n      <td>-</td>\n      <td>-</td>\n      <td>-</td>\n      <td>-</td>\n      <td>NaN</td>\n      <td>NaN</td>\n      <td>NaN</td>\n      <td>NaN</td>\n    </tr>\n    <tr>\n      <th>70</th>\n      <td>-</td>\n      <td>X</td>\n      <td>-</td>\n      <td>-</td>\n      <td>-</td>\n      <td>-</td>\n      <td>-</td>\n      <td>-</td>\n      <td>-</td>\n      <td>-</td>\n      <td>...</td>\n      <td>-</td>\n      <td>-</td>\n      <td>-</td>\n      <td>-</td>\n      <td>-</td>\n      <td>-</td>\n      <td>-</td>\n      <td>NaN</td>\n      <td>NaN</td>\n      <td>NaN</td>\n    </tr>\n    <tr>\n      <th>71</th>\n      <td>-</td>\n      <td>X</td>\n      <td>X</td>\n      <td>-</td>\n      <td>-</td>\n      <td>-</td>\n      <td>-</td>\n      <td>-</td>\n      <td>X</td>\n      <td>-</td>\n      <td>...</td>\n      <td>-</td>\n      <td>-</td>\n      <td>-</td>\n      <td>-</td>\n      <td>-</td>\n      <td>-</td>\n      <td>-</td>\n      <td>-</td>\n      <td>NaN</td>\n      <td>NaN</td>\n    </tr>\n    <tr>\n      <th>72</th>\n      <td>X</td>\n      <td>X</td>\n      <td>-</td>\n      <td>X</td>\n      <td>-</td>\n      <td>-</td>\n      <td>-</td>\n      <td>-</td>\n      <td>-</td>\n      <td>X</td>\n      <td>...</td>\n      <td>-</td>\n      <td>-</td>\n      <td>-</td>\n      <td>-</td>\n      <td>-</td>\n      <td>-</td>\n      <td>-</td>\n      <td>-</td>\n      <td>-</td>\n      <td>NaN</td>\n    </tr>\n  </tbody>\n</table>\n<p>73 rows × 73 columns</p>\n</div>"
     },
     "execution_count": 4,
     "metadata": {},
     "output_type": "execute_result"
    }
   ],
   "source": [
    "# search_for_alias\n",
    "search_dict = pd.Series(attr_list['PaperID'].values, index=attr_list['Study']).to_dict()\n",
    "search_dict_reverse = pd.Series(attr_list['Study'].values, index=attr_list['PaperID']).to_dict()\n",
    "matrix.columns = [search_dict[x] for x in matrix.columns]\n",
    "matrix"
   ],
   "metadata": {
    "collapsed": false,
    "pycharm": {
     "name": "#%%\n"
    }
   }
  },
  {
   "cell_type": "markdown",
   "source": [
    "Reconstruct claim-specific citation network g"
   ],
   "metadata": {
    "collapsed": false
   }
  },
  {
   "cell_type": "code",
   "execution_count": 5,
   "outputs": [
    {
     "data": {
      "text/plain": "488"
     },
     "execution_count": 5,
     "metadata": {},
     "output_type": "execute_result"
    }
   ],
   "source": [
    "# initialize the graph object\n",
    "g = Graph(directed=True)\n",
    "g.add_vertices(73)\n",
    "\n",
    "# add attributes to the graph: study name: name; study outcome: outcome; YearOnline: year\n",
    "study = attr_list['Study'].to_list()\n",
    "outcome = attr_list['Outcome'].to_list()\n",
    "g.vs['name'] = study\n",
    "g.vs[\"label\"] = g.vs[\"name\"]\n",
    "g.vs['outcome'] = outcome\n",
    "g.vs['Year'] = attr_list['YearOnline']\n",
    "g.vs['color'] = 'light blue'\n",
    "\n",
    "# create edges for the real graph, using the matrix\n",
    "edge_list = []\n",
    "for i in range(0, matrix.shape[0]):\n",
    "    for j in range(0, matrix.shape[1]):\n",
    "        if isinstance(matrix.iloc[i, j], str):\n",
    "            s = matrix.iloc[i, j]\n",
    "            if s.replace(\" \", \"\") == \"X\":\n",
    "                edge_list.append((i, j))\n",
    "                g.add_edge(source=i, target=j)\n",
    "len(g.es)"
   ],
   "metadata": {
    "collapsed": false,
    "pycharm": {
     "name": "#%%\n"
    }
   }
  },
  {
   "cell_type": "markdown",
   "source": [
    "Visualize the network"
   ],
   "metadata": {
    "collapsed": false
   }
  },
  {
   "cell_type": "code",
   "execution_count": 6,
   "outputs": [],
   "source": [
    "vis = plot(g,layout=\"kk\", margin=50,bbox=(600,600),vertex_label_size=10,edge_arrow_size=0.5,edge_arrow_width=1.5)\n",
    "vis.show()"
   ],
   "metadata": {
    "collapsed": false,
    "pycharm": {
     "name": "#%%\n"
    }
   }
  },
  {
   "cell_type": "markdown",
   "source": [
    "Calculate the probability for each year"
   ],
   "metadata": {
    "collapsed": false
   }
  },
  {
   "cell_type": "code",
   "execution_count": 7,
   "outputs": [
    {
     "data": {
      "text/plain": "         source  target\nedge ID                \n0             1       0\n1             2       0\n2             2       1\n3             3       0\n4             3       1\n...         ...     ...\n2343         72      62\n2344         72      63\n2345         72      64\n2346         72      65\n2347         72      66\n\n[2348 rows x 2 columns]",
      "text/html": "<div>\n<style scoped>\n    .dataframe tbody tr th:only-of-type {\n        vertical-align: middle;\n    }\n\n    .dataframe tbody tr th {\n        vertical-align: top;\n    }\n\n    .dataframe thead th {\n        text-align: right;\n    }\n</style>\n<table border=\"1\" class=\"dataframe\">\n  <thead>\n    <tr style=\"text-align: right;\">\n      <th></th>\n      <th>source</th>\n      <th>target</th>\n    </tr>\n    <tr>\n      <th>edge ID</th>\n      <th></th>\n      <th></th>\n    </tr>\n  </thead>\n  <tbody>\n    <tr>\n      <th>0</th>\n      <td>1</td>\n      <td>0</td>\n    </tr>\n    <tr>\n      <th>1</th>\n      <td>2</td>\n      <td>0</td>\n    </tr>\n    <tr>\n      <th>2</th>\n      <td>2</td>\n      <td>1</td>\n    </tr>\n    <tr>\n      <th>3</th>\n      <td>3</td>\n      <td>0</td>\n    </tr>\n    <tr>\n      <th>4</th>\n      <td>3</td>\n      <td>1</td>\n    </tr>\n    <tr>\n      <th>...</th>\n      <td>...</td>\n      <td>...</td>\n    </tr>\n    <tr>\n      <th>2343</th>\n      <td>72</td>\n      <td>62</td>\n    </tr>\n    <tr>\n      <th>2344</th>\n      <td>72</td>\n      <td>63</td>\n    </tr>\n    <tr>\n      <th>2345</th>\n      <td>72</td>\n      <td>64</td>\n    </tr>\n    <tr>\n      <th>2346</th>\n      <td>72</td>\n      <td>65</td>\n    </tr>\n    <tr>\n      <th>2347</th>\n      <td>72</td>\n      <td>66</td>\n    </tr>\n  </tbody>\n</table>\n<p>2348 rows × 2 columns</p>\n</div>"
     },
     "execution_count": 7,
     "metadata": {},
     "output_type": "execute_result"
    }
   ],
   "source": [
    "# potential graph\n",
    "year_gap = 1\n",
    "\n",
    "g_full = Graph(directed=True)\n",
    "g_full.add_vertices(73)\n",
    "g_full.vs['name'] = study\n",
    "g_full.vs[\"label\"] = g_full.vs[\"name\"]\n",
    "g_full.vs['outcome'] = outcome\n",
    "g_full.vs['Year'] = attr_list['YearOnline']\n",
    "\n",
    "full_edge_list=[]\n",
    "\n",
    "for i in g_full.vs.indices:\n",
    "    for j in g_full.vs.indices:\n",
    "        if i>j and (g.vs[i]['Year']-g.vs[j]['Year']>=year_gap):\n",
    "            full_edge_list.append((i,j))\n",
    "            g_full.add_edge(source=i,target=j)\n",
    "g_full.get_edge_dataframe()"
   ],
   "metadata": {
    "collapsed": false,
    "pycharm": {
     "name": "#%%\n"
    }
   }
  },
  {
   "cell_type": "code",
   "execution_count": 8,
   "outputs": [
    {
     "data": {
      "text/plain": "2003      1\n2004      8\n2005     24\n2006     80\n2007    198\n2008    232\n2009    407\n2010    336\n2011    660\n2012    402\ndtype: int64"
     },
     "execution_count": 8,
     "metadata": {},
     "output_type": "execute_result"
    }
   ],
   "source": [
    "Year_source = np.unique(g.vs(g_full.get_edge_dataframe().source)['Year'])\n",
    "prob = [len(g.es.select(_source_in=g.vs.select(Year=year).indices))\n",
    "        /len(g_full.es.select(_source_in=g_full.vs.select(Year=year).indices)) for year in Year_source]\n",
    "# replace the first 0 with 0.5\n",
    "prob[0] = 0.5\n",
    "prob = pd.Series(prob,index=Year_source)\n",
    "n = [len(g_full.es.select(_source_in=g_full.vs.select(Year=year).indices)) for year in Year_source]\n",
    "num = pd.Series(n,index=Year_source)\n",
    "num"
   ],
   "metadata": {
    "collapsed": false,
    "pycharm": {
     "name": "#%%\n"
    }
   }
  },
  {
   "cell_type": "markdown",
   "source": [
    "Create the simulated network"
   ],
   "metadata": {
    "collapsed": false
   }
  },
  {
   "cell_type": "code",
   "execution_count": 9,
   "outputs": [],
   "source": [
    "# initialize simulated network g_sim\n",
    "g_sim = Graph(directed=True)\n",
    "g_sim.add_vertices(73)\n",
    "g_sim.vs['name'] = study\n",
    "g_sim.vs[\"label\"] = g_sim.vs[\"name\"]\n",
    "g_sim.vs['outcome'] = outcome\n",
    "g_sim.vs[\"color\"] = 'light blue'\n",
    "g_sim.vs['Year'] = attr_list['YearOnline']\n",
    "\n",
    "sim_edge_list = []"
   ],
   "metadata": {
    "collapsed": false,
    "pycharm": {
     "name": "#%%\n"
    }
   }
  },
  {
   "cell_type": "code",
   "execution_count": 10,
   "outputs": [],
   "source": [
    "# construct graph\n",
    "random.seed(1)\n",
    "for year in Year_source:\n",
    "    g_full.es.select(_source_in=g_full.vs.select(Year=year).indices)['Citation']=bernoulli.rvs(prob[year],size=num[year])\n",
    "\n",
    "edge_dataframe = g_full.get_edge_dataframe()\n",
    "sim_edge_dataframe = edge_dataframe.loc[edge_dataframe['Citation']==1]\n",
    "\n",
    "for i in range(0,sim_edge_dataframe.shape[0]):\n",
    "    sim_edge_list.append((sim_edge_dataframe.iloc[i,]['source'],sim_edge_dataframe.iloc[i,]['target']))\n",
    "    g_sim.add_edge(source=sim_edge_dataframe.iloc[i,]['source'],target=sim_edge_dataframe.iloc[i,]['target'])\n",
    "\n",
    "vis = plot(g_sim,layout=\"kk\", margin=50,bbox=(600,600),vertex_label_size=10,edge_arrow_size=0.5,edge_arrow_width=1.5)\n",
    "vis.show()"
   ],
   "metadata": {
    "collapsed": false,
    "pycharm": {
     "name": "#%%\n"
    }
   }
  },
  {
   "cell_type": "code",
   "execution_count": 11,
   "outputs": [
    {
     "data": {
      "text/plain": "498"
     },
     "execution_count": 11,
     "metadata": {},
     "output_type": "execute_result"
    }
   ],
   "source": [
    "len(g_sim.es)"
   ],
   "metadata": {
    "collapsed": false,
    "pycharm": {
     "name": "#%%\n"
    }
   }
  }
 ],
 "metadata": {
  "kernelspec": {
   "display_name": "Python 3",
   "language": "python",
   "name": "python3"
  },
  "language_info": {
   "codemirror_mode": {
    "name": "ipython",
    "version": 2
   },
   "file_extension": ".py",
   "mimetype": "text/x-python",
   "name": "python",
   "nbconvert_exporter": "python",
   "pygments_lexer": "ipython2",
   "version": "2.7.6"
  }
 },
 "nbformat": 4,
 "nbformat_minor": 0
}